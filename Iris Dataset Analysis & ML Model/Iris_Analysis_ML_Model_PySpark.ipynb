{
  "nbformat": 4,
  "nbformat_minor": 0,
  "metadata": {
    "colab": {
      "provenance": [],
      "authorship_tag": "ABX9TyP4Muykir1m1Ys8LzJIb1al",
      "include_colab_link": true
    },
    "kernelspec": {
      "name": "python3",
      "display_name": "Python 3"
    },
    "language_info": {
      "name": "python"
    }
  },
  "cells": [
    {
      "cell_type": "markdown",
      "metadata": {
        "id": "view-in-github",
        "colab_type": "text"
      },
      "source": [
        "<a href=\"https://colab.research.google.com/github/mohammadreza-mohammadi94/PySpark-Analytics-Hub/blob/main/Iris%20Dataset%20Analysis%20%26%20ML%20Model/Iris_Analysis_ML_Model_PySpark.ipynb\" target=\"_parent\"><img src=\"https://colab.research.google.com/assets/colab-badge.svg\" alt=\"Open In Colab\"/></a>"
      ]
    },
    {
      "cell_type": "markdown",
      "source": [
        "# Download Dataset"
      ],
      "metadata": {
        "id": "HdzVnWfM9FC5"
      }
    },
    {
      "cell_type": "code",
      "execution_count": 6,
      "metadata": {
        "colab": {
          "base_uri": "https://localhost:8080/"
        },
        "id": "nw8t4VL4y67B",
        "outputId": "80ecc6d4-365b-485b-b357-b28c57c299c8"
      },
      "outputs": [
        {
          "output_type": "stream",
          "name": "stdout",
          "text": [
            "Dataset URL: https://www.kaggle.com/datasets/uciml/iris\n",
            "License(s): CC0-1.0\n",
            "iris.zip: Skipping, found more recently modified local copy (use --force to force download)\n",
            "Archive:  iris.zip\n",
            "  inflating: Iris.csv                \n",
            "  inflating: database.sqlite         \n"
          ]
        }
      ],
      "source": [
        "!kaggle datasets download uciml/iris\n",
        "!unzip iris.zip"
      ]
    },
    {
      "cell_type": "markdown",
      "source": [
        "# Import Libraries"
      ],
      "metadata": {
        "id": "HLCf4-Fu9G70"
      }
    },
    {
      "cell_type": "code",
      "source": [
        "from pyspark.sql import SparkSession\n",
        "import pyspark.sql.functions as f"
      ],
      "metadata": {
        "id": "MOlRrDtyzbBV"
      },
      "execution_count": 38,
      "outputs": []
    },
    {
      "cell_type": "markdown",
      "source": [
        "# Initialize SparkSession"
      ],
      "metadata": {
        "id": "E_YsAw_z9Im6"
      }
    },
    {
      "cell_type": "code",
      "source": [
        "spark = SparkSession.builder.appName(\"Iris\").getOrCreate()"
      ],
      "metadata": {
        "id": "tIdobxPn1tQQ"
      },
      "execution_count": 4,
      "outputs": []
    },
    {
      "cell_type": "markdown",
      "source": [
        "# Import Dataset"
      ],
      "metadata": {
        "id": "WZ88diF99Ka8"
      }
    },
    {
      "cell_type": "code",
      "source": [
        "df = (\n",
        "    spark.read.csv(\n",
        "        path=r\"/content/Iris.csv\",\n",
        "        sep=\",\",\n",
        "        header=True,\n",
        "        inferSchema=True\n",
        "    )\n",
        ")"
      ],
      "metadata": {
        "id": "owc6K7GJ12qQ"
      },
      "execution_count": 57,
      "outputs": []
    },
    {
      "cell_type": "markdown",
      "source": [
        "# Check Dataset"
      ],
      "metadata": {
        "id": "imvi4TAt9Mi_"
      }
    },
    {
      "cell_type": "code",
      "source": [
        "df.printSchema()"
      ],
      "metadata": {
        "colab": {
          "base_uri": "https://localhost:8080/"
        },
        "id": "QK2_H6Ze2foT",
        "outputId": "a5f0445e-2a1c-402f-e86d-58404d5001eb"
      },
      "execution_count": 12,
      "outputs": [
        {
          "output_type": "stream",
          "name": "stdout",
          "text": [
            "root\n",
            " |-- Id: integer (nullable = true)\n",
            " |-- SepalLengthCm: double (nullable = true)\n",
            " |-- SepalWidthCm: double (nullable = true)\n",
            " |-- PetalLengthCm: double (nullable = true)\n",
            " |-- PetalWidthCm: double (nullable = true)\n",
            " |-- Species: string (nullable = true)\n",
            "\n"
          ]
        }
      ]
    },
    {
      "cell_type": "code",
      "source": [
        "df.show()"
      ],
      "metadata": {
        "colab": {
          "base_uri": "https://localhost:8080/"
        },
        "id": "NIZXfhGf3GVZ",
        "outputId": "e033fb5e-1d7b-46a1-8617-51f87e4bd927"
      },
      "execution_count": 13,
      "outputs": [
        {
          "output_type": "stream",
          "name": "stdout",
          "text": [
            "+---+-------------+------------+-------------+------------+-----------+\n",
            "| Id|SepalLengthCm|SepalWidthCm|PetalLengthCm|PetalWidthCm|    Species|\n",
            "+---+-------------+------------+-------------+------------+-----------+\n",
            "|  1|          5.1|         3.5|          1.4|         0.2|Iris-setosa|\n",
            "|  2|          4.9|         3.0|          1.4|         0.2|Iris-setosa|\n",
            "|  3|          4.7|         3.2|          1.3|         0.2|Iris-setosa|\n",
            "|  4|          4.6|         3.1|          1.5|         0.2|Iris-setosa|\n",
            "|  5|          5.0|         3.6|          1.4|         0.2|Iris-setosa|\n",
            "|  6|          5.4|         3.9|          1.7|         0.4|Iris-setosa|\n",
            "|  7|          4.6|         3.4|          1.4|         0.3|Iris-setosa|\n",
            "|  8|          5.0|         3.4|          1.5|         0.2|Iris-setosa|\n",
            "|  9|          4.4|         2.9|          1.4|         0.2|Iris-setosa|\n",
            "| 10|          4.9|         3.1|          1.5|         0.1|Iris-setosa|\n",
            "| 11|          5.4|         3.7|          1.5|         0.2|Iris-setosa|\n",
            "| 12|          4.8|         3.4|          1.6|         0.2|Iris-setosa|\n",
            "| 13|          4.8|         3.0|          1.4|         0.1|Iris-setosa|\n",
            "| 14|          4.3|         3.0|          1.1|         0.1|Iris-setosa|\n",
            "| 15|          5.8|         4.0|          1.2|         0.2|Iris-setosa|\n",
            "| 16|          5.7|         4.4|          1.5|         0.4|Iris-setosa|\n",
            "| 17|          5.4|         3.9|          1.3|         0.4|Iris-setosa|\n",
            "| 18|          5.1|         3.5|          1.4|         0.3|Iris-setosa|\n",
            "| 19|          5.7|         3.8|          1.7|         0.3|Iris-setosa|\n",
            "| 20|          5.1|         3.8|          1.5|         0.3|Iris-setosa|\n",
            "+---+-------------+------------+-------------+------------+-----------+\n",
            "only showing top 20 rows\n",
            "\n"
          ]
        }
      ]
    },
    {
      "cell_type": "code",
      "source": [
        "# Count unique values of species\n",
        "df.select(f.count_distinct('Species')).show()"
      ],
      "metadata": {
        "colab": {
          "base_uri": "https://localhost:8080/"
        },
        "id": "74yxju163IGm",
        "outputId": "5c3fc04d-fce2-4904-d7e5-3e53d7da6042"
      },
      "execution_count": 42,
      "outputs": [
        {
          "output_type": "stream",
          "name": "stdout",
          "text": [
            "+-----------------------+\n",
            "|count(DISTINCT Species)|\n",
            "+-----------------------+\n",
            "|                      3|\n",
            "+-----------------------+\n",
            "\n"
          ]
        }
      ]
    },
    {
      "cell_type": "code",
      "source": [
        "# Check unique values of species\n",
        "df.select('Species').distinct().show()"
      ],
      "metadata": {
        "colab": {
          "base_uri": "https://localhost:8080/"
        },
        "id": "J4MS34zg9m2t",
        "outputId": "a62f8a3d-28e5-4166-f021-c1015f544497"
      },
      "execution_count": 43,
      "outputs": [
        {
          "output_type": "stream",
          "name": "stdout",
          "text": [
            "+---------------+\n",
            "|        Species|\n",
            "+---------------+\n",
            "| Iris-virginica|\n",
            "|    Iris-setosa|\n",
            "|Iris-versicolor|\n",
            "+---------------+\n",
            "\n"
          ]
        }
      ]
    },
    {
      "cell_type": "code",
      "source": [
        "species = df.select('Species')\n",
        "species.sample(withReplacement=False, fraction=15/species.count(), seed=42).show()"
      ],
      "metadata": {
        "colab": {
          "base_uri": "https://localhost:8080/"
        },
        "id": "wK6kLuiL5YNX",
        "outputId": "cd2a041f-9e07-4a98-a4a0-5d1747f2e7ed"
      },
      "execution_count": 52,
      "outputs": [
        {
          "output_type": "stream",
          "name": "stdout",
          "text": [
            "+---------------+\n",
            "|        Species|\n",
            "+---------------+\n",
            "|    Iris-setosa|\n",
            "|    Iris-setosa|\n",
            "|    Iris-setosa|\n",
            "|Iris-versicolor|\n",
            "|Iris-versicolor|\n",
            "|Iris-versicolor|\n",
            "|Iris-versicolor|\n",
            "|Iris-versicolor|\n",
            "|Iris-versicolor|\n",
            "|Iris-versicolor|\n",
            "|Iris-versicolor|\n",
            "| Iris-virginica|\n",
            "| Iris-virginica|\n",
            "| Iris-virginica|\n",
            "| Iris-virginica|\n",
            "| Iris-virginica|\n",
            "| Iris-virginica|\n",
            "| Iris-virginica|\n",
            "| Iris-virginica|\n",
            "+---------------+\n",
            "\n"
          ]
        }
      ]
    },
    {
      "cell_type": "code",
      "source": [
        "df.summary().show()"
      ],
      "metadata": {
        "colab": {
          "base_uri": "https://localhost:8080/"
        },
        "id": "WueU2EOn69QJ",
        "outputId": "1f2e94c2-467e-4ebe-ac39-803e1bc6148d"
      },
      "execution_count": 36,
      "outputs": [
        {
          "output_type": "stream",
          "name": "stdout",
          "text": [
            "+-------+------------------+------------------+-------------------+------------------+------------------+--------------+\n",
            "|summary|                Id|     SepalLengthCm|       SepalWidthCm|     PetalLengthCm|      PetalWidthCm|       Species|\n",
            "+-------+------------------+------------------+-------------------+------------------+------------------+--------------+\n",
            "|  count|               150|               150|                150|               150|               150|           150|\n",
            "|   mean|              75.5| 5.843333333333335| 3.0540000000000007|3.7586666666666693|1.1986666666666672|          NULL|\n",
            "| stddev|43.445367992456916|0.8280661279778637|0.43359431136217375| 1.764420419952262|0.7631607417008414|          NULL|\n",
            "|    min|                 1|               4.3|                2.0|               1.0|               0.1|   Iris-setosa|\n",
            "|    25%|                38|               5.1|                2.8|               1.6|               0.3|          NULL|\n",
            "|    50%|                75|               5.8|                3.0|               4.3|               1.3|          NULL|\n",
            "|    75%|               113|               6.4|                3.3|               5.1|               1.8|          NULL|\n",
            "|    max|               150|               7.9|                4.4|               6.9|               2.5|Iris-virginica|\n",
            "+-------+------------------+------------------+-------------------+------------------+------------------+--------------+\n",
            "\n"
          ]
        }
      ]
    },
    {
      "cell_type": "code",
      "source": [
        "def check_nans(df):\n",
        "    # Show the number of null values in each column\n",
        "    return df.select([f.count(f.when(f.col(c).isNull(), c)).alias(c) for c in df.columns]).show()"
      ],
      "metadata": {
        "id": "hpE4ZwrK7arh"
      },
      "execution_count": 39,
      "outputs": []
    },
    {
      "cell_type": "code",
      "source": [
        "check_nans(df)"
      ],
      "metadata": {
        "colab": {
          "base_uri": "https://localhost:8080/"
        },
        "id": "5OIWBxcZ7iv3",
        "outputId": "26d75816-3d41-42e2-aff7-8dfa951679ad"
      },
      "execution_count": 40,
      "outputs": [
        {
          "output_type": "stream",
          "name": "stdout",
          "text": [
            "+---+-------------+------------+-------------+------------+-------+\n",
            "| Id|SepalLengthCm|SepalWidthCm|PetalLengthCm|PetalWidthCm|Species|\n",
            "+---+-------------+------------+-------------+------------+-------+\n",
            "|  0|            0|           0|            0|           0|      0|\n",
            "+---+-------------+------------+-------------+------------+-------+\n",
            "\n"
          ]
        }
      ]
    },
    {
      "cell_type": "markdown",
      "source": [
        "# Preprocessing"
      ],
      "metadata": {
        "id": "LQAUfGLU-cGM"
      }
    },
    {
      "cell_type": "markdown",
      "source": [
        "### Handle Missing Value\n",
        "__Here is supposed that dataframe contains NaNs__"
      ],
      "metadata": {
        "id": "NgXTIEbm-0Jf"
      }
    },
    {
      "cell_type": "code",
      "source": [
        "# Filling Missing Values\n",
        "df = df.fillna({\n",
        "    'SepalLengthCm': df.select(f.mean('SepalLengthCm')).collect()[0][0],\n",
        "    'SepalWidthCm': df.select(f.mean('SepalWidthCm')).collect()[0][0],\n",
        "    'PetalLengthCm': df.select(f.mean('PetalLengthCm')).collect()[0][0],\n",
        "    'PetalWidthCm': df.select(f.mean('SepalLengthCm')).collect()[0][0],\n",
        "})\n",
        "\n",
        "df.show()"
      ],
      "metadata": {
        "colab": {
          "base_uri": "https://localhost:8080/"
        },
        "id": "gsa7Npw57y5K",
        "outputId": "4d965e32-49d2-4ecd-e8b6-d50d1ed9a8e3"
      },
      "execution_count": 58,
      "outputs": [
        {
          "output_type": "stream",
          "name": "stdout",
          "text": [
            "+---+-------------+------------+-------------+------------+-----------+\n",
            "| Id|SepalLengthCm|SepalWidthCm|PetalLengthCm|PetalWidthCm|    Species|\n",
            "+---+-------------+------------+-------------+------------+-----------+\n",
            "|  1|          5.1|         3.5|          1.4|         0.2|Iris-setosa|\n",
            "|  2|          4.9|         3.0|          1.4|         0.2|Iris-setosa|\n",
            "|  3|          4.7|         3.2|          1.3|         0.2|Iris-setosa|\n",
            "|  4|          4.6|         3.1|          1.5|         0.2|Iris-setosa|\n",
            "|  5|          5.0|         3.6|          1.4|         0.2|Iris-setosa|\n",
            "|  6|          5.4|         3.9|          1.7|         0.4|Iris-setosa|\n",
            "|  7|          4.6|         3.4|          1.4|         0.3|Iris-setosa|\n",
            "|  8|          5.0|         3.4|          1.5|         0.2|Iris-setosa|\n",
            "|  9|          4.4|         2.9|          1.4|         0.2|Iris-setosa|\n",
            "| 10|          4.9|         3.1|          1.5|         0.1|Iris-setosa|\n",
            "| 11|          5.4|         3.7|          1.5|         0.2|Iris-setosa|\n",
            "| 12|          4.8|         3.4|          1.6|         0.2|Iris-setosa|\n",
            "| 13|          4.8|         3.0|          1.4|         0.1|Iris-setosa|\n",
            "| 14|          4.3|         3.0|          1.1|         0.1|Iris-setosa|\n",
            "| 15|          5.8|         4.0|          1.2|         0.2|Iris-setosa|\n",
            "| 16|          5.7|         4.4|          1.5|         0.4|Iris-setosa|\n",
            "| 17|          5.4|         3.9|          1.3|         0.4|Iris-setosa|\n",
            "| 18|          5.1|         3.5|          1.4|         0.3|Iris-setosa|\n",
            "| 19|          5.7|         3.8|          1.7|         0.3|Iris-setosa|\n",
            "| 20|          5.1|         3.8|          1.5|         0.3|Iris-setosa|\n",
            "+---+-------------+------------+-------------+------------+-----------+\n",
            "only showing top 20 rows\n",
            "\n"
          ]
        }
      ]
    },
    {
      "cell_type": "markdown",
      "source": [
        "### Categorical Encoding"
      ],
      "metadata": {
        "id": "6KWoiO6v-15Z"
      }
    },
    {
      "cell_type": "code",
      "source": [
        "from pyspark.ml.feature import StringIndexer\n",
        "\n",
        "indexer = StringIndexer(\n",
        "    inputCol='Species',\n",
        "    outputCol='Species_Indexed'\n",
        ")\n",
        "\n",
        "df = indexer.fit(df).transform(df)\n",
        "df.show()"
      ],
      "metadata": {
        "colab": {
          "base_uri": "https://localhost:8080/"
        },
        "id": "8vD_DOxG-w4E",
        "outputId": "1a6c974f-76dc-4f1c-b688-7e254d17a687"
      },
      "execution_count": 59,
      "outputs": [
        {
          "output_type": "stream",
          "name": "stdout",
          "text": [
            "+---+-------------+------------+-------------+------------+-----------+---------------+\n",
            "| Id|SepalLengthCm|SepalWidthCm|PetalLengthCm|PetalWidthCm|    Species|Species_Indexed|\n",
            "+---+-------------+------------+-------------+------------+-----------+---------------+\n",
            "|  1|          5.1|         3.5|          1.4|         0.2|Iris-setosa|            0.0|\n",
            "|  2|          4.9|         3.0|          1.4|         0.2|Iris-setosa|            0.0|\n",
            "|  3|          4.7|         3.2|          1.3|         0.2|Iris-setosa|            0.0|\n",
            "|  4|          4.6|         3.1|          1.5|         0.2|Iris-setosa|            0.0|\n",
            "|  5|          5.0|         3.6|          1.4|         0.2|Iris-setosa|            0.0|\n",
            "|  6|          5.4|         3.9|          1.7|         0.4|Iris-setosa|            0.0|\n",
            "|  7|          4.6|         3.4|          1.4|         0.3|Iris-setosa|            0.0|\n",
            "|  8|          5.0|         3.4|          1.5|         0.2|Iris-setosa|            0.0|\n",
            "|  9|          4.4|         2.9|          1.4|         0.2|Iris-setosa|            0.0|\n",
            "| 10|          4.9|         3.1|          1.5|         0.1|Iris-setosa|            0.0|\n",
            "| 11|          5.4|         3.7|          1.5|         0.2|Iris-setosa|            0.0|\n",
            "| 12|          4.8|         3.4|          1.6|         0.2|Iris-setosa|            0.0|\n",
            "| 13|          4.8|         3.0|          1.4|         0.1|Iris-setosa|            0.0|\n",
            "| 14|          4.3|         3.0|          1.1|         0.1|Iris-setosa|            0.0|\n",
            "| 15|          5.8|         4.0|          1.2|         0.2|Iris-setosa|            0.0|\n",
            "| 16|          5.7|         4.4|          1.5|         0.4|Iris-setosa|            0.0|\n",
            "| 17|          5.4|         3.9|          1.3|         0.4|Iris-setosa|            0.0|\n",
            "| 18|          5.1|         3.5|          1.4|         0.3|Iris-setosa|            0.0|\n",
            "| 19|          5.7|         3.8|          1.7|         0.3|Iris-setosa|            0.0|\n",
            "| 20|          5.1|         3.8|          1.5|         0.3|Iris-setosa|            0.0|\n",
            "+---+-------------+------------+-------------+------------+-----------+---------------+\n",
            "only showing top 20 rows\n",
            "\n"
          ]
        }
      ]
    },
    {
      "cell_type": "code",
      "source": [
        "# Check unique values of species\n",
        "df.select('Species_Indexed').distinct().show()"
      ],
      "metadata": {
        "colab": {
          "base_uri": "https://localhost:8080/"
        },
        "id": "HTedZKYr_Fp0",
        "outputId": "8477a81d-5413-4bed-c93f-0d092b53372c"
      },
      "execution_count": 60,
      "outputs": [
        {
          "output_type": "stream",
          "name": "stdout",
          "text": [
            "+---------------+\n",
            "|Species_Indexed|\n",
            "+---------------+\n",
            "|            0.0|\n",
            "|            1.0|\n",
            "|            2.0|\n",
            "+---------------+\n",
            "\n"
          ]
        }
      ]
    },
    {
      "cell_type": "markdown",
      "source": [
        "### Normalize Data"
      ],
      "metadata": {
        "id": "71y3yIwR_bG4"
      }
    },
    {
      "cell_type": "code",
      "source": [
        "from pyspark.ml.feature import StandardScaler, VectorAssembler\n",
        "from pyspark.ml.linalg import Vectors\n",
        "\n",
        "assembler = VectorAssembler(\n",
        "    inputCols=['SepalLengthCm', 'SepalWidthCm', 'PetalLengthCm', 'PetalWidthCm'],\n",
        "    outputCol='features'\n",
        ")\n",
        "\n",
        "df = assembler.transform(df)\n",
        "df.show()"
      ],
      "metadata": {
        "colab": {
          "base_uri": "https://localhost:8080/"
        },
        "id": "q8ezJ4rO_WcX",
        "outputId": "10c04ab0-f5bf-4ae8-b724-96a473c5e14d"
      },
      "execution_count": 62,
      "outputs": [
        {
          "output_type": "stream",
          "name": "stdout",
          "text": [
            "+---+-------------+------------+-------------+------------+-----------+---------------+-----------------+\n",
            "| Id|SepalLengthCm|SepalWidthCm|PetalLengthCm|PetalWidthCm|    Species|Species_Indexed|         features|\n",
            "+---+-------------+------------+-------------+------------+-----------+---------------+-----------------+\n",
            "|  1|          5.1|         3.5|          1.4|         0.2|Iris-setosa|            0.0|[5.1,3.5,1.4,0.2]|\n",
            "|  2|          4.9|         3.0|          1.4|         0.2|Iris-setosa|            0.0|[4.9,3.0,1.4,0.2]|\n",
            "|  3|          4.7|         3.2|          1.3|         0.2|Iris-setosa|            0.0|[4.7,3.2,1.3,0.2]|\n",
            "|  4|          4.6|         3.1|          1.5|         0.2|Iris-setosa|            0.0|[4.6,3.1,1.5,0.2]|\n",
            "|  5|          5.0|         3.6|          1.4|         0.2|Iris-setosa|            0.0|[5.0,3.6,1.4,0.2]|\n",
            "|  6|          5.4|         3.9|          1.7|         0.4|Iris-setosa|            0.0|[5.4,3.9,1.7,0.4]|\n",
            "|  7|          4.6|         3.4|          1.4|         0.3|Iris-setosa|            0.0|[4.6,3.4,1.4,0.3]|\n",
            "|  8|          5.0|         3.4|          1.5|         0.2|Iris-setosa|            0.0|[5.0,3.4,1.5,0.2]|\n",
            "|  9|          4.4|         2.9|          1.4|         0.2|Iris-setosa|            0.0|[4.4,2.9,1.4,0.2]|\n",
            "| 10|          4.9|         3.1|          1.5|         0.1|Iris-setosa|            0.0|[4.9,3.1,1.5,0.1]|\n",
            "| 11|          5.4|         3.7|          1.5|         0.2|Iris-setosa|            0.0|[5.4,3.7,1.5,0.2]|\n",
            "| 12|          4.8|         3.4|          1.6|         0.2|Iris-setosa|            0.0|[4.8,3.4,1.6,0.2]|\n",
            "| 13|          4.8|         3.0|          1.4|         0.1|Iris-setosa|            0.0|[4.8,3.0,1.4,0.1]|\n",
            "| 14|          4.3|         3.0|          1.1|         0.1|Iris-setosa|            0.0|[4.3,3.0,1.1,0.1]|\n",
            "| 15|          5.8|         4.0|          1.2|         0.2|Iris-setosa|            0.0|[5.8,4.0,1.2,0.2]|\n",
            "| 16|          5.7|         4.4|          1.5|         0.4|Iris-setosa|            0.0|[5.7,4.4,1.5,0.4]|\n",
            "| 17|          5.4|         3.9|          1.3|         0.4|Iris-setosa|            0.0|[5.4,3.9,1.3,0.4]|\n",
            "| 18|          5.1|         3.5|          1.4|         0.3|Iris-setosa|            0.0|[5.1,3.5,1.4,0.3]|\n",
            "| 19|          5.7|         3.8|          1.7|         0.3|Iris-setosa|            0.0|[5.7,3.8,1.7,0.3]|\n",
            "| 20|          5.1|         3.8|          1.5|         0.3|Iris-setosa|            0.0|[5.1,3.8,1.5,0.3]|\n",
            "+---+-------------+------------+-------------+------------+-----------+---------------+-----------------+\n",
            "only showing top 20 rows\n",
            "\n"
          ]
        }
      ]
    },
    {
      "cell_type": "code",
      "source": [
        "# StandardScaler\n",
        "\n",
        "scaler = StandardScaler(\n",
        "    inputCol='features',\n",
        "    outputCol='scaled_features'\n",
        ")\n",
        "\n",
        "scaler_model = scaler.fit(df)\n",
        "df = scaler_model.transform(df)\n",
        "df.show()"
      ],
      "metadata": {
        "colab": {
          "base_uri": "https://localhost:8080/"
        },
        "id": "UNeagxgI_rU7",
        "outputId": "8aa78ddc-8ba0-4beb-ed91-432810ab28f3"
      },
      "execution_count": 63,
      "outputs": [
        {
          "output_type": "stream",
          "name": "stdout",
          "text": [
            "+---+-------------+------------+-------------+------------+-----------+---------------+-----------------+--------------------+\n",
            "| Id|SepalLengthCm|SepalWidthCm|PetalLengthCm|PetalWidthCm|    Species|Species_Indexed|         features|     scaled_features|\n",
            "+---+-------------+------------+-------------+------------+-----------+---------------+-----------------+--------------------+\n",
            "|  1|          5.1|         3.5|          1.4|         0.2|Iris-setosa|            0.0|[5.1,3.5,1.4,0.2]|[6.15892840883878...|\n",
            "|  2|          4.9|         3.0|          1.4|         0.2|Iris-setosa|            0.0|[4.9,3.0,1.4,0.2]|[5.9174018045706,...|\n",
            "|  3|          4.7|         3.2|          1.3|         0.2|Iris-setosa|            0.0|[4.7,3.2,1.3,0.2]|[5.67587520030241...|\n",
            "|  4|          4.6|         3.1|          1.5|         0.2|Iris-setosa|            0.0|[4.6,3.1,1.5,0.2]|[5.55511189816831...|\n",
            "|  5|          5.0|         3.6|          1.4|         0.2|Iris-setosa|            0.0|[5.0,3.6,1.4,0.2]|[6.03816510670469...|\n",
            "|  6|          5.4|         3.9|          1.7|         0.4|Iris-setosa|            0.0|[5.4,3.9,1.7,0.4]|[6.52121831524107...|\n",
            "|  7|          4.6|         3.4|          1.4|         0.3|Iris-setosa|            0.0|[4.6,3.4,1.4,0.3]|[5.55511189816831...|\n",
            "|  8|          5.0|         3.4|          1.5|         0.2|Iris-setosa|            0.0|[5.0,3.4,1.5,0.2]|[6.03816510670469...|\n",
            "|  9|          4.4|         2.9|          1.4|         0.2|Iris-setosa|            0.0|[4.4,2.9,1.4,0.2]|[5.31358529390013...|\n",
            "| 10|          4.9|         3.1|          1.5|         0.1|Iris-setosa|            0.0|[4.9,3.1,1.5,0.1]|[5.9174018045706,...|\n",
            "| 11|          5.4|         3.7|          1.5|         0.2|Iris-setosa|            0.0|[5.4,3.7,1.5,0.2]|[6.52121831524107...|\n",
            "| 12|          4.8|         3.4|          1.6|         0.2|Iris-setosa|            0.0|[4.8,3.4,1.6,0.2]|[5.79663850243650...|\n",
            "| 13|          4.8|         3.0|          1.4|         0.1|Iris-setosa|            0.0|[4.8,3.0,1.4,0.1]|[5.79663850243650...|\n",
            "| 14|          4.3|         3.0|          1.1|         0.1|Iris-setosa|            0.0|[4.3,3.0,1.1,0.1]|[5.19282199176603...|\n",
            "| 15|          5.8|         4.0|          1.2|         0.2|Iris-setosa|            0.0|[5.8,4.0,1.2,0.2]|[7.00427152377744...|\n",
            "| 16|          5.7|         4.4|          1.5|         0.4|Iris-setosa|            0.0|[5.7,4.4,1.5,0.4]|[6.88350822164335...|\n",
            "| 17|          5.4|         3.9|          1.3|         0.4|Iris-setosa|            0.0|[5.4,3.9,1.3,0.4]|[6.52121831524107...|\n",
            "| 18|          5.1|         3.5|          1.4|         0.3|Iris-setosa|            0.0|[5.1,3.5,1.4,0.3]|[6.15892840883878...|\n",
            "| 19|          5.7|         3.8|          1.7|         0.3|Iris-setosa|            0.0|[5.7,3.8,1.7,0.3]|[6.88350822164335...|\n",
            "| 20|          5.1|         3.8|          1.5|         0.3|Iris-setosa|            0.0|[5.1,3.8,1.5,0.3]|[6.15892840883878...|\n",
            "+---+-------------+------------+-------------+------------+-----------+---------------+-----------------+--------------------+\n",
            "only showing top 20 rows\n",
            "\n"
          ]
        }
      ]
    },
    {
      "cell_type": "code",
      "source": [
        "# Save preprocessed dataframe\n",
        "df.toPandas().to_csv('preprocessed_iris.csv', index=False)"
      ],
      "metadata": {
        "id": "QPLthFaI_9AE"
      },
      "execution_count": 66,
      "outputs": []
    },
    {
      "cell_type": "markdown",
      "source": [
        "# PySpark Modelling"
      ],
      "metadata": {
        "id": "YTi3SRG3AhWV"
      }
    },
    {
      "cell_type": "code",
      "source": [
        "train, test = df.randomSplit([0.8, 0.2], seed=42)"
      ],
      "metadata": {
        "id": "hkrX5r--C7dd"
      },
      "execution_count": 74,
      "outputs": []
    },
    {
      "cell_type": "code",
      "source": [
        "from pyspark.ml.classification import DecisionTreeClassifier\n",
        "from pyspark.ml.evaluation import MulticlassClassificationEvaluator\n",
        "from pyspark.ml.tuning import CrossValidator, ParamGridBuilder\n",
        "\n",
        "dt_model = DecisionTreeClassifier(\n",
        "    labelCol='Species_Indexed',\n",
        "    featuresCol='scaled_features',\n",
        "    predictionCol='prediction'\n",
        ")\n",
        "\n",
        "evaluator = MulticlassClassificationEvaluator(\n",
        "    labelCol='Species_Indexed',\n",
        "    predictionCol='prediction',\n",
        "    metricName='accuracy'\n",
        ")"
      ],
      "metadata": {
        "id": "jowYzlGOAL9S"
      },
      "execution_count": 71,
      "outputs": []
    },
    {
      "cell_type": "code",
      "source": [
        "# Define the parameter grid for hyperparameter tuning\n",
        "paramGrid = ParamGridBuilder() \\\n",
        "    .addGrid(dt_model.maxDepth, [5, 10, 15]) \\\n",
        "    .addGrid(dt_model.maxBins, [32, 64, 128]) \\\n",
        "    .build()\n",
        "\n",
        "# Set up cross-validation\n",
        "crossval = CrossValidator(\n",
        "    estimator=dt_model,\n",
        "    estimatorParamMaps=paramGrid,\n",
        "    evaluator=evaluator,\n",
        "    numFolds=5,\n",
        "    parallelism=2\n",
        ")\n",
        "\n",
        "# Train the model with cross-validation\n",
        "cvModel = crossval.fit(train)"
      ],
      "metadata": {
        "id": "rfwexuKMBhqm"
      },
      "execution_count": 75,
      "outputs": []
    },
    {
      "cell_type": "code",
      "source": [
        "# Make predictions on the test data\n",
        "predictions = cvModel.transform(test)\n",
        "\n",
        "# Evaluate the model using accuracy\n",
        "accuracy = evaluator.evaluate(predictions)\n",
        "print(f\"Test Accuracy: {accuracy}\")\n",
        "\n",
        "# Evaluate other metrics: precision, recall, and F1 score\n",
        "precision_evaluator = MulticlassClassificationEvaluator(labelCol=\"Species_Indexed\", predictionCol=\"prediction\", metricName=\"weightedPrecision\")\n",
        "recall_evaluator = MulticlassClassificationEvaluator(labelCol=\"Species_Indexed\", predictionCol=\"prediction\", metricName=\"weightedRecall\")\n",
        "f1_evaluator = MulticlassClassificationEvaluator(labelCol=\"Species_Indexed\", predictionCol=\"prediction\", metricName=\"f1\")\n",
        "\n",
        "precision = precision_evaluator.evaluate(predictions)\n",
        "recall = recall_evaluator.evaluate(predictions)\n",
        "f1 = f1_evaluator.evaluate(predictions)\n",
        "\n",
        "print(f\"Precision: {precision}\")\n",
        "print(f\"Recall: {recall}\")\n",
        "print(f\"F1 Score: {f1}\")"
      ],
      "metadata": {
        "colab": {
          "base_uri": "https://localhost:8080/"
        },
        "id": "UevRmNmoCyi8",
        "outputId": "1bcbc7ca-7038-4ced-8204-2664566edf04"
      },
      "execution_count": 80,
      "outputs": [
        {
          "output_type": "stream",
          "name": "stdout",
          "text": [
            "Test Accuracy: 0.9166666666666666\n",
            "Precision: 0.9166666666666666\n",
            "Recall: 0.9166666666666666\n",
            "F1 Score: 0.9166666666666667\n"
          ]
        }
      ]
    },
    {
      "cell_type": "code",
      "source": [
        "# Confusion Matrix\n",
        "# Get the confusion matrix\n",
        "from pyspark.mllib.evaluation import MulticlassMetrics\n",
        "\n",
        "# Convert predictions to RDD\n",
        "predictionAndLabels = predictions.select(\"prediction\", 'Species_Indexed').rdd\n",
        "\n",
        "# Instantiate the MulticlassMetrics\n",
        "metrics = MulticlassMetrics(predictionAndLabels)\n",
        "\n",
        "# Get the confusion matrix\n",
        "conf_matrix = metrics.confusionMatrix()\n",
        "print(\"Confusion Matrix:\")\n",
        "print(conf_matrix)\n"
      ],
      "metadata": {
        "colab": {
          "base_uri": "https://localhost:8080/"
        },
        "id": "biLvyv-kDZkF",
        "outputId": "beef58be-7998-4205-e4f7-644672f0b951"
      },
      "execution_count": 82,
      "outputs": [
        {
          "output_type": "stream",
          "name": "stderr",
          "text": [
            "/usr/local/lib/python3.10/dist-packages/pyspark/sql/context.py:158: FutureWarning: Deprecated in 3.0.0. Use SparkSession.builder.getOrCreate() instead.\n",
            "  warnings.warn(\n"
          ]
        },
        {
          "output_type": "stream",
          "name": "stdout",
          "text": [
            "Confusion Matrix:\n",
            "DenseMatrix([[12.,  0.,  0.],\n",
            "             [ 0.,  4.,  1.],\n",
            "             [ 0.,  1.,  6.]])\n"
          ]
        }
      ]
    },
    {
      "cell_type": "code",
      "source": [],
      "metadata": {
        "id": "8Rx3RdhoD1sv"
      },
      "execution_count": null,
      "outputs": []
    }
  ]
}