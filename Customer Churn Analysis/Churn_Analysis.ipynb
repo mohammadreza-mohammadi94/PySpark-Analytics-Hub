{
  "nbformat": 4,
  "nbformat_minor": 0,
  "metadata": {
    "colab": {
      "provenance": [],
      "authorship_tag": "ABX9TyMTYhGV0Ggjmln4/ZYyudrJ",
      "include_colab_link": true
    },
    "kernelspec": {
      "name": "python3",
      "display_name": "Python 3"
    },
    "language_info": {
      "name": "python"
    }
  },
  "cells": [
    {
      "cell_type": "markdown",
      "metadata": {
        "id": "view-in-github",
        "colab_type": "text"
      },
      "source": [
        "<a href=\"https://colab.research.google.com/github/mohammadreza-mohammadi94/PySpark-Analytics-Hub/blob/main/Customer%20Churn%20Analysis/Churn_Analysis.ipynb\" target=\"_parent\"><img src=\"https://colab.research.google.com/assets/colab-badge.svg\" alt=\"Open In Colab\"/></a>"
      ]
    },
    {
      "cell_type": "markdown",
      "source": [
        "# Setup Enviroment"
      ],
      "metadata": {
        "id": "sfWnzlqX8iWl"
      }
    },
    {
      "cell_type": "code",
      "execution_count": 1,
      "metadata": {
        "colab": {
          "base_uri": "https://localhost:8080/"
        },
        "id": "Vs4eDB2p7MpO",
        "outputId": "4d485b6e-938a-4994-e427-111f30c4e4b9"
      },
      "outputs": [
        {
          "output_type": "stream",
          "name": "stdout",
          "text": [
            "Dataset URL: https://www.kaggle.com/datasets/halimedogan/churn-dataset\n",
            "License(s): unknown\n",
            "Downloading churn-dataset.zip to /content\n",
            "\n",
            "Archive:  churn-dataset.zip\n",
            "  inflating: churn2.csv              \n"
          ]
        },
        {
          "output_type": "stream",
          "name": "stderr",
          "text": [
            "\r  0%|          | 0.00/262k [00:00<?, ?B/s]\r100%|██████████| 262k/262k [00:00<00:00, 73.3MB/s]\n"
          ]
        }
      ],
      "source": [
        "# !/bin/bash\n",
        "%%bash\n",
        "kaggle datasets download halimedogan/churn-dataset\n",
        "unzip churn-dataset.zip"
      ]
    },
    {
      "cell_type": "code",
      "source": [
        "%%bash\n",
        "# pip install sparkmagic"
      ],
      "metadata": {
        "id": "94IAxaEC7ac_"
      },
      "execution_count": 2,
      "outputs": []
    },
    {
      "cell_type": "markdown",
      "source": [
        "# Import Libraries"
      ],
      "metadata": {
        "id": "Di11MmCD8kAu"
      }
    },
    {
      "cell_type": "code",
      "source": [
        "import pandas  as pd\n",
        "import seaborn as sns\n",
        "import numpy as np\n",
        "from pyspark.ml.classification import GBTClassifier, RandomForestClassifier\n",
        "from pyspark.ml.evaluation import BinaryClassificationEvaluator, MulticlassClassificationEvaluator\n",
        "from pyspark.ml.feature import (StringIndexer,\n",
        "                                VectorAssembler,\n",
        "                                OneHotEncoder,\n",
        "                                StandardScaler,\n",
        "                                Bucketizer)\n",
        "from pyspark.ml import Pipeline\n",
        "from pyspark.ml.tuning import CrossValidator, ParamGridBuilder\n",
        "from pyspark.sql import SparkSession\n",
        "from pyspark.sql import functions as f\n",
        "from pyspark.sql.window import Window\n",
        "\n",
        "import warnings\n",
        "warnings.filterwarnings('ignore', category=DeprecationWarning)\n",
        "warnings.filterwarnings('ignore', category=FutureWarning)\n",
        "\n",
        "# Setup pandas option\n",
        "pd.set_option('display.max_columns', None)\n",
        "pd.set_option('display.float_format', lambda x: '%.3f' % x)"
      ],
      "metadata": {
        "id": "kVYKRYQ87h-i"
      },
      "execution_count": 32,
      "outputs": []
    },
    {
      "cell_type": "markdown",
      "source": [
        "# Setup Spark Session & Import DataFrame"
      ],
      "metadata": {
        "id": "pLHh3S-Z9WUB"
      }
    },
    {
      "cell_type": "code",
      "source": [
        "spark = SparkSession.builder.master(\"local[*]\").getOrCreate()"
      ],
      "metadata": {
        "id": "GgXjhJHB9UAC"
      },
      "execution_count": 4,
      "outputs": []
    },
    {
      "cell_type": "code",
      "source": [
        "spark_df = spark.read.csv('/content/churn2.csv',\n",
        "                          header=True,\n",
        "                          inferSchema=True)"
      ],
      "metadata": {
        "id": "8YqWisvA9pw8"
      },
      "execution_count": 6,
      "outputs": []
    },
    {
      "cell_type": "markdown",
      "source": [
        "# Data Analysis"
      ],
      "metadata": {
        "id": "yVdxfHuB9nTm"
      }
    },
    {
      "cell_type": "code",
      "source": [
        "spark_df.show(10)"
      ],
      "metadata": {
        "colab": {
          "base_uri": "https://localhost:8080/"
        },
        "id": "IloW01d09fob",
        "outputId": "9d664adb-08cf-41bf-c349-8561f74de95b"
      },
      "execution_count": 7,
      "outputs": [
        {
          "output_type": "stream",
          "name": "stdout",
          "text": [
            "+---------+----------+--------+-----------+---------+------+---+------+---------+-------------+---------+--------------+---------------+------+\n",
            "|RowNumber|CustomerId| Surname|CreditScore|Geography|Gender|Age|Tenure|  Balance|NumOfProducts|HasCrCard|IsActiveMember|EstimatedSalary|Exited|\n",
            "+---------+----------+--------+-----------+---------+------+---+------+---------+-------------+---------+--------------+---------------+------+\n",
            "|        1|  15634602|Hargrave|        619|   France|Female| 42|     2|      0.0|            1|        1|             1|      101348.88|     1|\n",
            "|        2|  15647311|    Hill|        608|    Spain|Female| 41|     1| 83807.86|            1|        0|             1|      112542.58|     0|\n",
            "|        3|  15619304|    Onio|        502|   France|Female| 42|     8| 159660.8|            3|        1|             0|      113931.57|     1|\n",
            "|        4|  15701354|    Boni|        699|   France|Female| 39|     1|      0.0|            2|        0|             0|       93826.63|     0|\n",
            "|        5|  15737888|Mitchell|        850|    Spain|Female| 43|     2|125510.82|            1|        1|             1|        79084.1|     0|\n",
            "|        6|  15574012|     Chu|        645|    Spain|  Male| 44|     8|113755.78|            2|        1|             0|      149756.71|     1|\n",
            "|        7|  15592531|Bartlett|        822|   France|  Male| 50|     7|      0.0|            2|        1|             1|        10062.8|     0|\n",
            "|        8|  15656148|  Obinna|        376|  Germany|Female| 29|     4|115046.74|            4|        1|             0|      119346.88|     1|\n",
            "|        9|  15792365|      He|        501|   France|  Male| 44|     4|142051.07|            2|        0|             1|        74940.5|     0|\n",
            "|       10|  15592389|      H?|        684|   France|  Male| 27|     2|134603.88|            1|        1|             1|       71725.73|     0|\n",
            "+---------+----------+--------+-----------+---------+------+---+------+---------+-------------+---------+--------------+---------------+------+\n",
            "only showing top 10 rows\n",
            "\n"
          ]
        }
      ]
    },
    {
      "cell_type": "code",
      "source": [
        "# Shape\n",
        "print(\"Shape: \",(spark_df.count(), len(spark_df.columns)))"
      ],
      "metadata": {
        "colab": {
          "base_uri": "https://localhost:8080/"
        },
        "id": "M0SV6yTL9270",
        "outputId": "4d89b1ba-1897-4d51-f5df-9169157a7d1e"
      },
      "execution_count": 8,
      "outputs": [
        {
          "output_type": "stream",
          "name": "stdout",
          "text": [
            "Shape:  (10000, 14)\n"
          ]
        }
      ]
    },
    {
      "cell_type": "code",
      "source": [
        "# Check Schema\n",
        "spark_df.printSchema()"
      ],
      "metadata": {
        "colab": {
          "base_uri": "https://localhost:8080/"
        },
        "id": "93B0Guw--Abs",
        "outputId": "fb099e68-2a42-4613-c21b-0f4d494184a6"
      },
      "execution_count": 9,
      "outputs": [
        {
          "output_type": "stream",
          "name": "stdout",
          "text": [
            "root\n",
            " |-- RowNumber: integer (nullable = true)\n",
            " |-- CustomerId: integer (nullable = true)\n",
            " |-- Surname: string (nullable = true)\n",
            " |-- CreditScore: integer (nullable = true)\n",
            " |-- Geography: string (nullable = true)\n",
            " |-- Gender: string (nullable = true)\n",
            " |-- Age: integer (nullable = true)\n",
            " |-- Tenure: integer (nullable = true)\n",
            " |-- Balance: double (nullable = true)\n",
            " |-- NumOfProducts: integer (nullable = true)\n",
            " |-- HasCrCard: integer (nullable = true)\n",
            " |-- IsActiveMember: integer (nullable = true)\n",
            " |-- EstimatedSalary: double (nullable = true)\n",
            " |-- Exited: integer (nullable = true)\n",
            "\n"
          ]
        }
      ]
    },
    {
      "cell_type": "code",
      "source": [
        "# Check Statistical Summary\n",
        "spark_df.describe().toPandas().transpose()"
      ],
      "metadata": {
        "id": "vuMih2wQ-GFW"
      },
      "execution_count": null,
      "outputs": []
    },
    {
      "cell_type": "code",
      "source": [
        "# Check exited customer\n",
        "spark_df.groupby('exited').count().show()"
      ],
      "metadata": {
        "colab": {
          "base_uri": "https://localhost:8080/"
        },
        "id": "73ESpWVt-Yf2",
        "outputId": "b1a73b11-daf6-41dc-d3eb-5f4192d37c20"
      },
      "execution_count": 10,
      "outputs": [
        {
          "output_type": "stream",
          "name": "stdout",
          "text": [
            "+------+-----+\n",
            "|exited|count|\n",
            "+------+-----+\n",
            "|     1| 2037|\n",
            "|     0| 7963|\n",
            "+------+-----+\n",
            "\n"
          ]
        }
      ]
    },
    {
      "cell_type": "code",
      "source": [
        "# Check customers who have credit card\n",
        "spark_df.groupby('HasCrCard').count().show()"
      ],
      "metadata": {
        "colab": {
          "base_uri": "https://localhost:8080/"
        },
        "id": "GqfdzSdA-iiw",
        "outputId": "e5f4b569-c3aa-427b-a559-e339ffb5631b"
      },
      "execution_count": 11,
      "outputs": [
        {
          "output_type": "stream",
          "name": "stdout",
          "text": [
            "+---------+-----+\n",
            "|HasCrCard|count|\n",
            "+---------+-----+\n",
            "|        1| 7055|\n",
            "|        0| 2945|\n",
            "+---------+-----+\n",
            "\n"
          ]
        }
      ]
    },
    {
      "cell_type": "code",
      "source": [
        "# Groupby exited customer with their estimated salayar and whether have credit card or no\n",
        "spark_df.groupby(\"Exited\").agg({\"EstimatedSalary\": \"mean\", 'HasCrCard': \"count\"}).show()"
      ],
      "metadata": {
        "colab": {
          "base_uri": "https://localhost:8080/"
        },
        "id": "mnwbJ94I-5QS",
        "outputId": "82088c2a-876d-47c5-bc39-3a8f9faa52d3"
      },
      "execution_count": 12,
      "outputs": [
        {
          "output_type": "stream",
          "name": "stdout",
          "text": [
            "+------+----------------+--------------------+\n",
            "|Exited|count(HasCrCard)|avg(EstimatedSalary)|\n",
            "+------+----------------+--------------------+\n",
            "|     1|            2037|   101465.6775306824|\n",
            "|     0|            7963|   99738.39177194514|\n",
            "+------+----------------+--------------------+\n",
            "\n"
          ]
        }
      ]
    },
    {
      "cell_type": "code",
      "source": [
        "# Check Missing values\n",
        "spark_df.select([f.count(f.when(f.col(c).isNull(), c)).alias(c) for c in spark_df.columns]).toPandas().T"
      ],
      "metadata": {
        "colab": {
          "base_uri": "https://localhost:8080/",
          "height": 488
        },
        "id": "cn9iSTfo-5N0",
        "outputId": "3f82d757-1c88-4fb7-d858-22e0cf796e6b"
      },
      "execution_count": 13,
      "outputs": [
        {
          "output_type": "execute_result",
          "data": {
            "text/plain": [
              "                 0\n",
              "RowNumber        0\n",
              "CustomerId       0\n",
              "Surname          0\n",
              "CreditScore      0\n",
              "Geography        0\n",
              "Gender           0\n",
              "Age              0\n",
              "Tenure           0\n",
              "Balance          0\n",
              "NumOfProducts    0\n",
              "HasCrCard        0\n",
              "IsActiveMember   0\n",
              "EstimatedSalary  0\n",
              "Exited           0"
            ],
            "text/html": [
              "\n",
              "  <div id=\"df-b2cdfc5c-64dd-46c9-959e-a17b0d428260\" class=\"colab-df-container\">\n",
              "    <div>\n",
              "<style scoped>\n",
              "    .dataframe tbody tr th:only-of-type {\n",
              "        vertical-align: middle;\n",
              "    }\n",
              "\n",
              "    .dataframe tbody tr th {\n",
              "        vertical-align: top;\n",
              "    }\n",
              "\n",
              "    .dataframe thead th {\n",
              "        text-align: right;\n",
              "    }\n",
              "</style>\n",
              "<table border=\"1\" class=\"dataframe\">\n",
              "  <thead>\n",
              "    <tr style=\"text-align: right;\">\n",
              "      <th></th>\n",
              "      <th>0</th>\n",
              "    </tr>\n",
              "  </thead>\n",
              "  <tbody>\n",
              "    <tr>\n",
              "      <th>RowNumber</th>\n",
              "      <td>0</td>\n",
              "    </tr>\n",
              "    <tr>\n",
              "      <th>CustomerId</th>\n",
              "      <td>0</td>\n",
              "    </tr>\n",
              "    <tr>\n",
              "      <th>Surname</th>\n",
              "      <td>0</td>\n",
              "    </tr>\n",
              "    <tr>\n",
              "      <th>CreditScore</th>\n",
              "      <td>0</td>\n",
              "    </tr>\n",
              "    <tr>\n",
              "      <th>Geography</th>\n",
              "      <td>0</td>\n",
              "    </tr>\n",
              "    <tr>\n",
              "      <th>Gender</th>\n",
              "      <td>0</td>\n",
              "    </tr>\n",
              "    <tr>\n",
              "      <th>Age</th>\n",
              "      <td>0</td>\n",
              "    </tr>\n",
              "    <tr>\n",
              "      <th>Tenure</th>\n",
              "      <td>0</td>\n",
              "    </tr>\n",
              "    <tr>\n",
              "      <th>Balance</th>\n",
              "      <td>0</td>\n",
              "    </tr>\n",
              "    <tr>\n",
              "      <th>NumOfProducts</th>\n",
              "      <td>0</td>\n",
              "    </tr>\n",
              "    <tr>\n",
              "      <th>HasCrCard</th>\n",
              "      <td>0</td>\n",
              "    </tr>\n",
              "    <tr>\n",
              "      <th>IsActiveMember</th>\n",
              "      <td>0</td>\n",
              "    </tr>\n",
              "    <tr>\n",
              "      <th>EstimatedSalary</th>\n",
              "      <td>0</td>\n",
              "    </tr>\n",
              "    <tr>\n",
              "      <th>Exited</th>\n",
              "      <td>0</td>\n",
              "    </tr>\n",
              "  </tbody>\n",
              "</table>\n",
              "</div>\n",
              "    <div class=\"colab-df-buttons\">\n",
              "\n",
              "  <div class=\"colab-df-container\">\n",
              "    <button class=\"colab-df-convert\" onclick=\"convertToInteractive('df-b2cdfc5c-64dd-46c9-959e-a17b0d428260')\"\n",
              "            title=\"Convert this dataframe to an interactive table.\"\n",
              "            style=\"display:none;\">\n",
              "\n",
              "  <svg xmlns=\"http://www.w3.org/2000/svg\" height=\"24px\" viewBox=\"0 -960 960 960\">\n",
              "    <path d=\"M120-120v-720h720v720H120Zm60-500h600v-160H180v160Zm220 220h160v-160H400v160Zm0 220h160v-160H400v160ZM180-400h160v-160H180v160Zm440 0h160v-160H620v160ZM180-180h160v-160H180v160Zm440 0h160v-160H620v160Z\"/>\n",
              "  </svg>\n",
              "    </button>\n",
              "\n",
              "  <style>\n",
              "    .colab-df-container {\n",
              "      display:flex;\n",
              "      gap: 12px;\n",
              "    }\n",
              "\n",
              "    .colab-df-convert {\n",
              "      background-color: #E8F0FE;\n",
              "      border: none;\n",
              "      border-radius: 50%;\n",
              "      cursor: pointer;\n",
              "      display: none;\n",
              "      fill: #1967D2;\n",
              "      height: 32px;\n",
              "      padding: 0 0 0 0;\n",
              "      width: 32px;\n",
              "    }\n",
              "\n",
              "    .colab-df-convert:hover {\n",
              "      background-color: #E2EBFA;\n",
              "      box-shadow: 0px 1px 2px rgba(60, 64, 67, 0.3), 0px 1px 3px 1px rgba(60, 64, 67, 0.15);\n",
              "      fill: #174EA6;\n",
              "    }\n",
              "\n",
              "    .colab-df-buttons div {\n",
              "      margin-bottom: 4px;\n",
              "    }\n",
              "\n",
              "    [theme=dark] .colab-df-convert {\n",
              "      background-color: #3B4455;\n",
              "      fill: #D2E3FC;\n",
              "    }\n",
              "\n",
              "    [theme=dark] .colab-df-convert:hover {\n",
              "      background-color: #434B5C;\n",
              "      box-shadow: 0px 1px 3px 1px rgba(0, 0, 0, 0.15);\n",
              "      filter: drop-shadow(0px 1px 2px rgba(0, 0, 0, 0.3));\n",
              "      fill: #FFFFFF;\n",
              "    }\n",
              "  </style>\n",
              "\n",
              "    <script>\n",
              "      const buttonEl =\n",
              "        document.querySelector('#df-b2cdfc5c-64dd-46c9-959e-a17b0d428260 button.colab-df-convert');\n",
              "      buttonEl.style.display =\n",
              "        google.colab.kernel.accessAllowed ? 'block' : 'none';\n",
              "\n",
              "      async function convertToInteractive(key) {\n",
              "        const element = document.querySelector('#df-b2cdfc5c-64dd-46c9-959e-a17b0d428260');\n",
              "        const dataTable =\n",
              "          await google.colab.kernel.invokeFunction('convertToInteractive',\n",
              "                                                    [key], {});\n",
              "        if (!dataTable) return;\n",
              "\n",
              "        const docLinkHtml = 'Like what you see? Visit the ' +\n",
              "          '<a target=\"_blank\" href=https://colab.research.google.com/notebooks/data_table.ipynb>data table notebook</a>'\n",
              "          + ' to learn more about interactive tables.';\n",
              "        element.innerHTML = '';\n",
              "        dataTable['output_type'] = 'display_data';\n",
              "        await google.colab.output.renderOutput(dataTable, element);\n",
              "        const docLink = document.createElement('div');\n",
              "        docLink.innerHTML = docLinkHtml;\n",
              "        element.appendChild(docLink);\n",
              "      }\n",
              "    </script>\n",
              "  </div>\n",
              "\n",
              "\n",
              "<div id=\"df-43fbad5d-f845-4db0-bcda-2ceb41a20d06\">\n",
              "  <button class=\"colab-df-quickchart\" onclick=\"quickchart('df-43fbad5d-f845-4db0-bcda-2ceb41a20d06')\"\n",
              "            title=\"Suggest charts\"\n",
              "            style=\"display:none;\">\n",
              "\n",
              "<svg xmlns=\"http://www.w3.org/2000/svg\" height=\"24px\"viewBox=\"0 0 24 24\"\n",
              "     width=\"24px\">\n",
              "    <g>\n",
              "        <path d=\"M19 3H5c-1.1 0-2 .9-2 2v14c0 1.1.9 2 2 2h14c1.1 0 2-.9 2-2V5c0-1.1-.9-2-2-2zM9 17H7v-7h2v7zm4 0h-2V7h2v10zm4 0h-2v-4h2v4z\"/>\n",
              "    </g>\n",
              "</svg>\n",
              "  </button>\n",
              "\n",
              "<style>\n",
              "  .colab-df-quickchart {\n",
              "      --bg-color: #E8F0FE;\n",
              "      --fill-color: #1967D2;\n",
              "      --hover-bg-color: #E2EBFA;\n",
              "      --hover-fill-color: #174EA6;\n",
              "      --disabled-fill-color: #AAA;\n",
              "      --disabled-bg-color: #DDD;\n",
              "  }\n",
              "\n",
              "  [theme=dark] .colab-df-quickchart {\n",
              "      --bg-color: #3B4455;\n",
              "      --fill-color: #D2E3FC;\n",
              "      --hover-bg-color: #434B5C;\n",
              "      --hover-fill-color: #FFFFFF;\n",
              "      --disabled-bg-color: #3B4455;\n",
              "      --disabled-fill-color: #666;\n",
              "  }\n",
              "\n",
              "  .colab-df-quickchart {\n",
              "    background-color: var(--bg-color);\n",
              "    border: none;\n",
              "    border-radius: 50%;\n",
              "    cursor: pointer;\n",
              "    display: none;\n",
              "    fill: var(--fill-color);\n",
              "    height: 32px;\n",
              "    padding: 0;\n",
              "    width: 32px;\n",
              "  }\n",
              "\n",
              "  .colab-df-quickchart:hover {\n",
              "    background-color: var(--hover-bg-color);\n",
              "    box-shadow: 0 1px 2px rgba(60, 64, 67, 0.3), 0 1px 3px 1px rgba(60, 64, 67, 0.15);\n",
              "    fill: var(--button-hover-fill-color);\n",
              "  }\n",
              "\n",
              "  .colab-df-quickchart-complete:disabled,\n",
              "  .colab-df-quickchart-complete:disabled:hover {\n",
              "    background-color: var(--disabled-bg-color);\n",
              "    fill: var(--disabled-fill-color);\n",
              "    box-shadow: none;\n",
              "  }\n",
              "\n",
              "  .colab-df-spinner {\n",
              "    border: 2px solid var(--fill-color);\n",
              "    border-color: transparent;\n",
              "    border-bottom-color: var(--fill-color);\n",
              "    animation:\n",
              "      spin 1s steps(1) infinite;\n",
              "  }\n",
              "\n",
              "  @keyframes spin {\n",
              "    0% {\n",
              "      border-color: transparent;\n",
              "      border-bottom-color: var(--fill-color);\n",
              "      border-left-color: var(--fill-color);\n",
              "    }\n",
              "    20% {\n",
              "      border-color: transparent;\n",
              "      border-left-color: var(--fill-color);\n",
              "      border-top-color: var(--fill-color);\n",
              "    }\n",
              "    30% {\n",
              "      border-color: transparent;\n",
              "      border-left-color: var(--fill-color);\n",
              "      border-top-color: var(--fill-color);\n",
              "      border-right-color: var(--fill-color);\n",
              "    }\n",
              "    40% {\n",
              "      border-color: transparent;\n",
              "      border-right-color: var(--fill-color);\n",
              "      border-top-color: var(--fill-color);\n",
              "    }\n",
              "    60% {\n",
              "      border-color: transparent;\n",
              "      border-right-color: var(--fill-color);\n",
              "    }\n",
              "    80% {\n",
              "      border-color: transparent;\n",
              "      border-right-color: var(--fill-color);\n",
              "      border-bottom-color: var(--fill-color);\n",
              "    }\n",
              "    90% {\n",
              "      border-color: transparent;\n",
              "      border-bottom-color: var(--fill-color);\n",
              "    }\n",
              "  }\n",
              "</style>\n",
              "\n",
              "  <script>\n",
              "    async function quickchart(key) {\n",
              "      const quickchartButtonEl =\n",
              "        document.querySelector('#' + key + ' button');\n",
              "      quickchartButtonEl.disabled = true;  // To prevent multiple clicks.\n",
              "      quickchartButtonEl.classList.add('colab-df-spinner');\n",
              "      try {\n",
              "        const charts = await google.colab.kernel.invokeFunction(\n",
              "            'suggestCharts', [key], {});\n",
              "      } catch (error) {\n",
              "        console.error('Error during call to suggestCharts:', error);\n",
              "      }\n",
              "      quickchartButtonEl.classList.remove('colab-df-spinner');\n",
              "      quickchartButtonEl.classList.add('colab-df-quickchart-complete');\n",
              "    }\n",
              "    (() => {\n",
              "      let quickchartButtonEl =\n",
              "        document.querySelector('#df-43fbad5d-f845-4db0-bcda-2ceb41a20d06 button');\n",
              "      quickchartButtonEl.style.display =\n",
              "        google.colab.kernel.accessAllowed ? 'block' : 'none';\n",
              "    })();\n",
              "  </script>\n",
              "</div>\n",
              "\n",
              "    </div>\n",
              "  </div>\n"
            ],
            "application/vnd.google.colaboratory.intrinsic+json": {
              "type": "dataframe",
              "summary": "{\n  \"name\": \"spark_df\",\n  \"rows\": 14,\n  \"fields\": [\n    {\n      \"column\": 0,\n      \"properties\": {\n        \"dtype\": \"number\",\n        \"std\": 0,\n        \"min\": 0,\n        \"max\": 0,\n        \"num_unique_values\": 1,\n        \"samples\": [\n          0\n        ],\n        \"semantic_type\": \"\",\n        \"description\": \"\"\n      }\n    }\n  ]\n}"
            }
          },
          "metadata": {},
          "execution_count": 13
        }
      ]
    },
    {
      "cell_type": "markdown",
      "source": [
        "## Windowing Function"
      ],
      "metadata": {
        "id": "JRoyHeF4CjDA"
      }
    },
    {
      "cell_type": "code",
      "source": [
        "window_spec = Window.partitionBy(\"Geography\").orderBy(\"CreditScore\")\n",
        "\n",
        "df_ranked = (\n",
        "    spark_df\n",
        "    .withColumn(\"Rank\", f.rank().over(window_spec))\n",
        "    .withColumn(\"DenseRank\", f.dense_rank().over(window_spec))\n",
        "    .withColumn(\"RowNumber\", f.row_number().over(window_spec))\n",
        "    )\n",
        "\n",
        "df_ranked.select(\"Geography\", \"CreditScore\", \"Rank\", \"DenseRank\", \"RowNumber\").show()"
      ],
      "metadata": {
        "colab": {
          "base_uri": "https://localhost:8080/"
        },
        "id": "wMMhL1j-CWX6",
        "outputId": "9a940bbf-d0b1-4971-ff63-2ad1942a9df7"
      },
      "execution_count": 14,
      "outputs": [
        {
          "output_type": "stream",
          "name": "stdout",
          "text": [
            "+---------+-----------+----+---------+---------+\n",
            "|Geography|CreditScore|Rank|DenseRank|RowNumber|\n",
            "+---------+-----------+----+---------+---------+\n",
            "|   France|        350|   1|        1|        1|\n",
            "|   France|        350|   1|        1|        2|\n",
            "|   France|        350|   1|        1|        3|\n",
            "|   France|        359|   4|        2|        4|\n",
            "|   France|        373|   5|        3|        5|\n",
            "|   France|        376|   6|        4|        6|\n",
            "|   France|        405|   7|        5|        7|\n",
            "|   France|        408|   8|        6|        8|\n",
            "|   France|        408|   8|        6|        9|\n",
            "|   France|        410|  10|        7|       10|\n",
            "|   France|        410|  10|        7|       11|\n",
            "|   France|        411|  12|        8|       12|\n",
            "|   France|        411|  12|        8|       13|\n",
            "|   France|        411|  12|        8|       14|\n",
            "|   France|        411|  12|        8|       15|\n",
            "|   France|        412|  16|        9|       16|\n",
            "|   France|        413|  17|       10|       17|\n",
            "|   France|        414|  18|       11|       18|\n",
            "|   France|        415|  19|       12|       19|\n",
            "|   France|        415|  19|       12|       20|\n",
            "+---------+-----------+----+---------+---------+\n",
            "only showing top 20 rows\n",
            "\n"
          ]
        }
      ]
    },
    {
      "cell_type": "code",
      "source": [
        "# Moving Avg\n",
        "window_spec_avg = Window.partitionBy(\"geography\").rowsBetween(-3, 3)\n",
        "\n",
        "df_moving_avg = spark_df.withColumn(\"moving_avg_creditscore\", f.avg(\"creditscore\").over(window_spec_avg))\n",
        "\n",
        "df_moving_avg.select(\"geography\", \"creditscore\", \"moving_avg_creditscore\").show()"
      ],
      "metadata": {
        "colab": {
          "base_uri": "https://localhost:8080/"
        },
        "id": "La_8bJwNCWVc",
        "outputId": "47c1bf80-1e05-4b29-9bec-473e3311337d"
      },
      "execution_count": 15,
      "outputs": [
        {
          "output_type": "stream",
          "name": "stdout",
          "text": [
            "+---------+-----------+----------------------+\n",
            "|geography|creditscore|moving_avg_creditscore|\n",
            "+---------+-----------+----------------------+\n",
            "|   France|        619|                 660.5|\n",
            "|   France|        502|                 628.6|\n",
            "|   France|        699|     637.8333333333334|\n",
            "|   France|        822|     622.1428571428571|\n",
            "|   France|        501|     601.7142857142857|\n",
            "|   France|        684|     608.4285714285714|\n",
            "|   France|        528|     612.2857142857143|\n",
            "|   France|        476|     599.4285714285714|\n",
            "|   France|        549|     623.4285714285714|\n",
            "|   France|        726|     646.5714285714286|\n",
            "|   France|        732|     653.5714285714286|\n",
            "|   France|        669|     667.1428571428571|\n",
            "|   France|        846|     647.4285714285714|\n",
            "|   France|        577|     619.8571428571429|\n",
            "|   France|        571|     583.1428571428571|\n",
            "|   France|        411|                 609.0|\n",
            "|   France|        533|     554.5714285714286|\n",
            "|   France|        475|     551.5714285714286|\n",
            "|   France|        850|     589.1428571428571|\n",
            "|   France|        465|                 643.0|\n",
            "+---------+-----------+----------------------+\n",
            "only showing top 20 rows\n",
            "\n"
          ]
        }
      ]
    },
    {
      "cell_type": "code",
      "source": [
        "# Cumulative Sum of each Geography\n",
        "\n",
        "window_spec_cumsum = Window.partitionBy(\"Geography\").orderBy(\"Age\").rowsBetween(Window.unboundedPreceding, 0)\n",
        "\n",
        "df_cumsum = (\n",
        "    spark_df\n",
        "    .withColumn(\"Cumulative_Balance\", f.sum(\"Balance\").over(window_spec_cumsum))\n",
        ")\n",
        "\n",
        "df_cumsum.select(\"Geography\", \"Balance\", \"Age\", \"Cumulative_Balance\").show()"
      ],
      "metadata": {
        "colab": {
          "base_uri": "https://localhost:8080/"
        },
        "id": "ulCpQLFPCWTA",
        "outputId": "1a7e2e80-a70d-4ac3-d570-92de559482e3"
      },
      "execution_count": 16,
      "outputs": [
        {
          "output_type": "stream",
          "name": "stdout",
          "text": [
            "+---------+---------+---+------------------+\n",
            "|Geography|  Balance|Age|Cumulative_Balance|\n",
            "+---------+---------+---+------------------+\n",
            "|   France|160980.03| 18|         160980.03|\n",
            "|   France|151762.74| 18|         312742.77|\n",
            "|   France| 82767.42| 18|         395510.19|\n",
            "|   France|133550.67| 18|         529060.86|\n",
            "|   France|      0.0| 18|         529060.86|\n",
            "|   France|      0.0| 18|         529060.86|\n",
            "|   France| 176139.5| 18|         705200.36|\n",
            "|   France| 98894.39| 18|         804094.75|\n",
            "|   France|      0.0| 18|         804094.75|\n",
            "|   France|      0.0| 18|         804094.75|\n",
            "|   France|102983.91| 18|         907078.66|\n",
            "|   France|128514.84| 19|         1035593.5|\n",
            "|   France| 97445.49| 19|        1133038.99|\n",
            "|   France|143390.51| 19|         1276429.5|\n",
            "|   France|110928.51| 19|        1387358.01|\n",
            "|   France|      0.0| 19|        1387358.01|\n",
            "|   France|      0.0| 19|        1387358.01|\n",
            "|   France|127649.64| 19|        1515007.65|\n",
            "|   France|      0.0| 19|        1515007.65|\n",
            "|   France|      0.0| 19|        1515007.65|\n",
            "+---------+---------+---+------------------+\n",
            "only showing top 20 rows\n",
            "\n"
          ]
        }
      ]
    },
    {
      "cell_type": "markdown",
      "source": [
        "# Feature Engineering"
      ],
      "metadata": {
        "id": "SKGMFlo_AGza"
      }
    },
    {
      "cell_type": "code",
      "source": [
        "spark_df.show(1)"
      ],
      "metadata": {
        "colab": {
          "base_uri": "https://localhost:8080/"
        },
        "id": "X-Bv6b3sOgGc",
        "outputId": "decdce14-e168-41a9-8148-7b1a0e02bf56"
      },
      "execution_count": 18,
      "outputs": [
        {
          "output_type": "stream",
          "name": "stdout",
          "text": [
            "+---------+----------+--------+-----------+---------+------+---+------+-------+-------------+---------+--------------+---------------+------+\n",
            "|RowNumber|CustomerId| Surname|CreditScore|Geography|Gender|Age|Tenure|Balance|NumOfProducts|HasCrCard|IsActiveMember|EstimatedSalary|Exited|\n",
            "+---------+----------+--------+-----------+---------+------+---+------+-------+-------------+---------+--------------+---------------+------+\n",
            "|        1|  15634602|Hargrave|        619|   France|Female| 42|     2|    0.0|            1|        1|             1|      101348.88|     1|\n",
            "+---------+----------+--------+-----------+---------+------+---+------+-------+-------------+---------+--------------+---------------+------+\n",
            "only showing top 1 row\n",
            "\n"
          ]
        }
      ]
    },
    {
      "cell_type": "code",
      "source": [
        "spark_df = (\n",
        "    spark_df\n",
        "    .drop('RowNumber', 'CustomerId', 'Surname')\n",
        "    .withColumn(\"CredictScore_Salary\", spark_df.CreditScore / spark_df.EstimatedSalary)\n",
        "    .withColumn(\"CredictScore_Tenure\", spark_df.CreditScore * spark_df.Tenure)\n",
        "    .withColumn(\"Balance_Salary\", spark_df.Balance / spark_df.EstimatedSalary)\n",
        ")\n",
        "\n",
        "spark_df.show(10)"
      ],
      "metadata": {
        "colab": {
          "base_uri": "https://localhost:8080/"
        },
        "id": "5eaA3lNP_-3K",
        "outputId": "a5987ba7-d174-45bf-80d3-7d863ff8fddf"
      },
      "execution_count": 20,
      "outputs": [
        {
          "output_type": "stream",
          "name": "stdout",
          "text": [
            "+-----------+---------+------+---+------+---------+-------------+---------+--------------+---------------+------+--------------------+-------------------+------------------+\n",
            "|CreditScore|Geography|Gender|Age|Tenure|  Balance|NumOfProducts|HasCrCard|IsActiveMember|EstimatedSalary|Exited| CredictScore_Salary|CredictScore_Tenure|    Balance_Salary|\n",
            "+-----------+---------+------+---+------+---------+-------------+---------+--------------+---------------+------+--------------------+-------------------+------------------+\n",
            "|        619|   France|Female| 42|     2|      0.0|            1|        1|             1|      101348.88|     1|0.006107615594765329|               1238|               0.0|\n",
            "|        608|    Spain|Female| 41|     1| 83807.86|            1|        0|             1|      112542.58|     0|0.005402399696186101|                608|0.7446769036217226|\n",
            "|        502|   France|Female| 42|     8| 159660.8|            3|        1|             0|      113931.57|     1|0.004406153623618106|               4016|1.4013745268322026|\n",
            "|        699|   France|Female| 39|     1|      0.0|            2|        0|             0|       93826.63|     0|0.007449910542454738|                699|               0.0|\n",
            "|        850|    Spain|Female| 43|     2|125510.82|            1|        1|             1|        79084.1|     0|0.010748051757559357|               1700|1.5870550464631954|\n",
            "|        645|    Spain|  Male| 44|     8|113755.78|            2|        1|             0|      149756.71|     1|0.004306985643581513|               5160|0.7596038935417319|\n",
            "|        822|   France|  Male| 50|     7|      0.0|            2|        1|             1|        10062.8|     0| 0.08168700560480185|               5754|               0.0|\n",
            "|        376|  Germany|Female| 29|     4|115046.74|            4|        1|             0|      119346.88|     1|0.003150480347705...|               1504|0.9639693974404694|\n",
            "|        501|   France|  Male| 44|     4|142051.07|            2|        0|             1|        74940.5|     0|0.006685303674248237|               2004|1.8955180443151567|\n",
            "|        684|   France|  Male| 27|     2|134603.88|            1|        1|             1|       71725.73|     0|0.009536326782592523|               1368| 1.876647055387237|\n",
            "+-----------+---------+------+---+------+---------+-------------+---------+--------------+---------------+------+--------------------+-------------------+------------------+\n",
            "only showing top 10 rows\n",
            "\n"
          ]
        }
      ]
    },
    {
      "cell_type": "code",
      "source": [
        "# Bucketization\n",
        "bucketizer = Bucketizer(splits=[0, 35, 55, 75, 95],\n",
        "                        inputCol=\"Age\",\n",
        "                        outputCol=\"age_cat\")\n",
        "spark_df = bucketizer.setHandleInvalid(\"keep\").transform(spark_df)\n",
        "\n",
        "spark_df = spark_df.withColumn(\"age_cat\", spark_df.age_cat + 1)\n",
        "spark_df = spark_df.withColumn(\"age_cat\", spark_df[\"age_cat\"].cast(\"integer\"))\n",
        "# Show\n",
        "spark_df.show(10)"
      ],
      "metadata": {
        "colab": {
          "base_uri": "https://localhost:8080/"
        },
        "id": "Ww225PgmBHJW",
        "outputId": "1147593e-5867-42c4-a96b-7bae1372b240"
      },
      "execution_count": 22,
      "outputs": [
        {
          "output_type": "stream",
          "name": "stdout",
          "text": [
            "+-----------+---------+------+---+------+---------+-------------+---------+--------------+---------------+------+--------------------+-------------------+------------------+-------+\n",
            "|CreditScore|Geography|Gender|Age|Tenure|  Balance|NumOfProducts|HasCrCard|IsActiveMember|EstimatedSalary|Exited| CredictScore_Salary|CredictScore_Tenure|    Balance_Salary|age_cat|\n",
            "+-----------+---------+------+---+------+---------+-------------+---------+--------------+---------------+------+--------------------+-------------------+------------------+-------+\n",
            "|        619|   France|Female| 42|     2|      0.0|            1|        1|             1|      101348.88|     1|0.006107615594765329|               1238|               0.0|      2|\n",
            "|        608|    Spain|Female| 41|     1| 83807.86|            1|        0|             1|      112542.58|     0|0.005402399696186101|                608|0.7446769036217226|      2|\n",
            "|        502|   France|Female| 42|     8| 159660.8|            3|        1|             0|      113931.57|     1|0.004406153623618106|               4016|1.4013745268322026|      2|\n",
            "|        699|   France|Female| 39|     1|      0.0|            2|        0|             0|       93826.63|     0|0.007449910542454738|                699|               0.0|      2|\n",
            "|        850|    Spain|Female| 43|     2|125510.82|            1|        1|             1|        79084.1|     0|0.010748051757559357|               1700|1.5870550464631954|      2|\n",
            "|        645|    Spain|  Male| 44|     8|113755.78|            2|        1|             0|      149756.71|     1|0.004306985643581513|               5160|0.7596038935417319|      2|\n",
            "|        822|   France|  Male| 50|     7|      0.0|            2|        1|             1|        10062.8|     0| 0.08168700560480185|               5754|               0.0|      2|\n",
            "|        376|  Germany|Female| 29|     4|115046.74|            4|        1|             0|      119346.88|     1|0.003150480347705...|               1504|0.9639693974404694|      1|\n",
            "|        501|   France|  Male| 44|     4|142051.07|            2|        0|             1|        74940.5|     0|0.006685303674248237|               2004|1.8955180443151567|      2|\n",
            "|        684|   France|  Male| 27|     2|134603.88|            1|        1|             1|       71725.73|     0|0.009536326782592523|               1368| 1.876647055387237|      1|\n",
            "+-----------+---------+------+---+------+---------+-------------+---------+--------------+---------------+------+--------------------+-------------------+------------------+-------+\n",
            "only showing top 10 rows\n",
            "\n"
          ]
        }
      ]
    },
    {
      "cell_type": "markdown",
      "source": [
        "# Features Vectorization"
      ],
      "metadata": {
        "id": "O39HjEcBE68I"
      }
    },
    {
      "cell_type": "markdown",
      "source": [
        "## StringIndexer"
      ],
      "metadata": {
        "id": "9CYLcbQxPDJ3"
      }
    },
    {
      "cell_type": "code",
      "source": [
        "# Gender\n",
        "indexer = StringIndexer(inputCol=\"Gender\",\n",
        "                        outputCol=\"gender_label\")\n",
        "indexer.fit(spark_df).transform(spark_df).show(5)\n",
        "\n",
        "temp_sdf = indexer.fit(spark_df).transform(spark_df)\n",
        "\n",
        "spark_df = temp_sdf.withColumn(\"gender_label\", temp_sdf[\"gender_label\"].cast(\"integer\"))\n",
        "spark_df = spark_df.drop('Gender')"
      ],
      "metadata": {
        "id": "h1sEISqwBtPM",
        "colab": {
          "base_uri": "https://localhost:8080/"
        },
        "outputId": "73c3f9f0-027c-4801-ba6c-ea21b67def8f"
      },
      "execution_count": 24,
      "outputs": [
        {
          "output_type": "stream",
          "name": "stdout",
          "text": [
            "+-----------+---------+------+---+------+---------+-------------+---------+--------------+---------------+------+--------------------+-------------------+------------------+-------+------------+\n",
            "|CreditScore|Geography|Gender|Age|Tenure|  Balance|NumOfProducts|HasCrCard|IsActiveMember|EstimatedSalary|Exited| CredictScore_Salary|CredictScore_Tenure|    Balance_Salary|age_cat|gender_label|\n",
            "+-----------+---------+------+---+------+---------+-------------+---------+--------------+---------------+------+--------------------+-------------------+------------------+-------+------------+\n",
            "|        619|   France|Female| 42|     2|      0.0|            1|        1|             1|      101348.88|     1|0.006107615594765329|               1238|               0.0|      2|         1.0|\n",
            "|        608|    Spain|Female| 41|     1| 83807.86|            1|        0|             1|      112542.58|     0|0.005402399696186101|                608|0.7446769036217226|      2|         1.0|\n",
            "|        502|   France|Female| 42|     8| 159660.8|            3|        1|             0|      113931.57|     1|0.004406153623618106|               4016|1.4013745268322026|      2|         1.0|\n",
            "|        699|   France|Female| 39|     1|      0.0|            2|        0|             0|       93826.63|     0|0.007449910542454738|                699|               0.0|      2|         1.0|\n",
            "|        850|    Spain|Female| 43|     2|125510.82|            1|        1|             1|        79084.1|     0|0.010748051757559357|               1700|1.5870550464631954|      2|         1.0|\n",
            "+-----------+---------+------+---+------+---------+-------------+---------+--------------+---------------+------+--------------------+-------------------+------------------+-------+------------+\n",
            "only showing top 5 rows\n",
            "\n"
          ]
        }
      ]
    },
    {
      "cell_type": "code",
      "source": [
        "# Geography\n",
        "indexer = StringIndexer(inputCol=\"Geography\",\n",
        "                        outputCol=\"geography_label\")\n",
        "indexer.fit(spark_df).transform(spark_df).show(5)\n",
        "\n",
        "temp_sdf = indexer.fit(spark_df).transform(spark_df)\n",
        "spark_df = temp_sdf.withColumn(\"geography_label\", temp_sdf[\"geography_label\"].cast(\"integer\"))\n",
        "spark_df = spark_df.drop('geography')"
      ],
      "metadata": {
        "colab": {
          "base_uri": "https://localhost:8080/"
        },
        "id": "5yzpxyMXFHRO",
        "outputId": "be4316e7-9378-4e7d-8d28-3df9eed7e225"
      },
      "execution_count": 26,
      "outputs": [
        {
          "output_type": "stream",
          "name": "stdout",
          "text": [
            "+-----------+---------+---+------+---------+-------------+---------+--------------+---------------+------+--------------------+-------------------+------------------+-------+------------+---------------+\n",
            "|CreditScore|Geography|Age|Tenure|  Balance|NumOfProducts|HasCrCard|IsActiveMember|EstimatedSalary|Exited| CredictScore_Salary|CredictScore_Tenure|    Balance_Salary|age_cat|gender_label|geography_label|\n",
            "+-----------+---------+---+------+---------+-------------+---------+--------------+---------------+------+--------------------+-------------------+------------------+-------+------------+---------------+\n",
            "|        619|   France| 42|     2|      0.0|            1|        1|             1|      101348.88|     1|0.006107615594765329|               1238|               0.0|      2|           1|            0.0|\n",
            "|        608|    Spain| 41|     1| 83807.86|            1|        0|             1|      112542.58|     0|0.005402399696186101|                608|0.7446769036217226|      2|           1|            2.0|\n",
            "|        502|   France| 42|     8| 159660.8|            3|        1|             0|      113931.57|     1|0.004406153623618106|               4016|1.4013745268322026|      2|           1|            0.0|\n",
            "|        699|   France| 39|     1|      0.0|            2|        0|             0|       93826.63|     0|0.007449910542454738|                699|               0.0|      2|           1|            0.0|\n",
            "|        850|    Spain| 43|     2|125510.82|            1|        1|             1|        79084.1|     0|0.010748051757559357|               1700|1.5870550464631954|      2|           1|            2.0|\n",
            "+-----------+---------+---+------+---------+-------------+---------+--------------+---------------+------+--------------------+-------------------+------------------+-------+------------+---------------+\n",
            "only showing top 5 rows\n",
            "\n"
          ]
        }
      ]
    },
    {
      "cell_type": "markdown",
      "source": [
        "## Assembler"
      ],
      "metadata": {
        "id": "tM1rHduVPdq7"
      }
    },
    {
      "cell_type": "code",
      "source": [
        "# Features to include in the model\n",
        "feature_columns = [\n",
        "    \"CreditScore\", \"Age\", \"Tenure\", \"Balance\", \"NumOfProducts\",\n",
        "    \"HasCrCard\", \"IsActiveMember\", \"EstimatedSalary\", \"CredictScore_Salary\",\n",
        "    \"CredictScore_Tenure\", \"Balance_Salary\", \"age_cat\", \"gender_label\", \"geography_label\"\n",
        "]\n",
        "\n",
        "# Assemble features into a single vector\n",
        "assembler = VectorAssembler(\n",
        "    inputCols=feature_columns,\n",
        "    outputCol=\"features\"\n",
        ")\n",
        "\n",
        "# Standardize features using StandardScaler\n",
        "scaler = StandardScaler(\n",
        "    inputCol=\"features\",\n",
        "    outputCol=\"scaled_features\",\n",
        "    withMean=True,\n",
        "    withStd=True\n",
        ")"
      ],
      "metadata": {
        "id": "vZFjvk7vFh5F"
      },
      "execution_count": 28,
      "outputs": []
    },
    {
      "cell_type": "markdown",
      "source": [
        "## Define & Train a RandomForestClassifier"
      ],
      "metadata": {
        "id": "wqgeq2PPRWwM"
      }
    },
    {
      "cell_type": "code",
      "source": [
        "rf = RandomForestClassifier(\n",
        "    featuresCol='scaled_features',\n",
        "    labelCol='Exited',\n",
        "    numTrees=150,\n",
        "    maxDepth=10\n",
        ")"
      ],
      "metadata": {
        "id": "p4Je2sfcPmT_"
      },
      "execution_count": 31,
      "outputs": []
    },
    {
      "cell_type": "code",
      "source": [
        "# Create Spak Pipeline\n",
        "pipeline = Pipeline(stages=[assembler, scaler, rf])"
      ],
      "metadata": {
        "id": "FUiSMIFPQudA"
      },
      "execution_count": 33,
      "outputs": []
    },
    {
      "cell_type": "code",
      "source": [
        "# Split Train/Test\n",
        "train, test = spark_df.randomSplit([0.8, 0.2], seed=42)"
      ],
      "metadata": {
        "id": "B5ciQUTsQuaT"
      },
      "execution_count": 34,
      "outputs": []
    },
    {
      "cell_type": "code",
      "source": [
        "# Train Model\n",
        "model = pipeline.fit(train)"
      ],
      "metadata": {
        "id": "ccAsy1XzQuYF"
      },
      "execution_count": 35,
      "outputs": []
    },
    {
      "cell_type": "markdown",
      "source": [
        "### Check Predictions & Accuracy of RandomForestClassifier"
      ],
      "metadata": {
        "id": "5aKiLW_qSLHb"
      }
    },
    {
      "cell_type": "code",
      "source": [
        "predictions = model.transform(test)\n",
        "predictions.select(\"scaled_features\", \"Exited\", \"prediction\", \"probability\").show()"
      ],
      "metadata": {
        "colab": {
          "base_uri": "https://localhost:8080/"
        },
        "id": "4XamIbblSJzw",
        "outputId": "330f953c-0398-44ac-b8f1-ad09559b49bb"
      },
      "execution_count": 36,
      "outputs": [
        {
          "output_type": "stream",
          "name": "stdout",
          "text": [
            "+--------------------+------+----------+--------------------+\n",
            "|     scaled_features|Exited|prediction|         probability|\n",
            "+--------------------+------+----------+--------------------+\n",
            "|[-3.0853319664765...|     1|       0.0|[0.57035684607025...|\n",
            "|[-3.0030352594573...|     1|       1.0|[0.07096998422675...|\n",
            "|[-2.9515998175703...|     1|       1.0|[0.16697341841943...|\n",
            "|[-2.8178676686640...|     1|       1.0|[0.25151541714830...|\n",
            "|[-2.560690459229,...|     1|       1.0|[0.26307062727352...|\n",
            "|[-2.4989679289645...|     1|       0.0|[0.61933038339768...|\n",
            "|[-2.4578195754549...|     0|       0.0|[0.91711773215675...|\n",
            "|[-2.4372453987001...|     0|       0.0|[0.96406363876309...|\n",
            "|[-2.4063841335679...|     0|       0.0|[0.68485738858250...|\n",
            "|[-2.3960970451905...|     0|       0.0|[0.97263497928513...|\n",
            "|[-2.3858099568131...|     0|       0.0|[0.90300769951635...|\n",
            "|[-2.3858099568131...|     0|       0.0|[0.96699296502158...|\n",
            "|[-2.3858099568131...|     0|       0.0|[0.88954926336853...|\n",
            "|[-2.3652357800583...|     1|       0.0|[0.83946290142948...|\n",
            "|[-2.3446616033035...|     0|       0.0|[0.66744817699950...|\n",
            "|[-2.3138003381713...|     0|       0.0|[0.77091003238757...|\n",
            "|[-2.2932261614165...|     0|       0.0|[0.66007995461092...|\n",
            "|[-2.2417907195295...|     0|       0.0|[0.88830639206621...|\n",
            "|[-2.2212165427747...|     0|       1.0|[0.21362875297609...|\n",
            "|[-2.2109294543972...|     0|       1.0|[0.44132307201823...|\n",
            "+--------------------+------+----------+--------------------+\n",
            "only showing top 20 rows\n",
            "\n"
          ]
        }
      ]
    },
    {
      "cell_type": "code",
      "source": [
        "# Evaluate the Model\n",
        "evaluator = MulticlassClassificationEvaluator(\n",
        "    labelCol=\"Exited\",\n",
        "    predictionCol=\"prediction\",\n",
        "    metricName=\"accuracy\"\n",
        ")\n",
        "\n",
        "accuracy = evaluator.evaluate(predictions)\n",
        "print(\"Accuracy:\", accuracy)"
      ],
      "metadata": {
        "colab": {
          "base_uri": "https://localhost:8080/"
        },
        "id": "8TFXWAOLSRRU",
        "outputId": "7d8eeb28-e34c-4377-de5d-96b19dafb16b"
      },
      "execution_count": 38,
      "outputs": [
        {
          "output_type": "stream",
          "name": "stdout",
          "text": [
            "Accuracy: 0.8667360749609578\n"
          ]
        }
      ]
    },
    {
      "cell_type": "markdown",
      "source": [
        "## Define & Train XGBClassifier"
      ],
      "metadata": {
        "id": "hVjJQLuvS4p5"
      }
    },
    {
      "cell_type": "code",
      "source": [
        "xgb = GBTClassifier(\n",
        "    featuresCol='scaled_features',\n",
        "    labelCol='Exited',\n",
        "    maxIter=10\n",
        ")\n",
        "\n",
        "# Create Spak Pipeline\n",
        "pipeline = Pipeline(stages=[assembler, scaler, xgb])\n",
        "\n",
        "# Train Model\n",
        "model = pipeline.fit(train)"
      ],
      "metadata": {
        "id": "0j-hPMiISRNy"
      },
      "execution_count": 39,
      "outputs": []
    },
    {
      "cell_type": "code",
      "source": [
        "predictions = model.transform(test)\n",
        "predictions.select(\"scaled_features\", \"Exited\", \"prediction\", \"probability\").show()"
      ],
      "metadata": {
        "colab": {
          "base_uri": "https://localhost:8080/"
        },
        "id": "33tw4-2RSRLF",
        "outputId": "329d97a8-e9f1-4c10-a192-079703df256c"
      },
      "execution_count": 40,
      "outputs": [
        {
          "output_type": "stream",
          "name": "stdout",
          "text": [
            "+--------------------+------+----------+--------------------+\n",
            "|     scaled_features|Exited|prediction|         probability|\n",
            "+--------------------+------+----------+--------------------+\n",
            "|[-3.0853319664765...|     1|       0.0|[0.57538314011928...|\n",
            "|[-3.0030352594573...|     1|       1.0|[0.13911971850206...|\n",
            "|[-2.9515998175703...|     1|       1.0|[0.10591009361155...|\n",
            "|[-2.8178676686640...|     1|       1.0|[0.20625707781615...|\n",
            "|[-2.560690459229,...|     1|       1.0|[0.25369876656995...|\n",
            "|[-2.4989679289645...|     1|       0.0|[0.78870404282574...|\n",
            "|[-2.4578195754549...|     0|       0.0|[0.91247891460248...|\n",
            "|[-2.4372453987001...|     0|       0.0|[0.92352165607129...|\n",
            "|[-2.4063841335679...|     0|       0.0|[0.85092083986898...|\n",
            "|[-2.3960970451905...|     0|       0.0|[0.92777739930648...|\n",
            "|[-2.3858099568131...|     0|       0.0|[0.88039466293922...|\n",
            "|[-2.3858099568131...|     0|       0.0|[0.92579234486487...|\n",
            "|[-2.3858099568131...|     0|       0.0|[0.90376126055064...|\n",
            "|[-2.3652357800583...|     1|       0.0|[0.79795558920682...|\n",
            "|[-2.3446616033035...|     0|       0.0|[0.60998442652513...|\n",
            "|[-2.3138003381713...|     0|       0.0|[0.88364252477157...|\n",
            "|[-2.2932261614165...|     0|       0.0|[0.81722958960662...|\n",
            "|[-2.2417907195295...|     0|       0.0|[0.88732933938304...|\n",
            "|[-2.2212165427747...|     0|       1.0|[0.17050866143172...|\n",
            "|[-2.2109294543972...|     0|       1.0|[0.41516929905747...|\n",
            "+--------------------+------+----------+--------------------+\n",
            "only showing top 20 rows\n",
            "\n"
          ]
        }
      ]
    },
    {
      "cell_type": "markdown",
      "source": [
        "### Check Predictions & Accuracy of XGBClassifier"
      ],
      "metadata": {
        "id": "0G1fyxUfTWFL"
      }
    },
    {
      "cell_type": "code",
      "source": [
        "predictions = model.transform(test)\n",
        "predictions.select(\"scaled_features\", \"Exited\", \"prediction\", \"probability\").show()"
      ],
      "metadata": {
        "colab": {
          "base_uri": "https://localhost:8080/"
        },
        "id": "ED271wnOTJ_O",
        "outputId": "a7a2c0cc-c58a-4c5d-9b2f-f32c8170f1ba"
      },
      "execution_count": 41,
      "outputs": [
        {
          "output_type": "stream",
          "name": "stdout",
          "text": [
            "+--------------------+------+----------+--------------------+\n",
            "|     scaled_features|Exited|prediction|         probability|\n",
            "+--------------------+------+----------+--------------------+\n",
            "|[-3.0853319664765...|     1|       0.0|[0.57538314011928...|\n",
            "|[-3.0030352594573...|     1|       1.0|[0.13911971850206...|\n",
            "|[-2.9515998175703...|     1|       1.0|[0.10591009361155...|\n",
            "|[-2.8178676686640...|     1|       1.0|[0.20625707781615...|\n",
            "|[-2.560690459229,...|     1|       1.0|[0.25369876656995...|\n",
            "|[-2.4989679289645...|     1|       0.0|[0.78870404282574...|\n",
            "|[-2.4578195754549...|     0|       0.0|[0.91247891460248...|\n",
            "|[-2.4372453987001...|     0|       0.0|[0.92352165607129...|\n",
            "|[-2.4063841335679...|     0|       0.0|[0.85092083986898...|\n",
            "|[-2.3960970451905...|     0|       0.0|[0.92777739930648...|\n",
            "|[-2.3858099568131...|     0|       0.0|[0.88039466293922...|\n",
            "|[-2.3858099568131...|     0|       0.0|[0.92579234486487...|\n",
            "|[-2.3858099568131...|     0|       0.0|[0.90376126055064...|\n",
            "|[-2.3652357800583...|     1|       0.0|[0.79795558920682...|\n",
            "|[-2.3446616033035...|     0|       0.0|[0.60998442652513...|\n",
            "|[-2.3138003381713...|     0|       0.0|[0.88364252477157...|\n",
            "|[-2.2932261614165...|     0|       0.0|[0.81722958960662...|\n",
            "|[-2.2417907195295...|     0|       0.0|[0.88732933938304...|\n",
            "|[-2.2212165427747...|     0|       1.0|[0.17050866143172...|\n",
            "|[-2.2109294543972...|     0|       1.0|[0.41516929905747...|\n",
            "+--------------------+------+----------+--------------------+\n",
            "only showing top 20 rows\n",
            "\n"
          ]
        }
      ]
    },
    {
      "cell_type": "code",
      "source": [
        "# Evaluate the Model\n",
        "evaluator = BinaryClassificationEvaluator(\n",
        "    labelCol=\"Exited\",\n",
        "    rawPredictionCol=\"prediction\"\n",
        ")\n",
        "\n",
        "# Evaluate AUC-PR\n",
        "evaluator.setMetricName(\"areaUnderPR\")\n",
        "auc_pr = evaluator.evaluate(predictions)\n",
        "print(f\"AUC-PR: {auc_pr}\")\n",
        "\n",
        "# Evaluate AUC-ROC\n",
        "evaluator.setMetricName(\"areaUnderROC\")\n",
        "auc_roc = evaluator.evaluate(predictions)\n",
        "print(f\"AUC-ROC: {auc_roc}\")"
      ],
      "metadata": {
        "colab": {
          "base_uri": "https://localhost:8080/"
        },
        "id": "Yl6QPdoSTJ8i",
        "outputId": "c897477e-bc84-443f-f7c4-84869a33fce0"
      },
      "execution_count": 48,
      "outputs": [
        {
          "output_type": "stream",
          "name": "stdout",
          "text": [
            "AUC-PR: 0.6092440665778083\n",
            "AUC-ROC: 0.7040752544282847\n"
          ]
        }
      ]
    },
    {
      "cell_type": "code",
      "source": [
        "# Create evaluator instance\n",
        "evaluator = MulticlassClassificationEvaluator(labelCol=\"Exited\", predictionCol=\"prediction\")\n",
        "\n",
        "# Evaluate F1-Score\n",
        "evaluator.setMetricName(\"f1\")\n",
        "f1_score = evaluator.evaluate(predictions)\n",
        "print(f\"F1-Score: {f1_score}\")\n",
        "\n",
        "# Evaluate Precision\n",
        "evaluator.setMetricName(\"precisionByLabel\")\n",
        "precision = evaluator.evaluate(predictions)\n",
        "print(f\"Precision: {precision}\")\n",
        "\n",
        "# Evaluate Recall\n",
        "evaluator.setMetricName(\"recallByLabel\")\n",
        "recall = evaluator.evaluate(predictions)\n",
        "print(f\"Recall: {recall}\")"
      ],
      "metadata": {
        "colab": {
          "base_uri": "https://localhost:8080/"
        },
        "id": "wIw8U43xTgKG",
        "outputId": "5dfa02ad-a32b-4076-b699-363bb56d5019"
      },
      "execution_count": 51,
      "outputs": [
        {
          "output_type": "stream",
          "name": "stdout",
          "text": [
            "F1-Score: 0.8538697957263403\n",
            "Precision: 0.8803967327887982\n",
            "Recall: 0.9697943444730077\n"
          ]
        }
      ]
    },
    {
      "cell_type": "markdown",
      "source": [
        "## Handle Imbalanced Dataset"
      ],
      "metadata": {
        "id": "UFpcE077Xt9l"
      }
    },
    {
      "cell_type": "code",
      "source": [
        "from imblearn.over_sampling import SMOTE"
      ],
      "metadata": {
        "id": "ZWzG0z3CVRKw"
      },
      "execution_count": 55,
      "outputs": []
    },
    {
      "cell_type": "code",
      "source": [
        "# Frequency table for 'Exited' column\n",
        "spark_df.groupBy(\"Exited\").count().show()"
      ],
      "metadata": {
        "colab": {
          "base_uri": "https://localhost:8080/"
        },
        "id": "dbn0qfdqVRM9",
        "outputId": "a2bc9eac-8052-4aa1-b8de-a9ecd15ac2fe"
      },
      "execution_count": 54,
      "outputs": [
        {
          "output_type": "stream",
          "name": "stdout",
          "text": [
            "+------+-----+\n",
            "|Exited|count|\n",
            "+------+-----+\n",
            "|     1| 2037|\n",
            "|     0| 7963|\n",
            "+------+-----+\n",
            "\n"
          ]
        }
      ]
    },
    {
      "cell_type": "code",
      "source": [
        "pandas_df = spark_df.toPandas() # Convert to Pandas\n",
        "\n",
        "# Seperate X, y\n",
        "X = pandas_df.drop('Exited', axis=1)\n",
        "y = pandas_df['Exited']\n",
        "\n",
        "# Apply SMOTE\n",
        "smote = SMOTE(sampling_strategy=0.5, random_state=42)\n",
        "X_resampled, y_resampled = smote.fit_resample(X, y)\n",
        "\n",
        "# Join resampled X, y to spark_df\n",
        "spark_df_new = spark.createDataFrame(pd.concat([X_resampled, y_resampled], axis=1))\n",
        "\n",
        "# Recheck dataset\n",
        "spark_df_new.groupBy(\"Exited\").count().show()"
      ],
      "metadata": {
        "colab": {
          "base_uri": "https://localhost:8080/"
        },
        "id": "woVcXTYQYj4z",
        "outputId": "137d5b4b-41bd-4400-c8d3-ca1c76ea04c6"
      },
      "execution_count": 71,
      "outputs": [
        {
          "output_type": "stream",
          "name": "stdout",
          "text": [
            "+------+-----+\n",
            "|Exited|count|\n",
            "+------+-----+\n",
            "|     0| 7963|\n",
            "|     1| 3981|\n",
            "+------+-----+\n",
            "\n"
          ]
        }
      ]
    },
    {
      "cell_type": "markdown",
      "source": [
        "### Re-Train XGBClassifier with Resampled Dataframe"
      ],
      "metadata": {
        "id": "QKFJsWnOZezA"
      }
    },
    {
      "cell_type": "code",
      "source": [
        "train_new, test_new = spark_df_new.randomSplit([0.8, 0.2], seed=42)\n",
        "\n",
        "pipeline_xgb = Pipeline(stages=[assembler, scaler, xgb])\n",
        "# Train\n",
        "model_xgb = pipeline_xgb.fit(train_new)\n",
        "# Predictions\n",
        "predictions_xgb = model_xgb.transform(test_new)"
      ],
      "metadata": {
        "id": "QnUgL-ntYjzy"
      },
      "execution_count": 78,
      "outputs": []
    },
    {
      "cell_type": "markdown",
      "source": [
        "### Check Accuracy"
      ],
      "metadata": {
        "id": "_hr5NlYrZtrU"
      }
    },
    {
      "cell_type": "code",
      "source": [
        "predictions = model_xgb.transform(test)\n",
        "predictions.select(\"scaled_features\", \"Exited\", \"prediction\", \"probability\").show()"
      ],
      "metadata": {
        "colab": {
          "base_uri": "https://localhost:8080/"
        },
        "id": "Cphxv4_qYjwt",
        "outputId": "90bb38c6-7201-4922-ceea-0515329fa33d"
      },
      "execution_count": 79,
      "outputs": [
        {
          "output_type": "stream",
          "name": "stdout",
          "text": [
            "+--------------------+------+----------+--------------------+\n",
            "|     scaled_features|Exited|prediction|         probability|\n",
            "+--------------------+------+----------+--------------------+\n",
            "|[-3.1643727503228...|     1|       0.0|[0.57491748813397...|\n",
            "|[-3.0796924565684...|     1|       1.0|[0.09219619768104...|\n",
            "|[-3.0267672729719...|     1|       1.0|[0.14949313244633...|\n",
            "|[-2.8891617956210...|     1|       1.0|[0.26040876922317...|\n",
            "|[-2.6245358776385...|     1|       1.0|[0.09264518746911...|\n",
            "|[-2.5610256573227...|     1|       0.0|[0.78770133360803...|\n",
            "|[-2.5186855104455...|     0|       0.0|[0.89624453068261...|\n",
            "|[-2.4975154370069...|     0|       0.0|[0.91067598587244...|\n",
            "|[-2.4657603268490...|     0|       0.0|[0.76819343707422...|\n",
            "|[-2.4551752901297...|     0|       0.0|[0.90052070929690...|\n",
            "|[-2.4445902534104...|     0|       0.0|[0.81410918851858...|\n",
            "|[-2.4445902534104...|     0|       0.0|[0.91222887536113...|\n",
            "|[-2.4445902534104...|     0|       0.0|[0.86178650843064...|\n",
            "|[-2.4234201799718...|     1|       0.0|[0.57154593551463...|\n",
            "|[-2.4022501065332...|     0|       1.0|[0.48290839807469...|\n",
            "|[-2.3704949963753...|     0|       0.0|[0.85095143234835...|\n",
            "|[-2.3493249229367...|     0|       1.0|[0.49193731985748...|\n",
            "|[-2.2963997393402...|     0|       0.0|[0.84719476256684...|\n",
            "|[-2.2752296659016...|     0|       1.0|[0.10835601534823...|\n",
            "|[-2.2646446291823...|     0|       1.0|[0.31646146397518...|\n",
            "+--------------------+------+----------+--------------------+\n",
            "only showing top 20 rows\n",
            "\n"
          ]
        }
      ]
    },
    {
      "cell_type": "code",
      "source": [
        "# Evaluate the Model\n",
        "evaluator = BinaryClassificationEvaluator(\n",
        "    labelCol=\"Exited\",\n",
        "    rawPredictionCol=\"prediction\"\n",
        ")\n",
        "\n",
        "# Evaluate AUC-PR\n",
        "evaluator.setMetricName(\"areaUnderPR\")\n",
        "auc_pr = evaluator.evaluate(predictions)\n",
        "print(f\"AUC-PR: {auc_pr}\")\n",
        "\n",
        "# Evaluate AUC-ROC\n",
        "evaluator.setMetricName(\"areaUnderROC\")\n",
        "auc_roc = evaluator.evaluate(predictions)\n",
        "print(f\"AUC-ROC: {auc_roc}\")"
      ],
      "metadata": {
        "colab": {
          "base_uri": "https://localhost:8080/"
        },
        "id": "obGPxGrrYjuI",
        "outputId": "ca0bc7fa-6e28-4628-8cff-2f7464ef5f93"
      },
      "execution_count": 80,
      "outputs": [
        {
          "output_type": "stream",
          "name": "stdout",
          "text": [
            "AUC-PR: 0.5490148988205793\n",
            "AUC-ROC: 0.7549116103813783\n"
          ]
        }
      ]
    },
    {
      "cell_type": "code",
      "source": [],
      "metadata": {
        "id": "O3gSGIAIZ-HQ"
      },
      "execution_count": 80,
      "outputs": []
    }
  ]
}