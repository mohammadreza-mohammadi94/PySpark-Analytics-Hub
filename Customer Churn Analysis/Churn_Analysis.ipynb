{
  "nbformat": 4,
  "nbformat_minor": 0,
  "metadata": {
    "colab": {
      "provenance": [],
      "authorship_tag": "ABX9TyOYFda9NDFiU7MA2lz1VZSP",
      "include_colab_link": true
    },
    "kernelspec": {
      "name": "python3",
      "display_name": "Python 3"
    },
    "language_info": {
      "name": "python"
    }
  },
  "cells": [
    {
      "cell_type": "markdown",
      "metadata": {
        "id": "view-in-github",
        "colab_type": "text"
      },
      "source": [
        "<a href=\"https://colab.research.google.com/github/mohammadreza-mohammadi94/PySpark-Analytics-Hub/blob/main/Customer%20Churn%20Analysis/Churn_Analysis.ipynb\" target=\"_parent\"><img src=\"https://colab.research.google.com/assets/colab-badge.svg\" alt=\"Open In Colab\"/></a>"
      ]
    },
    {
      "cell_type": "markdown",
      "source": [
        "# Setup Enviroment"
      ],
      "metadata": {
        "id": "sfWnzlqX8iWl"
      }
    },
    {
      "cell_type": "code",
      "execution_count": 4,
      "metadata": {
        "colab": {
          "base_uri": "https://localhost:8080/"
        },
        "id": "Vs4eDB2p7MpO",
        "outputId": "91da3323-1fb0-4af0-e70e-cbb7fc4a0f95"
      },
      "outputs": [
        {
          "output_type": "stream",
          "name": "stdout",
          "text": [
            "Dataset URL: https://www.kaggle.com/datasets/halimedogan/churn-dataset\n",
            "License(s): unknown\n",
            "churn-dataset.zip: Skipping, found more recently modified local copy (use --force to force download)\n",
            "Archive:  churn-dataset.zip\n",
            "  inflating: churn2.csv              \n"
          ]
        }
      ],
      "source": [
        "# !/bin/bash\n",
        "%%bash\n",
        "kaggle datasets download halimedogan/churn-dataset\n",
        "unzip churn-dataset.zip"
      ]
    },
    {
      "cell_type": "code",
      "source": [
        "%%bash\n",
        "# pip install sparkmagic"
      ],
      "metadata": {
        "id": "94IAxaEC7ac_"
      },
      "execution_count": null,
      "outputs": []
    },
    {
      "cell_type": "markdown",
      "source": [
        "# Import Libraries"
      ],
      "metadata": {
        "id": "Di11MmCD8kAu"
      }
    },
    {
      "cell_type": "code",
      "source": [
        "import pandas  as pd\n",
        "import seaborn as sns\n",
        "import numpy as np\n",
        "from pyspark.ml.classification import GBTClassifier, LogisticRegression\n",
        "from pyspark.ml.evaluation import BinaryClassificationEvaluator, MulticlassClassificationEvaluator\n",
        "from pyspark.ml.feature import (StringIndexer,\n",
        "                                VectorAssembler,\n",
        "                                OneHotEncoder,\n",
        "                                StandardScaler,\n",
        "                                Bucketizer)\n",
        "from pyspark.ml.tuning import CrossValidator, ParamGridBuilder\n",
        "from pyspark.sql import SparkSession\n",
        "from pyspark.sql import functions as f\n",
        "from pyspark.sql.window import Window\n",
        "\n",
        "import warnings\n",
        "warnings.filterwarnings('ignore', category=DeprecationWarning)\n",
        "warnings.filterwarnings('ignore', category=FutureWarning)\n",
        "\n",
        "# Setup pandas option\n",
        "pd.set_option('display.max_columns', None)\n",
        "pd.set_option('display.float_format', lambda x: '%.3f' % x)"
      ],
      "metadata": {
        "id": "kVYKRYQ87h-i"
      },
      "execution_count": 32,
      "outputs": []
    },
    {
      "cell_type": "markdown",
      "source": [
        "# Setup Spark Session & Import DataFrame"
      ],
      "metadata": {
        "id": "pLHh3S-Z9WUB"
      }
    },
    {
      "cell_type": "code",
      "source": [
        "spark = SparkSession.builder.master(\"local[*]\").getOrCreate()"
      ],
      "metadata": {
        "id": "GgXjhJHB9UAC"
      },
      "execution_count": 9,
      "outputs": []
    },
    {
      "cell_type": "code",
      "source": [
        "spark_df = spark.read.csv('/content/churn2.csv',\n",
        "                          header=True,\n",
        "                          inferSchema=True)"
      ],
      "metadata": {
        "id": "8YqWisvA9pw8"
      },
      "execution_count": 13,
      "outputs": []
    },
    {
      "cell_type": "markdown",
      "source": [
        "# Data Analysis"
      ],
      "metadata": {
        "id": "yVdxfHuB9nTm"
      }
    },
    {
      "cell_type": "code",
      "source": [
        "spark_df.show(10)"
      ],
      "metadata": {
        "colab": {
          "base_uri": "https://localhost:8080/"
        },
        "id": "IloW01d09fob",
        "outputId": "b6c5f137-bb02-4790-c058-ec4ba167566e"
      },
      "execution_count": 14,
      "outputs": [
        {
          "output_type": "stream",
          "name": "stdout",
          "text": [
            "+---------+----------+--------+-----------+---------+------+---+------+---------+-------------+---------+--------------+---------------+------+\n",
            "|RowNumber|CustomerId| Surname|CreditScore|Geography|Gender|Age|Tenure|  Balance|NumOfProducts|HasCrCard|IsActiveMember|EstimatedSalary|Exited|\n",
            "+---------+----------+--------+-----------+---------+------+---+------+---------+-------------+---------+--------------+---------------+------+\n",
            "|        1|  15634602|Hargrave|        619|   France|Female| 42|     2|      0.0|            1|        1|             1|      101348.88|     1|\n",
            "|        2|  15647311|    Hill|        608|    Spain|Female| 41|     1| 83807.86|            1|        0|             1|      112542.58|     0|\n",
            "|        3|  15619304|    Onio|        502|   France|Female| 42|     8| 159660.8|            3|        1|             0|      113931.57|     1|\n",
            "|        4|  15701354|    Boni|        699|   France|Female| 39|     1|      0.0|            2|        0|             0|       93826.63|     0|\n",
            "|        5|  15737888|Mitchell|        850|    Spain|Female| 43|     2|125510.82|            1|        1|             1|        79084.1|     0|\n",
            "|        6|  15574012|     Chu|        645|    Spain|  Male| 44|     8|113755.78|            2|        1|             0|      149756.71|     1|\n",
            "|        7|  15592531|Bartlett|        822|   France|  Male| 50|     7|      0.0|            2|        1|             1|        10062.8|     0|\n",
            "|        8|  15656148|  Obinna|        376|  Germany|Female| 29|     4|115046.74|            4|        1|             0|      119346.88|     1|\n",
            "|        9|  15792365|      He|        501|   France|  Male| 44|     4|142051.07|            2|        0|             1|        74940.5|     0|\n",
            "|       10|  15592389|      H?|        684|   France|  Male| 27|     2|134603.88|            1|        1|             1|       71725.73|     0|\n",
            "+---------+----------+--------+-----------+---------+------+---+------+---------+-------------+---------+--------------+---------------+------+\n",
            "only showing top 10 rows\n",
            "\n"
          ]
        }
      ]
    },
    {
      "cell_type": "code",
      "source": [
        "# Shape\n",
        "print(\"Shape: \",(spark_df.count(), len(spark_df.columns)))"
      ],
      "metadata": {
        "colab": {
          "base_uri": "https://localhost:8080/"
        },
        "id": "M0SV6yTL9270",
        "outputId": "9fd4bda2-adf3-42dc-965a-4e0a28415358"
      },
      "execution_count": 16,
      "outputs": [
        {
          "output_type": "stream",
          "name": "stdout",
          "text": [
            "Shape:  (10000, 14)\n"
          ]
        }
      ]
    },
    {
      "cell_type": "code",
      "source": [
        "# Check Schema\n",
        "spark_df.printSchema()"
      ],
      "metadata": {
        "colab": {
          "base_uri": "https://localhost:8080/"
        },
        "id": "93B0Guw--Abs",
        "outputId": "cdeb09bc-c8d7-4f18-df5c-f113b3493fd7"
      },
      "execution_count": 17,
      "outputs": [
        {
          "output_type": "stream",
          "name": "stdout",
          "text": [
            "root\n",
            " |-- RowNumber: integer (nullable = true)\n",
            " |-- CustomerId: integer (nullable = true)\n",
            " |-- Surname: string (nullable = true)\n",
            " |-- CreditScore: integer (nullable = true)\n",
            " |-- Geography: string (nullable = true)\n",
            " |-- Gender: string (nullable = true)\n",
            " |-- Age: integer (nullable = true)\n",
            " |-- Tenure: integer (nullable = true)\n",
            " |-- Balance: double (nullable = true)\n",
            " |-- NumOfProducts: integer (nullable = true)\n",
            " |-- HasCrCard: integer (nullable = true)\n",
            " |-- IsActiveMember: integer (nullable = true)\n",
            " |-- EstimatedSalary: double (nullable = true)\n",
            " |-- Exited: integer (nullable = true)\n",
            "\n"
          ]
        }
      ]
    },
    {
      "cell_type": "code",
      "source": [
        "# Check Statistical Summary\n",
        "spark_df.describe().toPandas().transpose()"
      ],
      "metadata": {
        "colab": {
          "base_uri": "https://localhost:8080/",
          "height": 519
        },
        "id": "vuMih2wQ-GFW",
        "outputId": "25b621c1-164e-48cb-9704-94ce37303db2"
      },
      "execution_count": 18,
      "outputs": [
        {
          "output_type": "execute_result",
          "data": {
            "text/plain": [
              "                     0                  1                    2         3  \\\n",
              "summary          count               mean               stddev       min   \n",
              "RowNumber        10000             5000.5   2886.8956799071675         1   \n",
              "CustomerId       10000    1.56909405694E7    71936.18612274907  15565701   \n",
              "Surname          10000               None                 None     Abazu   \n",
              "CreditScore      10000           650.5288    96.65329873613035       350   \n",
              "Geography        10000               None                 None    France   \n",
              "Gender           10000               None                 None    Female   \n",
              "Age              10000            38.9218   10.487806451704587        18   \n",
              "Tenure           10000             5.0128   2.8921743770496837         0   \n",
              "Balance          10000  76485.88928799961    62397.40520238599       0.0   \n",
              "NumOfProducts    10000             1.5302   0.5816543579989917         1   \n",
              "HasCrCard        10000             0.7055  0.45584046447513327         0   \n",
              "IsActiveMember   10000             0.5151  0.49979692845891815         0   \n",
              "EstimatedSalary  10000  100090.2398809998    57510.49281769821     11.58   \n",
              "Exited           10000             0.2037  0.40276858399486065         0   \n",
              "\n",
              "                         4  \n",
              "summary                max  \n",
              "RowNumber            10000  \n",
              "CustomerId        15815690  \n",
              "Surname             Zuyeva  \n",
              "CreditScore            850  \n",
              "Geography            Spain  \n",
              "Gender                Male  \n",
              "Age                     92  \n",
              "Tenure                  10  \n",
              "Balance          250898.09  \n",
              "NumOfProducts            4  \n",
              "HasCrCard                1  \n",
              "IsActiveMember           1  \n",
              "EstimatedSalary  199992.48  \n",
              "Exited                   1  "
            ],
            "text/html": [
              "\n",
              "  <div id=\"df-def8933c-1bd4-4ebb-a0b3-97ba547bc8a3\" class=\"colab-df-container\">\n",
              "    <div>\n",
              "<style scoped>\n",
              "    .dataframe tbody tr th:only-of-type {\n",
              "        vertical-align: middle;\n",
              "    }\n",
              "\n",
              "    .dataframe tbody tr th {\n",
              "        vertical-align: top;\n",
              "    }\n",
              "\n",
              "    .dataframe thead th {\n",
              "        text-align: right;\n",
              "    }\n",
              "</style>\n",
              "<table border=\"1\" class=\"dataframe\">\n",
              "  <thead>\n",
              "    <tr style=\"text-align: right;\">\n",
              "      <th></th>\n",
              "      <th>0</th>\n",
              "      <th>1</th>\n",
              "      <th>2</th>\n",
              "      <th>3</th>\n",
              "      <th>4</th>\n",
              "    </tr>\n",
              "  </thead>\n",
              "  <tbody>\n",
              "    <tr>\n",
              "      <th>summary</th>\n",
              "      <td>count</td>\n",
              "      <td>mean</td>\n",
              "      <td>stddev</td>\n",
              "      <td>min</td>\n",
              "      <td>max</td>\n",
              "    </tr>\n",
              "    <tr>\n",
              "      <th>RowNumber</th>\n",
              "      <td>10000</td>\n",
              "      <td>5000.5</td>\n",
              "      <td>2886.8956799071675</td>\n",
              "      <td>1</td>\n",
              "      <td>10000</td>\n",
              "    </tr>\n",
              "    <tr>\n",
              "      <th>CustomerId</th>\n",
              "      <td>10000</td>\n",
              "      <td>1.56909405694E7</td>\n",
              "      <td>71936.18612274907</td>\n",
              "      <td>15565701</td>\n",
              "      <td>15815690</td>\n",
              "    </tr>\n",
              "    <tr>\n",
              "      <th>Surname</th>\n",
              "      <td>10000</td>\n",
              "      <td>None</td>\n",
              "      <td>None</td>\n",
              "      <td>Abazu</td>\n",
              "      <td>Zuyeva</td>\n",
              "    </tr>\n",
              "    <tr>\n",
              "      <th>CreditScore</th>\n",
              "      <td>10000</td>\n",
              "      <td>650.5288</td>\n",
              "      <td>96.65329873613035</td>\n",
              "      <td>350</td>\n",
              "      <td>850</td>\n",
              "    </tr>\n",
              "    <tr>\n",
              "      <th>Geography</th>\n",
              "      <td>10000</td>\n",
              "      <td>None</td>\n",
              "      <td>None</td>\n",
              "      <td>France</td>\n",
              "      <td>Spain</td>\n",
              "    </tr>\n",
              "    <tr>\n",
              "      <th>Gender</th>\n",
              "      <td>10000</td>\n",
              "      <td>None</td>\n",
              "      <td>None</td>\n",
              "      <td>Female</td>\n",
              "      <td>Male</td>\n",
              "    </tr>\n",
              "    <tr>\n",
              "      <th>Age</th>\n",
              "      <td>10000</td>\n",
              "      <td>38.9218</td>\n",
              "      <td>10.487806451704587</td>\n",
              "      <td>18</td>\n",
              "      <td>92</td>\n",
              "    </tr>\n",
              "    <tr>\n",
              "      <th>Tenure</th>\n",
              "      <td>10000</td>\n",
              "      <td>5.0128</td>\n",
              "      <td>2.8921743770496837</td>\n",
              "      <td>0</td>\n",
              "      <td>10</td>\n",
              "    </tr>\n",
              "    <tr>\n",
              "      <th>Balance</th>\n",
              "      <td>10000</td>\n",
              "      <td>76485.88928799961</td>\n",
              "      <td>62397.40520238599</td>\n",
              "      <td>0.0</td>\n",
              "      <td>250898.09</td>\n",
              "    </tr>\n",
              "    <tr>\n",
              "      <th>NumOfProducts</th>\n",
              "      <td>10000</td>\n",
              "      <td>1.5302</td>\n",
              "      <td>0.5816543579989917</td>\n",
              "      <td>1</td>\n",
              "      <td>4</td>\n",
              "    </tr>\n",
              "    <tr>\n",
              "      <th>HasCrCard</th>\n",
              "      <td>10000</td>\n",
              "      <td>0.7055</td>\n",
              "      <td>0.45584046447513327</td>\n",
              "      <td>0</td>\n",
              "      <td>1</td>\n",
              "    </tr>\n",
              "    <tr>\n",
              "      <th>IsActiveMember</th>\n",
              "      <td>10000</td>\n",
              "      <td>0.5151</td>\n",
              "      <td>0.49979692845891815</td>\n",
              "      <td>0</td>\n",
              "      <td>1</td>\n",
              "    </tr>\n",
              "    <tr>\n",
              "      <th>EstimatedSalary</th>\n",
              "      <td>10000</td>\n",
              "      <td>100090.2398809998</td>\n",
              "      <td>57510.49281769821</td>\n",
              "      <td>11.58</td>\n",
              "      <td>199992.48</td>\n",
              "    </tr>\n",
              "    <tr>\n",
              "      <th>Exited</th>\n",
              "      <td>10000</td>\n",
              "      <td>0.2037</td>\n",
              "      <td>0.40276858399486065</td>\n",
              "      <td>0</td>\n",
              "      <td>1</td>\n",
              "    </tr>\n",
              "  </tbody>\n",
              "</table>\n",
              "</div>\n",
              "    <div class=\"colab-df-buttons\">\n",
              "\n",
              "  <div class=\"colab-df-container\">\n",
              "    <button class=\"colab-df-convert\" onclick=\"convertToInteractive('df-def8933c-1bd4-4ebb-a0b3-97ba547bc8a3')\"\n",
              "            title=\"Convert this dataframe to an interactive table.\"\n",
              "            style=\"display:none;\">\n",
              "\n",
              "  <svg xmlns=\"http://www.w3.org/2000/svg\" height=\"24px\" viewBox=\"0 -960 960 960\">\n",
              "    <path d=\"M120-120v-720h720v720H120Zm60-500h600v-160H180v160Zm220 220h160v-160H400v160Zm0 220h160v-160H400v160ZM180-400h160v-160H180v160Zm440 0h160v-160H620v160ZM180-180h160v-160H180v160Zm440 0h160v-160H620v160Z\"/>\n",
              "  </svg>\n",
              "    </button>\n",
              "\n",
              "  <style>\n",
              "    .colab-df-container {\n",
              "      display:flex;\n",
              "      gap: 12px;\n",
              "    }\n",
              "\n",
              "    .colab-df-convert {\n",
              "      background-color: #E8F0FE;\n",
              "      border: none;\n",
              "      border-radius: 50%;\n",
              "      cursor: pointer;\n",
              "      display: none;\n",
              "      fill: #1967D2;\n",
              "      height: 32px;\n",
              "      padding: 0 0 0 0;\n",
              "      width: 32px;\n",
              "    }\n",
              "\n",
              "    .colab-df-convert:hover {\n",
              "      background-color: #E2EBFA;\n",
              "      box-shadow: 0px 1px 2px rgba(60, 64, 67, 0.3), 0px 1px 3px 1px rgba(60, 64, 67, 0.15);\n",
              "      fill: #174EA6;\n",
              "    }\n",
              "\n",
              "    .colab-df-buttons div {\n",
              "      margin-bottom: 4px;\n",
              "    }\n",
              "\n",
              "    [theme=dark] .colab-df-convert {\n",
              "      background-color: #3B4455;\n",
              "      fill: #D2E3FC;\n",
              "    }\n",
              "\n",
              "    [theme=dark] .colab-df-convert:hover {\n",
              "      background-color: #434B5C;\n",
              "      box-shadow: 0px 1px 3px 1px rgba(0, 0, 0, 0.15);\n",
              "      filter: drop-shadow(0px 1px 2px rgba(0, 0, 0, 0.3));\n",
              "      fill: #FFFFFF;\n",
              "    }\n",
              "  </style>\n",
              "\n",
              "    <script>\n",
              "      const buttonEl =\n",
              "        document.querySelector('#df-def8933c-1bd4-4ebb-a0b3-97ba547bc8a3 button.colab-df-convert');\n",
              "      buttonEl.style.display =\n",
              "        google.colab.kernel.accessAllowed ? 'block' : 'none';\n",
              "\n",
              "      async function convertToInteractive(key) {\n",
              "        const element = document.querySelector('#df-def8933c-1bd4-4ebb-a0b3-97ba547bc8a3');\n",
              "        const dataTable =\n",
              "          await google.colab.kernel.invokeFunction('convertToInteractive',\n",
              "                                                    [key], {});\n",
              "        if (!dataTable) return;\n",
              "\n",
              "        const docLinkHtml = 'Like what you see? Visit the ' +\n",
              "          '<a target=\"_blank\" href=https://colab.research.google.com/notebooks/data_table.ipynb>data table notebook</a>'\n",
              "          + ' to learn more about interactive tables.';\n",
              "        element.innerHTML = '';\n",
              "        dataTable['output_type'] = 'display_data';\n",
              "        await google.colab.output.renderOutput(dataTable, element);\n",
              "        const docLink = document.createElement('div');\n",
              "        docLink.innerHTML = docLinkHtml;\n",
              "        element.appendChild(docLink);\n",
              "      }\n",
              "    </script>\n",
              "  </div>\n",
              "\n",
              "\n",
              "<div id=\"df-ead6177f-4d76-4cfd-9e71-ac0634ba0634\">\n",
              "  <button class=\"colab-df-quickchart\" onclick=\"quickchart('df-ead6177f-4d76-4cfd-9e71-ac0634ba0634')\"\n",
              "            title=\"Suggest charts\"\n",
              "            style=\"display:none;\">\n",
              "\n",
              "<svg xmlns=\"http://www.w3.org/2000/svg\" height=\"24px\"viewBox=\"0 0 24 24\"\n",
              "     width=\"24px\">\n",
              "    <g>\n",
              "        <path d=\"M19 3H5c-1.1 0-2 .9-2 2v14c0 1.1.9 2 2 2h14c1.1 0 2-.9 2-2V5c0-1.1-.9-2-2-2zM9 17H7v-7h2v7zm4 0h-2V7h2v10zm4 0h-2v-4h2v4z\"/>\n",
              "    </g>\n",
              "</svg>\n",
              "  </button>\n",
              "\n",
              "<style>\n",
              "  .colab-df-quickchart {\n",
              "      --bg-color: #E8F0FE;\n",
              "      --fill-color: #1967D2;\n",
              "      --hover-bg-color: #E2EBFA;\n",
              "      --hover-fill-color: #174EA6;\n",
              "      --disabled-fill-color: #AAA;\n",
              "      --disabled-bg-color: #DDD;\n",
              "  }\n",
              "\n",
              "  [theme=dark] .colab-df-quickchart {\n",
              "      --bg-color: #3B4455;\n",
              "      --fill-color: #D2E3FC;\n",
              "      --hover-bg-color: #434B5C;\n",
              "      --hover-fill-color: #FFFFFF;\n",
              "      --disabled-bg-color: #3B4455;\n",
              "      --disabled-fill-color: #666;\n",
              "  }\n",
              "\n",
              "  .colab-df-quickchart {\n",
              "    background-color: var(--bg-color);\n",
              "    border: none;\n",
              "    border-radius: 50%;\n",
              "    cursor: pointer;\n",
              "    display: none;\n",
              "    fill: var(--fill-color);\n",
              "    height: 32px;\n",
              "    padding: 0;\n",
              "    width: 32px;\n",
              "  }\n",
              "\n",
              "  .colab-df-quickchart:hover {\n",
              "    background-color: var(--hover-bg-color);\n",
              "    box-shadow: 0 1px 2px rgba(60, 64, 67, 0.3), 0 1px 3px 1px rgba(60, 64, 67, 0.15);\n",
              "    fill: var(--button-hover-fill-color);\n",
              "  }\n",
              "\n",
              "  .colab-df-quickchart-complete:disabled,\n",
              "  .colab-df-quickchart-complete:disabled:hover {\n",
              "    background-color: var(--disabled-bg-color);\n",
              "    fill: var(--disabled-fill-color);\n",
              "    box-shadow: none;\n",
              "  }\n",
              "\n",
              "  .colab-df-spinner {\n",
              "    border: 2px solid var(--fill-color);\n",
              "    border-color: transparent;\n",
              "    border-bottom-color: var(--fill-color);\n",
              "    animation:\n",
              "      spin 1s steps(1) infinite;\n",
              "  }\n",
              "\n",
              "  @keyframes spin {\n",
              "    0% {\n",
              "      border-color: transparent;\n",
              "      border-bottom-color: var(--fill-color);\n",
              "      border-left-color: var(--fill-color);\n",
              "    }\n",
              "    20% {\n",
              "      border-color: transparent;\n",
              "      border-left-color: var(--fill-color);\n",
              "      border-top-color: var(--fill-color);\n",
              "    }\n",
              "    30% {\n",
              "      border-color: transparent;\n",
              "      border-left-color: var(--fill-color);\n",
              "      border-top-color: var(--fill-color);\n",
              "      border-right-color: var(--fill-color);\n",
              "    }\n",
              "    40% {\n",
              "      border-color: transparent;\n",
              "      border-right-color: var(--fill-color);\n",
              "      border-top-color: var(--fill-color);\n",
              "    }\n",
              "    60% {\n",
              "      border-color: transparent;\n",
              "      border-right-color: var(--fill-color);\n",
              "    }\n",
              "    80% {\n",
              "      border-color: transparent;\n",
              "      border-right-color: var(--fill-color);\n",
              "      border-bottom-color: var(--fill-color);\n",
              "    }\n",
              "    90% {\n",
              "      border-color: transparent;\n",
              "      border-bottom-color: var(--fill-color);\n",
              "    }\n",
              "  }\n",
              "</style>\n",
              "\n",
              "  <script>\n",
              "    async function quickchart(key) {\n",
              "      const quickchartButtonEl =\n",
              "        document.querySelector('#' + key + ' button');\n",
              "      quickchartButtonEl.disabled = true;  // To prevent multiple clicks.\n",
              "      quickchartButtonEl.classList.add('colab-df-spinner');\n",
              "      try {\n",
              "        const charts = await google.colab.kernel.invokeFunction(\n",
              "            'suggestCharts', [key], {});\n",
              "      } catch (error) {\n",
              "        console.error('Error during call to suggestCharts:', error);\n",
              "      }\n",
              "      quickchartButtonEl.classList.remove('colab-df-spinner');\n",
              "      quickchartButtonEl.classList.add('colab-df-quickchart-complete');\n",
              "    }\n",
              "    (() => {\n",
              "      let quickchartButtonEl =\n",
              "        document.querySelector('#df-ead6177f-4d76-4cfd-9e71-ac0634ba0634 button');\n",
              "      quickchartButtonEl.style.display =\n",
              "        google.colab.kernel.accessAllowed ? 'block' : 'none';\n",
              "    })();\n",
              "  </script>\n",
              "</div>\n",
              "\n",
              "    </div>\n",
              "  </div>\n"
            ],
            "application/vnd.google.colaboratory.intrinsic+json": {
              "type": "dataframe",
              "summary": "{\n  \"name\": \"spark_df\",\n  \"rows\": 15,\n  \"fields\": [\n    {\n      \"column\": 0,\n      \"properties\": {\n        \"dtype\": \"category\",\n        \"num_unique_values\": 2,\n        \"samples\": [\n          \"10000\",\n          \"count\"\n        ],\n        \"semantic_type\": \"\",\n        \"description\": \"\"\n      }\n    },\n    {\n      \"column\": 1,\n      \"properties\": {\n        \"dtype\": \"string\",\n        \"num_unique_values\": 12,\n        \"samples\": [\n          \"100090.2398809998\",\n          \"0.5151\"\n        ],\n        \"semantic_type\": \"\",\n        \"description\": \"\"\n      }\n    },\n    {\n      \"column\": 2,\n      \"properties\": {\n        \"dtype\": \"string\",\n        \"num_unique_values\": 12,\n        \"samples\": [\n          \"57510.49281769821\",\n          \"0.49979692845891815\"\n        ],\n        \"semantic_type\": \"\",\n        \"description\": \"\"\n      }\n    },\n    {\n      \"column\": 3,\n      \"properties\": {\n        \"dtype\": \"string\",\n        \"num_unique_values\": 11,\n        \"samples\": [\n          \"France\",\n          \"min\"\n        ],\n        \"semantic_type\": \"\",\n        \"description\": \"\"\n      }\n    },\n    {\n      \"column\": 4,\n      \"properties\": {\n        \"dtype\": \"string\",\n        \"num_unique_values\": 13,\n        \"samples\": [\n          \"1\",\n          \"250898.09\"\n        ],\n        \"semantic_type\": \"\",\n        \"description\": \"\"\n      }\n    }\n  ]\n}"
            }
          },
          "metadata": {},
          "execution_count": 18
        }
      ]
    },
    {
      "cell_type": "code",
      "source": [
        "# Check exited customer\n",
        "spark_df.groupby('exited').count().show()"
      ],
      "metadata": {
        "colab": {
          "base_uri": "https://localhost:8080/"
        },
        "id": "73ESpWVt-Yf2",
        "outputId": "a40ab048-9d43-4dda-bf4a-3935e7aee3e5"
      },
      "execution_count": 19,
      "outputs": [
        {
          "output_type": "stream",
          "name": "stdout",
          "text": [
            "+------+-----+\n",
            "|exited|count|\n",
            "+------+-----+\n",
            "|     1| 2037|\n",
            "|     0| 7963|\n",
            "+------+-----+\n",
            "\n"
          ]
        }
      ]
    },
    {
      "cell_type": "code",
      "source": [
        "# Check customers who have credit card\n",
        "spark_df.groupby('HasCrCard').count().show()"
      ],
      "metadata": {
        "colab": {
          "base_uri": "https://localhost:8080/"
        },
        "id": "GqfdzSdA-iiw",
        "outputId": "ed1ec946-4816-4a84-877c-79cde894d305"
      },
      "execution_count": 20,
      "outputs": [
        {
          "output_type": "stream",
          "name": "stdout",
          "text": [
            "+---------+-----+\n",
            "|HasCrCard|count|\n",
            "+---------+-----+\n",
            "|        1| 7055|\n",
            "|        0| 2945|\n",
            "+---------+-----+\n",
            "\n"
          ]
        }
      ]
    },
    {
      "cell_type": "code",
      "source": [
        "# Groupby exited customer with their estimated salayar and whether have credit card or no\n",
        "spark_df.groupby(\"Exited\").agg({\"EstimatedSalary\": \"mean\", 'HasCrCard': \"count\"}).show()"
      ],
      "metadata": {
        "colab": {
          "base_uri": "https://localhost:8080/"
        },
        "id": "mnwbJ94I-5QS",
        "outputId": "d85e23d2-44d2-4c51-96e6-b3fe1b27859c"
      },
      "execution_count": 22,
      "outputs": [
        {
          "output_type": "stream",
          "name": "stdout",
          "text": [
            "+------+----------------+--------------------+\n",
            "|Exited|count(HasCrCard)|avg(EstimatedSalary)|\n",
            "+------+----------------+--------------------+\n",
            "|     1|            2037|   101465.6775306824|\n",
            "|     0|            7963|   99738.39177194514|\n",
            "+------+----------------+--------------------+\n",
            "\n"
          ]
        }
      ]
    },
    {
      "cell_type": "code",
      "source": [
        "# Check Missing values\n",
        "spark_df.select([f.count(f.when(f.col(c).isNull(), c)).alias(c) for c in spark_df.columns]).toPandas().T"
      ],
      "metadata": {
        "colab": {
          "base_uri": "https://localhost:8080/",
          "height": 488
        },
        "id": "cn9iSTfo-5N0",
        "outputId": "a0a1cabd-2523-47ed-d100-9794a17d9847"
      },
      "execution_count": 24,
      "outputs": [
        {
          "output_type": "execute_result",
          "data": {
            "text/plain": [
              "                 0\n",
              "RowNumber        0\n",
              "CustomerId       0\n",
              "Surname          0\n",
              "CreditScore      0\n",
              "Geography        0\n",
              "Gender           0\n",
              "Age              0\n",
              "Tenure           0\n",
              "Balance          0\n",
              "NumOfProducts    0\n",
              "HasCrCard        0\n",
              "IsActiveMember   0\n",
              "EstimatedSalary  0\n",
              "Exited           0"
            ],
            "text/html": [
              "\n",
              "  <div id=\"df-4535f9e1-25ca-4506-a8a2-bf6d43031bc9\" class=\"colab-df-container\">\n",
              "    <div>\n",
              "<style scoped>\n",
              "    .dataframe tbody tr th:only-of-type {\n",
              "        vertical-align: middle;\n",
              "    }\n",
              "\n",
              "    .dataframe tbody tr th {\n",
              "        vertical-align: top;\n",
              "    }\n",
              "\n",
              "    .dataframe thead th {\n",
              "        text-align: right;\n",
              "    }\n",
              "</style>\n",
              "<table border=\"1\" class=\"dataframe\">\n",
              "  <thead>\n",
              "    <tr style=\"text-align: right;\">\n",
              "      <th></th>\n",
              "      <th>0</th>\n",
              "    </tr>\n",
              "  </thead>\n",
              "  <tbody>\n",
              "    <tr>\n",
              "      <th>RowNumber</th>\n",
              "      <td>0</td>\n",
              "    </tr>\n",
              "    <tr>\n",
              "      <th>CustomerId</th>\n",
              "      <td>0</td>\n",
              "    </tr>\n",
              "    <tr>\n",
              "      <th>Surname</th>\n",
              "      <td>0</td>\n",
              "    </tr>\n",
              "    <tr>\n",
              "      <th>CreditScore</th>\n",
              "      <td>0</td>\n",
              "    </tr>\n",
              "    <tr>\n",
              "      <th>Geography</th>\n",
              "      <td>0</td>\n",
              "    </tr>\n",
              "    <tr>\n",
              "      <th>Gender</th>\n",
              "      <td>0</td>\n",
              "    </tr>\n",
              "    <tr>\n",
              "      <th>Age</th>\n",
              "      <td>0</td>\n",
              "    </tr>\n",
              "    <tr>\n",
              "      <th>Tenure</th>\n",
              "      <td>0</td>\n",
              "    </tr>\n",
              "    <tr>\n",
              "      <th>Balance</th>\n",
              "      <td>0</td>\n",
              "    </tr>\n",
              "    <tr>\n",
              "      <th>NumOfProducts</th>\n",
              "      <td>0</td>\n",
              "    </tr>\n",
              "    <tr>\n",
              "      <th>HasCrCard</th>\n",
              "      <td>0</td>\n",
              "    </tr>\n",
              "    <tr>\n",
              "      <th>IsActiveMember</th>\n",
              "      <td>0</td>\n",
              "    </tr>\n",
              "    <tr>\n",
              "      <th>EstimatedSalary</th>\n",
              "      <td>0</td>\n",
              "    </tr>\n",
              "    <tr>\n",
              "      <th>Exited</th>\n",
              "      <td>0</td>\n",
              "    </tr>\n",
              "  </tbody>\n",
              "</table>\n",
              "</div>\n",
              "    <div class=\"colab-df-buttons\">\n",
              "\n",
              "  <div class=\"colab-df-container\">\n",
              "    <button class=\"colab-df-convert\" onclick=\"convertToInteractive('df-4535f9e1-25ca-4506-a8a2-bf6d43031bc9')\"\n",
              "            title=\"Convert this dataframe to an interactive table.\"\n",
              "            style=\"display:none;\">\n",
              "\n",
              "  <svg xmlns=\"http://www.w3.org/2000/svg\" height=\"24px\" viewBox=\"0 -960 960 960\">\n",
              "    <path d=\"M120-120v-720h720v720H120Zm60-500h600v-160H180v160Zm220 220h160v-160H400v160Zm0 220h160v-160H400v160ZM180-400h160v-160H180v160Zm440 0h160v-160H620v160ZM180-180h160v-160H180v160Zm440 0h160v-160H620v160Z\"/>\n",
              "  </svg>\n",
              "    </button>\n",
              "\n",
              "  <style>\n",
              "    .colab-df-container {\n",
              "      display:flex;\n",
              "      gap: 12px;\n",
              "    }\n",
              "\n",
              "    .colab-df-convert {\n",
              "      background-color: #E8F0FE;\n",
              "      border: none;\n",
              "      border-radius: 50%;\n",
              "      cursor: pointer;\n",
              "      display: none;\n",
              "      fill: #1967D2;\n",
              "      height: 32px;\n",
              "      padding: 0 0 0 0;\n",
              "      width: 32px;\n",
              "    }\n",
              "\n",
              "    .colab-df-convert:hover {\n",
              "      background-color: #E2EBFA;\n",
              "      box-shadow: 0px 1px 2px rgba(60, 64, 67, 0.3), 0px 1px 3px 1px rgba(60, 64, 67, 0.15);\n",
              "      fill: #174EA6;\n",
              "    }\n",
              "\n",
              "    .colab-df-buttons div {\n",
              "      margin-bottom: 4px;\n",
              "    }\n",
              "\n",
              "    [theme=dark] .colab-df-convert {\n",
              "      background-color: #3B4455;\n",
              "      fill: #D2E3FC;\n",
              "    }\n",
              "\n",
              "    [theme=dark] .colab-df-convert:hover {\n",
              "      background-color: #434B5C;\n",
              "      box-shadow: 0px 1px 3px 1px rgba(0, 0, 0, 0.15);\n",
              "      filter: drop-shadow(0px 1px 2px rgba(0, 0, 0, 0.3));\n",
              "      fill: #FFFFFF;\n",
              "    }\n",
              "  </style>\n",
              "\n",
              "    <script>\n",
              "      const buttonEl =\n",
              "        document.querySelector('#df-4535f9e1-25ca-4506-a8a2-bf6d43031bc9 button.colab-df-convert');\n",
              "      buttonEl.style.display =\n",
              "        google.colab.kernel.accessAllowed ? 'block' : 'none';\n",
              "\n",
              "      async function convertToInteractive(key) {\n",
              "        const element = document.querySelector('#df-4535f9e1-25ca-4506-a8a2-bf6d43031bc9');\n",
              "        const dataTable =\n",
              "          await google.colab.kernel.invokeFunction('convertToInteractive',\n",
              "                                                    [key], {});\n",
              "        if (!dataTable) return;\n",
              "\n",
              "        const docLinkHtml = 'Like what you see? Visit the ' +\n",
              "          '<a target=\"_blank\" href=https://colab.research.google.com/notebooks/data_table.ipynb>data table notebook</a>'\n",
              "          + ' to learn more about interactive tables.';\n",
              "        element.innerHTML = '';\n",
              "        dataTable['output_type'] = 'display_data';\n",
              "        await google.colab.output.renderOutput(dataTable, element);\n",
              "        const docLink = document.createElement('div');\n",
              "        docLink.innerHTML = docLinkHtml;\n",
              "        element.appendChild(docLink);\n",
              "      }\n",
              "    </script>\n",
              "  </div>\n",
              "\n",
              "\n",
              "<div id=\"df-48aee8ee-7d2c-451b-a8a8-262e1669137e\">\n",
              "  <button class=\"colab-df-quickchart\" onclick=\"quickchart('df-48aee8ee-7d2c-451b-a8a8-262e1669137e')\"\n",
              "            title=\"Suggest charts\"\n",
              "            style=\"display:none;\">\n",
              "\n",
              "<svg xmlns=\"http://www.w3.org/2000/svg\" height=\"24px\"viewBox=\"0 0 24 24\"\n",
              "     width=\"24px\">\n",
              "    <g>\n",
              "        <path d=\"M19 3H5c-1.1 0-2 .9-2 2v14c0 1.1.9 2 2 2h14c1.1 0 2-.9 2-2V5c0-1.1-.9-2-2-2zM9 17H7v-7h2v7zm4 0h-2V7h2v10zm4 0h-2v-4h2v4z\"/>\n",
              "    </g>\n",
              "</svg>\n",
              "  </button>\n",
              "\n",
              "<style>\n",
              "  .colab-df-quickchart {\n",
              "      --bg-color: #E8F0FE;\n",
              "      --fill-color: #1967D2;\n",
              "      --hover-bg-color: #E2EBFA;\n",
              "      --hover-fill-color: #174EA6;\n",
              "      --disabled-fill-color: #AAA;\n",
              "      --disabled-bg-color: #DDD;\n",
              "  }\n",
              "\n",
              "  [theme=dark] .colab-df-quickchart {\n",
              "      --bg-color: #3B4455;\n",
              "      --fill-color: #D2E3FC;\n",
              "      --hover-bg-color: #434B5C;\n",
              "      --hover-fill-color: #FFFFFF;\n",
              "      --disabled-bg-color: #3B4455;\n",
              "      --disabled-fill-color: #666;\n",
              "  }\n",
              "\n",
              "  .colab-df-quickchart {\n",
              "    background-color: var(--bg-color);\n",
              "    border: none;\n",
              "    border-radius: 50%;\n",
              "    cursor: pointer;\n",
              "    display: none;\n",
              "    fill: var(--fill-color);\n",
              "    height: 32px;\n",
              "    padding: 0;\n",
              "    width: 32px;\n",
              "  }\n",
              "\n",
              "  .colab-df-quickchart:hover {\n",
              "    background-color: var(--hover-bg-color);\n",
              "    box-shadow: 0 1px 2px rgba(60, 64, 67, 0.3), 0 1px 3px 1px rgba(60, 64, 67, 0.15);\n",
              "    fill: var(--button-hover-fill-color);\n",
              "  }\n",
              "\n",
              "  .colab-df-quickchart-complete:disabled,\n",
              "  .colab-df-quickchart-complete:disabled:hover {\n",
              "    background-color: var(--disabled-bg-color);\n",
              "    fill: var(--disabled-fill-color);\n",
              "    box-shadow: none;\n",
              "  }\n",
              "\n",
              "  .colab-df-spinner {\n",
              "    border: 2px solid var(--fill-color);\n",
              "    border-color: transparent;\n",
              "    border-bottom-color: var(--fill-color);\n",
              "    animation:\n",
              "      spin 1s steps(1) infinite;\n",
              "  }\n",
              "\n",
              "  @keyframes spin {\n",
              "    0% {\n",
              "      border-color: transparent;\n",
              "      border-bottom-color: var(--fill-color);\n",
              "      border-left-color: var(--fill-color);\n",
              "    }\n",
              "    20% {\n",
              "      border-color: transparent;\n",
              "      border-left-color: var(--fill-color);\n",
              "      border-top-color: var(--fill-color);\n",
              "    }\n",
              "    30% {\n",
              "      border-color: transparent;\n",
              "      border-left-color: var(--fill-color);\n",
              "      border-top-color: var(--fill-color);\n",
              "      border-right-color: var(--fill-color);\n",
              "    }\n",
              "    40% {\n",
              "      border-color: transparent;\n",
              "      border-right-color: var(--fill-color);\n",
              "      border-top-color: var(--fill-color);\n",
              "    }\n",
              "    60% {\n",
              "      border-color: transparent;\n",
              "      border-right-color: var(--fill-color);\n",
              "    }\n",
              "    80% {\n",
              "      border-color: transparent;\n",
              "      border-right-color: var(--fill-color);\n",
              "      border-bottom-color: var(--fill-color);\n",
              "    }\n",
              "    90% {\n",
              "      border-color: transparent;\n",
              "      border-bottom-color: var(--fill-color);\n",
              "    }\n",
              "  }\n",
              "</style>\n",
              "\n",
              "  <script>\n",
              "    async function quickchart(key) {\n",
              "      const quickchartButtonEl =\n",
              "        document.querySelector('#' + key + ' button');\n",
              "      quickchartButtonEl.disabled = true;  // To prevent multiple clicks.\n",
              "      quickchartButtonEl.classList.add('colab-df-spinner');\n",
              "      try {\n",
              "        const charts = await google.colab.kernel.invokeFunction(\n",
              "            'suggestCharts', [key], {});\n",
              "      } catch (error) {\n",
              "        console.error('Error during call to suggestCharts:', error);\n",
              "      }\n",
              "      quickchartButtonEl.classList.remove('colab-df-spinner');\n",
              "      quickchartButtonEl.classList.add('colab-df-quickchart-complete');\n",
              "    }\n",
              "    (() => {\n",
              "      let quickchartButtonEl =\n",
              "        document.querySelector('#df-48aee8ee-7d2c-451b-a8a8-262e1669137e button');\n",
              "      quickchartButtonEl.style.display =\n",
              "        google.colab.kernel.accessAllowed ? 'block' : 'none';\n",
              "    })();\n",
              "  </script>\n",
              "</div>\n",
              "\n",
              "    </div>\n",
              "  </div>\n"
            ],
            "application/vnd.google.colaboratory.intrinsic+json": {
              "type": "dataframe",
              "summary": "{\n  \"name\": \"spark_df\",\n  \"rows\": 14,\n  \"fields\": [\n    {\n      \"column\": 0,\n      \"properties\": {\n        \"dtype\": \"number\",\n        \"std\": 0,\n        \"min\": 0,\n        \"max\": 0,\n        \"num_unique_values\": 1,\n        \"samples\": [\n          0\n        ],\n        \"semantic_type\": \"\",\n        \"description\": \"\"\n      }\n    }\n  ]\n}"
            }
          },
          "metadata": {},
          "execution_count": 24
        }
      ]
    },
    {
      "cell_type": "markdown",
      "source": [
        "## Windowing Function"
      ],
      "metadata": {
        "id": "JRoyHeF4CjDA"
      }
    },
    {
      "cell_type": "code",
      "source": [
        "window_spec = Window.partitionBy(\"Geography\").orderBy(\"CreditScore\")\n",
        "\n",
        "df_ranked = (\n",
        "    spark_df\n",
        "    .withColumn(\"Rank\", f.rank().over(window_spec))\n",
        "    .withColumn(\"DenseRank\", f.dense_rank().over(window_spec))\n",
        "    .withColumn(\"RowNumber\", f.row_number().over(window_spec))\n",
        "    )\n",
        "\n",
        "df_ranked.select(\"Geography\", \"CreditScore\", \"Rank\", \"DenseRank\", \"RowNumber\").show()"
      ],
      "metadata": {
        "colab": {
          "base_uri": "https://localhost:8080/"
        },
        "id": "wMMhL1j-CWX6",
        "outputId": "b062c5d2-4729-4755-dc6d-d883d9cbc4fe"
      },
      "execution_count": 41,
      "outputs": [
        {
          "output_type": "stream",
          "name": "stdout",
          "text": [
            "+---------+-----------+----+---------+---------+\n",
            "|Geography|CreditScore|Rank|DenseRank|RowNumber|\n",
            "+---------+-----------+----+---------+---------+\n",
            "|   France|        350|   1|        1|        1|\n",
            "|   France|        350|   1|        1|        2|\n",
            "|   France|        350|   1|        1|        3|\n",
            "|   France|        359|   4|        2|        4|\n",
            "|   France|        373|   5|        3|        5|\n",
            "|   France|        376|   6|        4|        6|\n",
            "|   France|        405|   7|        5|        7|\n",
            "|   France|        408|   8|        6|        8|\n",
            "|   France|        408|   8|        6|        9|\n",
            "|   France|        410|  10|        7|       10|\n",
            "|   France|        410|  10|        7|       11|\n",
            "|   France|        411|  12|        8|       12|\n",
            "|   France|        411|  12|        8|       13|\n",
            "|   France|        411|  12|        8|       14|\n",
            "|   France|        411|  12|        8|       15|\n",
            "|   France|        412|  16|        9|       16|\n",
            "|   France|        413|  17|       10|       17|\n",
            "|   France|        414|  18|       11|       18|\n",
            "|   France|        415|  19|       12|       19|\n",
            "|   France|        415|  19|       12|       20|\n",
            "+---------+-----------+----+---------+---------+\n",
            "only showing top 20 rows\n",
            "\n"
          ]
        }
      ]
    },
    {
      "cell_type": "code",
      "source": [
        "# Moving Avg\n",
        "window_spec_avg = Window.partitionBy(\"geography\").rowsBetween(-3, 3)\n",
        "\n",
        "df_moving_avg = spark_df.withColumn(\"moving_avg_creditscore\", f.avg(\"creditscore\").over(window_spec_avg))\n",
        "\n",
        "df_moving_avg.select(\"geography\", \"creditscore\", \"moving_avg_creditscore\").show()"
      ],
      "metadata": {
        "colab": {
          "base_uri": "https://localhost:8080/"
        },
        "id": "La_8bJwNCWVc",
        "outputId": "30969374-2737-4e60-9499-bed0ca8152b6"
      },
      "execution_count": 42,
      "outputs": [
        {
          "output_type": "stream",
          "name": "stdout",
          "text": [
            "+---------+-----------+----------------------+\n",
            "|geography|creditscore|moving_avg_creditscore|\n",
            "+---------+-----------+----------------------+\n",
            "|   France|        619|                 660.5|\n",
            "|   France|        502|                 628.6|\n",
            "|   France|        699|     637.8333333333334|\n",
            "|   France|        822|     622.1428571428571|\n",
            "|   France|        501|     601.7142857142857|\n",
            "|   France|        684|     608.4285714285714|\n",
            "|   France|        528|     612.2857142857143|\n",
            "|   France|        476|     599.4285714285714|\n",
            "|   France|        549|     623.4285714285714|\n",
            "|   France|        726|     646.5714285714286|\n",
            "|   France|        732|     653.5714285714286|\n",
            "|   France|        669|     667.1428571428571|\n",
            "|   France|        846|     647.4285714285714|\n",
            "|   France|        577|     619.8571428571429|\n",
            "|   France|        571|     583.1428571428571|\n",
            "|   France|        411|                 609.0|\n",
            "|   France|        533|     554.5714285714286|\n",
            "|   France|        475|     551.5714285714286|\n",
            "|   France|        850|     589.1428571428571|\n",
            "|   France|        465|                 643.0|\n",
            "+---------+-----------+----------------------+\n",
            "only showing top 20 rows\n",
            "\n"
          ]
        }
      ]
    },
    {
      "cell_type": "code",
      "source": [
        "# Cumulative Sum of each Geography\n",
        "\n",
        "window_spec_cumsum = Window.partitionBy(\"Geography\").orderBy(\"Age\").rowsBetween(Window.unboundedPreceding, 0)\n",
        "\n",
        "df_cumsum = (\n",
        "    spark_df\n",
        "    .withColumn(\"Cumulative_Balance\", f.sum(\"Balance\").over(window_spec_cumsum))\n",
        ")\n",
        "\n",
        "df_cumsum.select(\"Geography\", \"Balance\", \"Age\", \"Cumulative_Balance\").show()"
      ],
      "metadata": {
        "colab": {
          "base_uri": "https://localhost:8080/"
        },
        "id": "ulCpQLFPCWTA",
        "outputId": "8c9e534c-e927-4592-a498-ea12255e568f"
      },
      "execution_count": 45,
      "outputs": [
        {
          "output_type": "stream",
          "name": "stdout",
          "text": [
            "+---------+---------+---+------------------+\n",
            "|Geography|  Balance|Age|Cumulative_Balance|\n",
            "+---------+---------+---+------------------+\n",
            "|   France|160980.03| 18|         160980.03|\n",
            "|   France|151762.74| 18|         312742.77|\n",
            "|   France| 82767.42| 18|         395510.19|\n",
            "|   France|133550.67| 18|         529060.86|\n",
            "|   France|      0.0| 18|         529060.86|\n",
            "|   France|      0.0| 18|         529060.86|\n",
            "|   France| 176139.5| 18|         705200.36|\n",
            "|   France| 98894.39| 18|         804094.75|\n",
            "|   France|      0.0| 18|         804094.75|\n",
            "|   France|      0.0| 18|         804094.75|\n",
            "|   France|102983.91| 18|         907078.66|\n",
            "|   France|128514.84| 19|         1035593.5|\n",
            "|   France| 97445.49| 19|        1133038.99|\n",
            "|   France|143390.51| 19|         1276429.5|\n",
            "|   France|110928.51| 19|        1387358.01|\n",
            "|   France|      0.0| 19|        1387358.01|\n",
            "|   France|      0.0| 19|        1387358.01|\n",
            "|   France|127649.64| 19|        1515007.65|\n",
            "|   France|      0.0| 19|        1515007.65|\n",
            "|   France|      0.0| 19|        1515007.65|\n",
            "+---------+---------+---+------------------+\n",
            "only showing top 20 rows\n",
            "\n"
          ]
        }
      ]
    },
    {
      "cell_type": "markdown",
      "source": [
        "# Feature Engineering"
      ],
      "metadata": {
        "id": "SKGMFlo_AGza"
      }
    },
    {
      "cell_type": "code",
      "source": [
        "spark_df = (\n",
        "    spark_df\n",
        "    .drop('RowNumber', 'CustomerId', 'Surname')\n",
        "    .withColumn(\"CredictScore_Salary\", spark_df.creditscore / spark_df.estimatedsalary)\n",
        "    .withColumn(\"CredictScore_Tenure\", spark_df.creditscore * spark_df.tenure)\n",
        "    .withColumn(\"Balance_Salary\", spark_df.balance / spark_df.estimatedsalary)\n",
        ")\n",
        "\n",
        "spark_df.show(10)"
      ],
      "metadata": {
        "colab": {
          "base_uri": "https://localhost:8080/"
        },
        "id": "5eaA3lNP_-3K",
        "outputId": "2f229530-ff20-43ef-90fc-ae943916835a"
      },
      "execution_count": 27,
      "outputs": [
        {
          "output_type": "stream",
          "name": "stdout",
          "text": [
            "+-----------+---------+------+---+------+---------+-------------+---------+--------------+---------------+------+--------------------+-------------------+------------------+\n",
            "|creditscore|geography|gender|age|tenure|  balance|numofproducts|hascrcard|isactivemember|estimatedsalary|exited| CredictScore_Salary|CredictScore_Tenure|    Balance_Salary|\n",
            "+-----------+---------+------+---+------+---------+-------------+---------+--------------+---------------+------+--------------------+-------------------+------------------+\n",
            "|        619|   France|Female| 42|     2|      0.0|            1|        1|             1|      101348.88|     1|0.006107615594765329|               1238|               0.0|\n",
            "|        608|    Spain|Female| 41|     1| 83807.86|            1|        0|             1|      112542.58|     0|0.005402399696186101|                608|0.7446769036217226|\n",
            "|        502|   France|Female| 42|     8| 159660.8|            3|        1|             0|      113931.57|     1|0.004406153623618106|               4016|1.4013745268322026|\n",
            "|        699|   France|Female| 39|     1|      0.0|            2|        0|             0|       93826.63|     0|0.007449910542454738|                699|               0.0|\n",
            "|        850|    Spain|Female| 43|     2|125510.82|            1|        1|             1|        79084.1|     0|0.010748051757559357|               1700|1.5870550464631954|\n",
            "|        645|    Spain|  Male| 44|     8|113755.78|            2|        1|             0|      149756.71|     1|0.004306985643581513|               5160|0.7596038935417319|\n",
            "|        822|   France|  Male| 50|     7|      0.0|            2|        1|             1|        10062.8|     0| 0.08168700560480185|               5754|               0.0|\n",
            "|        376|  Germany|Female| 29|     4|115046.74|            4|        1|             0|      119346.88|     1|0.003150480347705...|               1504|0.9639693974404694|\n",
            "|        501|   France|  Male| 44|     4|142051.07|            2|        0|             1|        74940.5|     0|0.006685303674248237|               2004|1.8955180443151567|\n",
            "|        684|   France|  Male| 27|     2|134603.88|            1|        1|             1|       71725.73|     0|0.009536326782592523|               1368| 1.876647055387237|\n",
            "+-----------+---------+------+---+------+---------+-------------+---------+--------------+---------------+------+--------------------+-------------------+------------------+\n",
            "only showing top 10 rows\n",
            "\n"
          ]
        }
      ]
    },
    {
      "cell_type": "code",
      "source": [
        "# Bucketization\n",
        "bucketizer = Bucketizer(splits=[0, 35, 55, 75, 95],\n",
        "                        inputCol=\"age\",\n",
        "                        outputCol=\"age_cat\")\n",
        "spark_df = bucketizer.setHandleInvalid(\"keep\").transform(spark_df)\n",
        "\n",
        "spark_df = spark_df.withColumn(\"age_cat\", spark_df.age_cat + 1)\n",
        "spark_df = spark_df.withColumn(\"age_cat\", spark_df[\"age_cat\"].cast(\"integer\"))\n",
        "# Show\n",
        "spark_df.show(10)"
      ],
      "metadata": {
        "colab": {
          "base_uri": "https://localhost:8080/"
        },
        "id": "Ww225PgmBHJW",
        "outputId": "013217da-ff89-4f98-bf00-de465c5da6b8"
      },
      "execution_count": 30,
      "outputs": [
        {
          "output_type": "stream",
          "name": "stdout",
          "text": [
            "+-----------+---------+------+---+------+---------+-------------+---------+--------------+---------------+------+--------------------+-------------------+------------------+-------+\n",
            "|creditscore|geography|gender|age|tenure|  balance|numofproducts|hascrcard|isactivemember|estimatedsalary|exited| CredictScore_Salary|CredictScore_Tenure|    Balance_Salary|age_cat|\n",
            "+-----------+---------+------+---+------+---------+-------------+---------+--------------+---------------+------+--------------------+-------------------+------------------+-------+\n",
            "|        619|   France|Female| 42|     2|      0.0|            1|        1|             1|      101348.88|     1|0.006107615594765329|               1238|               0.0|      2|\n",
            "|        608|    Spain|Female| 41|     1| 83807.86|            1|        0|             1|      112542.58|     0|0.005402399696186101|                608|0.7446769036217226|      2|\n",
            "|        502|   France|Female| 42|     8| 159660.8|            3|        1|             0|      113931.57|     1|0.004406153623618106|               4016|1.4013745268322026|      2|\n",
            "|        699|   France|Female| 39|     1|      0.0|            2|        0|             0|       93826.63|     0|0.007449910542454738|                699|               0.0|      2|\n",
            "|        850|    Spain|Female| 43|     2|125510.82|            1|        1|             1|        79084.1|     0|0.010748051757559357|               1700|1.5870550464631954|      2|\n",
            "|        645|    Spain|  Male| 44|     8|113755.78|            2|        1|             0|      149756.71|     1|0.004306985643581513|               5160|0.7596038935417319|      2|\n",
            "|        822|   France|  Male| 50|     7|      0.0|            2|        1|             1|        10062.8|     0| 0.08168700560480185|               5754|               0.0|      2|\n",
            "|        376|  Germany|Female| 29|     4|115046.74|            4|        1|             0|      119346.88|     1|0.003150480347705...|               1504|0.9639693974404694|      1|\n",
            "|        501|   France|  Male| 44|     4|142051.07|            2|        0|             1|        74940.5|     0|0.006685303674248237|               2004|1.8955180443151567|      2|\n",
            "|        684|   France|  Male| 27|     2|134603.88|            1|        1|             1|       71725.73|     0|0.009536326782592523|               1368| 1.876647055387237|      1|\n",
            "+-----------+---------+------+---+------+---------+-------------+---------+--------------+---------------+------+--------------------+-------------------+------------------+-------+\n",
            "only showing top 10 rows\n",
            "\n"
          ]
        }
      ]
    },
    {
      "cell_type": "markdown",
      "source": [
        "# Features Vectorization"
      ],
      "metadata": {
        "id": "O39HjEcBE68I"
      }
    },
    {
      "cell_type": "code",
      "source": [
        "indexer = StringIndexer(inputCol=\"gender\",\n",
        "                        outputCol=\"gender_label\")\n",
        "indexer.fit(spark_df).transform(spark_df).show(5)\n",
        "\n",
        "temp_sdf = indexer.fit(spark_df).transform(spark_df)\n",
        "\n",
        "spark_df = temp_sdf.withColumn(\"gender_label\", temp_sdf[\"gender_label\"].cast(\"integer\"))\n",
        "spark_df = spark_df.drop('gender')"
      ],
      "metadata": {
        "id": "h1sEISqwBtPM"
      },
      "execution_count": 48,
      "outputs": []
    },
    {
      "cell_type": "code",
      "source": [
        "spark_df.show(10)"
      ],
      "metadata": {
        "colab": {
          "base_uri": "https://localhost:8080/"
        },
        "id": "F13dYu-kFCZA",
        "outputId": "776004cb-6679-4da6-b78e-7d3ef579a8d9"
      },
      "execution_count": 49,
      "outputs": [
        {
          "output_type": "stream",
          "name": "stdout",
          "text": [
            "+-----------+---------+---+------+---------+-------------+---------+--------------+---------------+------+--------------------+-------------------+------------------+-------+------------+\n",
            "|creditscore|geography|age|tenure|  balance|numofproducts|hascrcard|isactivemember|estimatedsalary|exited| CredictScore_Salary|CredictScore_Tenure|    Balance_Salary|age_cat|gender_label|\n",
            "+-----------+---------+---+------+---------+-------------+---------+--------------+---------------+------+--------------------+-------------------+------------------+-------+------------+\n",
            "|        619|   France| 42|     2|      0.0|            1|        1|             1|      101348.88|     1|0.006107615594765329|               1238|               0.0|      2|           1|\n",
            "|        608|    Spain| 41|     1| 83807.86|            1|        0|             1|      112542.58|     0|0.005402399696186101|                608|0.7446769036217226|      2|           1|\n",
            "|        502|   France| 42|     8| 159660.8|            3|        1|             0|      113931.57|     1|0.004406153623618106|               4016|1.4013745268322026|      2|           1|\n",
            "|        699|   France| 39|     1|      0.0|            2|        0|             0|       93826.63|     0|0.007449910542454738|                699|               0.0|      2|           1|\n",
            "|        850|    Spain| 43|     2|125510.82|            1|        1|             1|        79084.1|     0|0.010748051757559357|               1700|1.5870550464631954|      2|           1|\n",
            "|        645|    Spain| 44|     8|113755.78|            2|        1|             0|      149756.71|     1|0.004306985643581513|               5160|0.7596038935417319|      2|           0|\n",
            "|        822|   France| 50|     7|      0.0|            2|        1|             1|        10062.8|     0| 0.08168700560480185|               5754|               0.0|      2|           0|\n",
            "|        376|  Germany| 29|     4|115046.74|            4|        1|             0|      119346.88|     1|0.003150480347705...|               1504|0.9639693974404694|      1|           1|\n",
            "|        501|   France| 44|     4|142051.07|            2|        0|             1|        74940.5|     0|0.006685303674248237|               2004|1.8955180443151567|      2|           0|\n",
            "|        684|   France| 27|     2|134603.88|            1|        1|             1|       71725.73|     0|0.009536326782592523|               1368| 1.876647055387237|      1|           0|\n",
            "+-----------+---------+---+------+---------+-------------+---------+--------------+---------------+------+--------------------+-------------------+------------------+-------+------------+\n",
            "only showing top 10 rows\n",
            "\n"
          ]
        }
      ]
    },
    {
      "cell_type": "code",
      "source": [
        "indexer = StringIndexer(inputCol=\"geography\",\n",
        "                        outputCol=\"geography_label\")\n",
        "indexer.fit(spark_df).transform(spark_df).show(5)\n",
        "\n",
        "temp_sdf = indexer.fit(spark_df).transform(spark_df)"
      ],
      "metadata": {
        "colab": {
          "base_uri": "https://localhost:8080/"
        },
        "id": "5yzpxyMXFHRO",
        "outputId": "6103f12f-5973-426a-f792-8a5cc07db163"
      },
      "execution_count": 50,
      "outputs": [
        {
          "output_type": "stream",
          "name": "stdout",
          "text": [
            "+-----------+---------+---+------+---------+-------------+---------+--------------+---------------+------+--------------------+-------------------+------------------+-------+------------+---------------+\n",
            "|creditscore|geography|age|tenure|  balance|numofproducts|hascrcard|isactivemember|estimatedsalary|exited| CredictScore_Salary|CredictScore_Tenure|    Balance_Salary|age_cat|gender_label|geography_label|\n",
            "+-----------+---------+---+------+---------+-------------+---------+--------------+---------------+------+--------------------+-------------------+------------------+-------+------------+---------------+\n",
            "|        619|   France| 42|     2|      0.0|            1|        1|             1|      101348.88|     1|0.006107615594765329|               1238|               0.0|      2|           1|            0.0|\n",
            "|        608|    Spain| 41|     1| 83807.86|            1|        0|             1|      112542.58|     0|0.005402399696186101|                608|0.7446769036217226|      2|           1|            2.0|\n",
            "|        502|   France| 42|     8| 159660.8|            3|        1|             0|      113931.57|     1|0.004406153623618106|               4016|1.4013745268322026|      2|           1|            0.0|\n",
            "|        699|   France| 39|     1|      0.0|            2|        0|             0|       93826.63|     0|0.007449910542454738|                699|               0.0|      2|           1|            0.0|\n",
            "|        850|    Spain| 43|     2|125510.82|            1|        1|             1|        79084.1|     0|0.010748051757559357|               1700|1.5870550464631954|      2|           1|            2.0|\n",
            "+-----------+---------+---+------+---------+-------------+---------+--------------+---------------+------+--------------------+-------------------+------------------+-------+------------+---------------+\n",
            "only showing top 5 rows\n",
            "\n"
          ]
        }
      ]
    },
    {
      "cell_type": "code",
      "source": [
        "spark_df = temp_sdf.withColumn(\"geography_label\", temp_sdf[\"geography_label\"].cast(\"integer\"))\n",
        "spark_df = spark_df.drop('geography')"
      ],
      "metadata": {
        "id": "a8MEjFrpFeyq"
      },
      "execution_count": 51,
      "outputs": []
    },
    {
      "cell_type": "code",
      "source": [
        "spark_df.show(5)"
      ],
      "metadata": {
        "colab": {
          "base_uri": "https://localhost:8080/"
        },
        "id": "YL0LzbxUFfBy",
        "outputId": "54a1c82e-afd5-4e80-d7f5-c7c3bc4d2cc8"
      },
      "execution_count": 52,
      "outputs": [
        {
          "output_type": "stream",
          "name": "stdout",
          "text": [
            "+-----------+---+------+---------+-------------+---------+--------------+---------------+------+--------------------+-------------------+------------------+-------+------------+---------------+\n",
            "|creditscore|age|tenure|  balance|numofproducts|hascrcard|isactivemember|estimatedsalary|exited| CredictScore_Salary|CredictScore_Tenure|    Balance_Salary|age_cat|gender_label|geography_label|\n",
            "+-----------+---+------+---------+-------------+---------+--------------+---------------+------+--------------------+-------------------+------------------+-------+------------+---------------+\n",
            "|        619| 42|     2|      0.0|            1|        1|             1|      101348.88|     1|0.006107615594765329|               1238|               0.0|      2|           1|              0|\n",
            "|        608| 41|     1| 83807.86|            1|        0|             1|      112542.58|     0|0.005402399696186101|                608|0.7446769036217226|      2|           1|              2|\n",
            "|        502| 42|     8| 159660.8|            3|        1|             0|      113931.57|     1|0.004406153623618106|               4016|1.4013745268322026|      2|           1|              0|\n",
            "|        699| 39|     1|      0.0|            2|        0|             0|       93826.63|     0|0.007449910542454738|                699|               0.0|      2|           1|              0|\n",
            "|        850| 43|     2|125510.82|            1|        1|             1|        79084.1|     0|0.010748051757559357|               1700|1.5870550464631954|      2|           1|              2|\n",
            "+-----------+---+------+---------+-------------+---------+--------------+---------------+------+--------------------+-------------------+------------------+-------+------------+---------------+\n",
            "only showing top 5 rows\n",
            "\n"
          ]
        }
      ]
    },
    {
      "cell_type": "code",
      "source": [
        "# One Hot Encoding\n",
        "encoder = OneHotEncoder(inputCols=[\"age_cat\", \"geography_label\"],\n",
        "                        outputCols=[\"age_cat_ohe\", \"geography_label_ohe\"])\n",
        "spark_df = encoder.fit(spark_df).transform(spark_df)\n",
        "\n",
        "spark_df.show()"
      ],
      "metadata": {
        "colab": {
          "base_uri": "https://localhost:8080/"
        },
        "id": "vZFjvk7vFh5F",
        "outputId": "184df497-7b09-4808-aa98-d2bff1706b6b"
      },
      "execution_count": 53,
      "outputs": [
        {
          "output_type": "stream",
          "name": "stdout",
          "text": [
            "+-----------+---+------+---------+-------------+---------+--------------+---------------+------+--------------------+-------------------+------------------+-------+------------+---------------+-------------+-------------------+\n",
            "|creditscore|age|tenure|  balance|numofproducts|hascrcard|isactivemember|estimatedsalary|exited| CredictScore_Salary|CredictScore_Tenure|    Balance_Salary|age_cat|gender_label|geography_label|  age_cat_ohe|geography_label_ohe|\n",
            "+-----------+---+------+---------+-------------+---------+--------------+---------------+------+--------------------+-------------------+------------------+-------+------------+---------------+-------------+-------------------+\n",
            "|        619| 42|     2|      0.0|            1|        1|             1|      101348.88|     1|0.006107615594765329|               1238|               0.0|      2|           1|              0|(4,[2],[1.0])|      (2,[0],[1.0])|\n",
            "|        608| 41|     1| 83807.86|            1|        0|             1|      112542.58|     0|0.005402399696186101|                608|0.7446769036217226|      2|           1|              2|(4,[2],[1.0])|          (2,[],[])|\n",
            "|        502| 42|     8| 159660.8|            3|        1|             0|      113931.57|     1|0.004406153623618106|               4016|1.4013745268322026|      2|           1|              0|(4,[2],[1.0])|      (2,[0],[1.0])|\n",
            "|        699| 39|     1|      0.0|            2|        0|             0|       93826.63|     0|0.007449910542454738|                699|               0.0|      2|           1|              0|(4,[2],[1.0])|      (2,[0],[1.0])|\n",
            "|        850| 43|     2|125510.82|            1|        1|             1|        79084.1|     0|0.010748051757559357|               1700|1.5870550464631954|      2|           1|              2|(4,[2],[1.0])|          (2,[],[])|\n",
            "|        645| 44|     8|113755.78|            2|        1|             0|      149756.71|     1|0.004306985643581513|               5160|0.7596038935417319|      2|           0|              2|(4,[2],[1.0])|          (2,[],[])|\n",
            "|        822| 50|     7|      0.0|            2|        1|             1|        10062.8|     0| 0.08168700560480185|               5754|               0.0|      2|           0|              0|(4,[2],[1.0])|      (2,[0],[1.0])|\n",
            "|        376| 29|     4|115046.74|            4|        1|             0|      119346.88|     1|0.003150480347705...|               1504|0.9639693974404694|      1|           1|              1|(4,[1],[1.0])|      (2,[1],[1.0])|\n",
            "|        501| 44|     4|142051.07|            2|        0|             1|        74940.5|     0|0.006685303674248237|               2004|1.8955180443151567|      2|           0|              0|(4,[2],[1.0])|      (2,[0],[1.0])|\n",
            "|        684| 27|     2|134603.88|            1|        1|             1|       71725.73|     0|0.009536326782592523|               1368| 1.876647055387237|      1|           0|              0|(4,[1],[1.0])|      (2,[0],[1.0])|\n",
            "|        528| 31|     6|102016.72|            2|        0|             0|       80181.12|     0|0.006585091353176409|               3168|1.2723284483928388|      1|           0|              0|(4,[1],[1.0])|      (2,[0],[1.0])|\n",
            "|        497| 24|     3|      0.0|            2|        1|             0|       76390.01|     0|0.006506086332492954|               1491|               0.0|      1|           0|              2|(4,[1],[1.0])|          (2,[],[])|\n",
            "|        476| 34|    10|      0.0|            2|        1|             0|       26260.98|     0|0.018125751590382384|               4760|               0.0|      1|           1|              0|(4,[1],[1.0])|      (2,[0],[1.0])|\n",
            "|        549| 25|     5|      0.0|            2|        0|             0|      190857.79|     0|0.002876487252629...|               2745|               0.0|      1|           1|              0|(4,[1],[1.0])|      (2,[0],[1.0])|\n",
            "|        635| 35|     7|      0.0|            2|        1|             1|       65951.65|     0|0.009628265555145323|               4445|               0.0|      2|           1|              2|(4,[2],[1.0])|          (2,[],[])|\n",
            "|        616| 45|     3|143129.41|            2|        0|             1|       64327.26|     0|0.009576033550939368|               1848|2.2250195329320728|      2|           0|              1|(4,[2],[1.0])|      (2,[1],[1.0])|\n",
            "|        653| 58|     1|132602.88|            1|        1|             0|        5097.67|     1|  0.1280977387708502|                653| 26.01244882465911|      3|           0|              1|(4,[3],[1.0])|      (2,[1],[1.0])|\n",
            "|        549| 24|     9|      0.0|            2|        1|             1|       14406.41|     0| 0.03810803663091638|               4941|               0.0|      1|           1|              2|(4,[1],[1.0])|          (2,[],[])|\n",
            "|        587| 45|     6|      0.0|            1|        0|             0|      158684.81|     0|0.003699156838011...|               3522|               0.0|      2|           0|              2|(4,[2],[1.0])|          (2,[],[])|\n",
            "|        726| 24|     6|      0.0|            2|        1|             1|       54724.03|     0|0.013266566808036616|               4356|               0.0|      1|           1|              0|(4,[1],[1.0])|      (2,[0],[1.0])|\n",
            "+-----------+---+------+---------+-------------+---------+--------------+---------------+------+--------------------+-------------------+------------------+-------+------------+---------------+-------------+-------------------+\n",
            "only showing top 20 rows\n",
            "\n"
          ]
        }
      ]
    },
    {
      "cell_type": "code",
      "source": [],
      "metadata": {
        "id": "IQZ92iqtFpEH"
      },
      "execution_count": null,
      "outputs": []
    }
  ]
}