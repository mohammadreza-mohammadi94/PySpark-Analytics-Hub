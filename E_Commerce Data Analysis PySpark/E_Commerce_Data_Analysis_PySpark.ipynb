{
  "nbformat": 4,
  "nbformat_minor": 0,
  "metadata": {
    "colab": {
      "provenance": [],
      "authorship_tag": "ABX9TyO2045HVqkTnpguGfhog0By",
      "include_colab_link": true
    },
    "kernelspec": {
      "name": "python3",
      "display_name": "Python 3"
    },
    "language_info": {
      "name": "python"
    }
  },
  "cells": [
    {
      "cell_type": "markdown",
      "metadata": {
        "id": "view-in-github",
        "colab_type": "text"
      },
      "source": [
        "<a href=\"https://colab.research.google.com/github/mohammadreza-mohammadi94/PySpark-Analytics-Hub/blob/main/E_Commerce%20Data%20Analysis%20PySpark/E_Commerce_Data_Analysis_PySpark.ipynb\" target=\"_parent\"><img src=\"https://colab.research.google.com/assets/colab-badge.svg\" alt=\"Open In Colab\"/></a>"
      ]
    },
    {
      "cell_type": "markdown",
      "source": [
        "# Download Dataset"
      ],
      "metadata": {
        "id": "EY890EzwGu3z"
      }
    },
    {
      "cell_type": "code",
      "execution_count": 2,
      "metadata": {
        "colab": {
          "base_uri": "https://localhost:8080/"
        },
        "id": "JlMg_Z03GXYa",
        "outputId": "cd3874ec-1054-4902-b66f-bd15299224a0"
      },
      "outputs": [
        {
          "output_type": "stream",
          "name": "stdout",
          "text": [
            "Dataset URL: https://www.kaggle.com/datasets/carrie1/ecommerce-data\n",
            "License(s): unknown\n",
            "ecommerce-data.zip: Skipping, found more recently modified local copy (use --force to force download)\n",
            "Archive:  ecommerce-data.zip\n",
            "  inflating: data.csv                \n"
          ]
        }
      ],
      "source": [
        "%%bash\n",
        "#!/bin/bash\n",
        "kaggle datasets download carrie1/ecommerce-data\n",
        "unzip  ecommerce-data.zip"
      ]
    },
    {
      "cell_type": "markdown",
      "source": [
        "# Import Libraries"
      ],
      "metadata": {
        "id": "mr_cukRRG8Nv"
      }
    },
    {
      "cell_type": "code",
      "source": [
        "# spark.stop()"
      ],
      "metadata": {
        "id": "_wEUHtfaOr9z"
      },
      "execution_count": 39,
      "outputs": []
    },
    {
      "cell_type": "code",
      "source": [
        "from pyspark.sql import SparkSession\n",
        "import pyspark.sql.functions as f\n",
        "import pyspark.sql.types as t"
      ],
      "metadata": {
        "id": "BSwGQZnMGdSf"
      },
      "execution_count": 12,
      "outputs": []
    },
    {
      "cell_type": "code",
      "source": [
        "# Initialize SparkSession\n",
        "spark = SparkSession.builder.appName(\"Ecommerce\").getOrCreate()"
      ],
      "metadata": {
        "id": "zkBS97GTHLFs"
      },
      "execution_count": 40,
      "outputs": []
    },
    {
      "cell_type": "markdown",
      "source": [
        "# Import Dataset"
      ],
      "metadata": {
        "id": "QLU9gvWUHU8E"
      }
    },
    {
      "cell_type": "code",
      "source": [
        "df = (\n",
        "    spark.read.csv(\n",
        "        path=r\"/content/data.csv\",\n",
        "        header=True,\n",
        "        inferSchema=True,\n",
        "        quote='\"')\n",
        ")\n",
        "\n",
        "df.show()"
      ],
      "metadata": {
        "colab": {
          "base_uri": "https://localhost:8080/"
        },
        "id": "oC1q4mSqHRF8",
        "outputId": "64e6fe0a-999f-48b0-bb3a-b29ac989e106"
      },
      "execution_count": 41,
      "outputs": [
        {
          "output_type": "stream",
          "name": "stdout",
          "text": [
            "+---------+---------+--------------------+--------+--------------+---------+----------+--------------+\n",
            "|InvoiceNo|StockCode|         Description|Quantity|   InvoiceDate|UnitPrice|CustomerID|       Country|\n",
            "+---------+---------+--------------------+--------+--------------+---------+----------+--------------+\n",
            "|   536365|   85123A|WHITE HANGING HEA...|       6|12/1/2010 8:26|     2.55|     17850|United Kingdom|\n",
            "|   536365|    71053| WHITE METAL LANTERN|       6|12/1/2010 8:26|     3.39|     17850|United Kingdom|\n",
            "|   536365|   84406B|CREAM CUPID HEART...|       8|12/1/2010 8:26|     2.75|     17850|United Kingdom|\n",
            "|   536365|   84029G|KNITTED UNION FLA...|       6|12/1/2010 8:26|     3.39|     17850|United Kingdom|\n",
            "|   536365|   84029E|RED WOOLLY HOTTIE...|       6|12/1/2010 8:26|     3.39|     17850|United Kingdom|\n",
            "|   536365|    22752|SET 7 BABUSHKA NE...|       2|12/1/2010 8:26|     7.65|     17850|United Kingdom|\n",
            "|   536365|    21730|GLASS STAR FROSTE...|       6|12/1/2010 8:26|     4.25|     17850|United Kingdom|\n",
            "|   536366|    22633|HAND WARMER UNION...|       6|12/1/2010 8:28|     1.85|     17850|United Kingdom|\n",
            "|   536366|    22632|HAND WARMER RED P...|       6|12/1/2010 8:28|     1.85|     17850|United Kingdom|\n",
            "|   536367|    84879|ASSORTED COLOUR B...|      32|12/1/2010 8:34|     1.69|     13047|United Kingdom|\n",
            "|   536367|    22745|POPPY'S PLAYHOUSE...|       6|12/1/2010 8:34|      2.1|     13047|United Kingdom|\n",
            "|   536367|    22748|POPPY'S PLAYHOUSE...|       6|12/1/2010 8:34|      2.1|     13047|United Kingdom|\n",
            "|   536367|    22749|FELTCRAFT PRINCES...|       8|12/1/2010 8:34|     3.75|     13047|United Kingdom|\n",
            "|   536367|    22310|IVORY KNITTED MUG...|       6|12/1/2010 8:34|     1.65|     13047|United Kingdom|\n",
            "|   536367|    84969|BOX OF 6 ASSORTED...|       6|12/1/2010 8:34|     4.25|     13047|United Kingdom|\n",
            "|   536367|    22623|BOX OF VINTAGE JI...|       3|12/1/2010 8:34|     4.95|     13047|United Kingdom|\n",
            "|   536367|    22622|BOX OF VINTAGE AL...|       2|12/1/2010 8:34|     9.95|     13047|United Kingdom|\n",
            "|   536367|    21754|HOME BUILDING BLO...|       3|12/1/2010 8:34|     5.95|     13047|United Kingdom|\n",
            "|   536367|    21755|LOVE BUILDING BLO...|       3|12/1/2010 8:34|     5.95|     13047|United Kingdom|\n",
            "|   536367|    21777|RECIPE BOX WITH M...|       4|12/1/2010 8:34|     7.95|     13047|United Kingdom|\n",
            "+---------+---------+--------------------+--------+--------------+---------+----------+--------------+\n",
            "only showing top 20 rows\n",
            "\n"
          ]
        }
      ]
    },
    {
      "cell_type": "code",
      "source": [
        "df.printSchema()"
      ],
      "metadata": {
        "colab": {
          "base_uri": "https://localhost:8080/"
        },
        "id": "SDmcRMEXHgWp",
        "outputId": "46c26d82-d28f-45e8-ee07-cd7f992547cb"
      },
      "execution_count": 42,
      "outputs": [
        {
          "output_type": "stream",
          "name": "stdout",
          "text": [
            "root\n",
            " |-- InvoiceNo: string (nullable = true)\n",
            " |-- StockCode: string (nullable = true)\n",
            " |-- Description: string (nullable = true)\n",
            " |-- Quantity: integer (nullable = true)\n",
            " |-- InvoiceDate: string (nullable = true)\n",
            " |-- UnitPrice: double (nullable = true)\n",
            " |-- CustomerID: integer (nullable = true)\n",
            " |-- Country: string (nullable = true)\n",
            "\n"
          ]
        }
      ]
    },
    {
      "cell_type": "markdown",
      "source": [
        "## Getting to Know the DaraFrame"
      ],
      "metadata": {
        "id": "mCYjxg7mKTnK"
      }
    },
    {
      "cell_type": "code",
      "source": [
        "df.summary().show()"
      ],
      "metadata": {
        "colab": {
          "base_uri": "https://localhost:8080/"
        },
        "id": "1FB_EnE5IHj1",
        "outputId": "314065f8-6872-4087-970e-628964d6dc73"
      },
      "execution_count": 43,
      "outputs": [
        {
          "output_type": "stream",
          "name": "stdout",
          "text": [
            "+-------+------------------+------------------+--------------------+------------------+---------------+-----------------+------------------+-----------+\n",
            "|summary|         InvoiceNo|         StockCode|         Description|          Quantity|    InvoiceDate|        UnitPrice|        CustomerID|    Country|\n",
            "+-------+------------------+------------------+--------------------+------------------+---------------+-----------------+------------------+-----------+\n",
            "|  count|            541909|            541909|              540455|            541909|         541909|           541909|            406829|     541909|\n",
            "|   mean|  559965.752026781|27623.240210938104|             20713.0|  9.55224954743324|           NULL|4.611113626082972|15287.690570239585|       NULL|\n",
            "| stddev|13428.417280800133| 16799.73762842775|                NULL|218.08115785023486|           NULL| 96.7598530611797| 1713.600303321594|       NULL|\n",
            "|    min|            536365|             10002| 4 PURPLE FLOCK D...|            -80995|1/10/2011 10:04|        -11062.06|             12346|  Australia|\n",
            "|    25%|          547903.0|           21929.0|             20713.0|                 1|           NULL|             1.25|             13953|       NULL|\n",
            "|    50%|          560688.0|           22569.0|             20713.0|                 3|           NULL|             2.08|             15152|       NULL|\n",
            "|    75%|          571841.0|           23165.0|             20713.0|                10|           NULL|             4.13|             16791|       NULL|\n",
            "|    max|           C581569|                 m|   wrongly sold sets|             80995|  9/9/2011 9:52|          38970.0|             18287|Unspecified|\n",
            "+-------+------------------+------------------+--------------------+------------------+---------------+-----------------+------------------+-----------+\n",
            "\n"
          ]
        }
      ]
    },
    {
      "cell_type": "code",
      "source": [
        "# Unique values of Country\n",
        "df.select('Country').distinct().show()"
      ],
      "metadata": {
        "colab": {
          "base_uri": "https://localhost:8080/"
        },
        "id": "7oa5N4GIJDwK",
        "outputId": "bf6a70fd-b5df-4c16-f126-25c3e149dd97"
      },
      "execution_count": 44,
      "outputs": [
        {
          "output_type": "stream",
          "name": "stdout",
          "text": [
            "+------------------+\n",
            "|           Country|\n",
            "+------------------+\n",
            "|            Sweden|\n",
            "|         Singapore|\n",
            "|           Germany|\n",
            "|            France|\n",
            "|            Greece|\n",
            "|European Community|\n",
            "|           Belgium|\n",
            "|           Finland|\n",
            "|             Malta|\n",
            "|       Unspecified|\n",
            "|             Italy|\n",
            "|              EIRE|\n",
            "|         Lithuania|\n",
            "|            Norway|\n",
            "|             Spain|\n",
            "|           Denmark|\n",
            "|         Hong Kong|\n",
            "|           Iceland|\n",
            "|            Israel|\n",
            "|   Channel Islands|\n",
            "+------------------+\n",
            "only showing top 20 rows\n",
            "\n"
          ]
        }
      ]
    },
    {
      "cell_type": "code",
      "source": [
        "df.select(f.count_distinct('Country')).show()"
      ],
      "metadata": {
        "colab": {
          "base_uri": "https://localhost:8080/"
        },
        "id": "Ds3ZUbaLKbNY",
        "outputId": "c9aaf7f7-c730-4480-d189-f3848301f912"
      },
      "execution_count": 11,
      "outputs": [
        {
          "output_type": "stream",
          "name": "stdout",
          "text": [
            "+-----------------------+\n",
            "|count(DISTINCT Country)|\n",
            "+-----------------------+\n",
            "|                     38|\n",
            "+-----------------------+\n",
            "\n"
          ]
        }
      ]
    },
    {
      "cell_type": "code",
      "source": [
        "def check_count(df):\n",
        "    \"\"\"\n",
        "    This function takes a PySpark DataFrame as input and returns the count of non-null values\n",
        "    in each column of the DataFrame.\n",
        "\n",
        "    Args:\n",
        "        df (pyspark.sql.dataframe.DataFrame): The input PySpark DataFrame.\n",
        "\n",
        "    Returns:\n",
        "        None: The function prints the count of non-null values in each column of the DataFrame.\n",
        "    \"\"\"\n",
        "    return df.select([f.count(f.col(c)) for c in df.columns]).show()\n",
        "\n",
        "check_count(df)"
      ],
      "metadata": {
        "colab": {
          "base_uri": "https://localhost:8080/"
        },
        "id": "jLP2zSt2UMZu",
        "outputId": "9f52256c-6b99-4093-9731-1cfde6de83f6"
      },
      "execution_count": 69,
      "outputs": [
        {
          "output_type": "stream",
          "name": "stdout",
          "text": [
            "+----------------+----------------+------------------+---------------+------------------+----------------+-----------------+--------------+\n",
            "|count(InvoiceNo)|count(StockCode)|count(Description)|count(Quantity)|count(InvoiceDate)|count(UnitPrice)|count(CustomerID)|count(Country)|\n",
            "+----------------+----------------+------------------+---------------+------------------+----------------+-----------------+--------------+\n",
            "|          541909|          541909|            540455|         541909|            541909|          541909|           406829|        541909|\n",
            "+----------------+----------------+------------------+---------------+------------------+----------------+-----------------+--------------+\n",
            "\n"
          ]
        }
      ]
    },
    {
      "cell_type": "markdown",
      "source": [
        "## Preprocessing"
      ],
      "metadata": {
        "id": "FrCkfaU8LKh9"
      }
    },
    {
      "cell_type": "markdown",
      "source": [
        "***Correct Datatype***"
      ],
      "metadata": {
        "id": "3fQM0X0qNXT6"
      }
    },
    {
      "cell_type": "code",
      "source": [
        "df.printSchema()"
      ],
      "metadata": {
        "colab": {
          "base_uri": "https://localhost:8080/"
        },
        "id": "iXZQtSg_O8to",
        "outputId": "d0c17bba-b282-4251-ff5f-22a93a8b1d06"
      },
      "execution_count": 49,
      "outputs": [
        {
          "output_type": "stream",
          "name": "stdout",
          "text": [
            "root\n",
            " |-- InvoiceNo: string (nullable = true)\n",
            " |-- StockCode: string (nullable = true)\n",
            " |-- Description: string (nullable = true)\n",
            " |-- Quantity: integer (nullable = true)\n",
            " |-- InvoiceDate: string (nullable = true)\n",
            " |-- UnitPrice: double (nullable = true)\n",
            " |-- CustomerID: integer (nullable = true)\n",
            " |-- Country: string (nullable = true)\n",
            "\n"
          ]
        }
      ]
    },
    {
      "cell_type": "code",
      "source": [
        "df_fixed = (\n",
        "    df\n",
        "    .withColumn('InvoiceNo', f.col('InvoiceNo').cast(t.IntegerType()))\n",
        "    .withColumn(\"StockCode\", f.col(\"StockCode\").cast(t.StringType()))\n",
        "    .withColumn(\"Description\", f.col(\"Description\").cast(t.StringType()))\n",
        "    .withColumn(\"InvoiceDate\", f.col(\"InvoiceDate\").cast(t.StringType()))\n",
        "    .withColumn('Quantity', f.col('Quantity').cast(t.IntegerType()))\n",
        "    .withColumn('UnitPrice', f.col('UnitPrice').cast(t.FloatType()))\n",
        "    .withColumn('CustomerID', f.col('CustomerID').cast(t.IntegerType()))\n",
        "    .withColumn(\"Country\", f.col(\"Country\").cast(t.StringType()))\n",
        ")"
      ],
      "metadata": {
        "id": "6IoNq0w0NdrB"
      },
      "execution_count": 54,
      "outputs": []
    },
    {
      "cell_type": "code",
      "source": [
        "df_fixed.show()"
      ],
      "metadata": {
        "colab": {
          "base_uri": "https://localhost:8080/"
        },
        "id": "teY8cA5uNkk8",
        "outputId": "984fea93-ce0b-4863-e56e-887e0f5a7522"
      },
      "execution_count": 55,
      "outputs": [
        {
          "output_type": "stream",
          "name": "stdout",
          "text": [
            "+---------+---------+--------------------+--------+--------------+---------+----------+--------------+\n",
            "|InvoiceNo|StockCode|         Description|Quantity|   InvoiceDate|UnitPrice|CustomerID|       Country|\n",
            "+---------+---------+--------------------+--------+--------------+---------+----------+--------------+\n",
            "|   536365|   85123A|WHITE HANGING HEA...|       6|12/1/2010 8:26|     2.55|     17850|United Kingdom|\n",
            "|   536365|    71053| WHITE METAL LANTERN|       6|12/1/2010 8:26|     3.39|     17850|United Kingdom|\n",
            "|   536365|   84406B|CREAM CUPID HEART...|       8|12/1/2010 8:26|     2.75|     17850|United Kingdom|\n",
            "|   536365|   84029G|KNITTED UNION FLA...|       6|12/1/2010 8:26|     3.39|     17850|United Kingdom|\n",
            "|   536365|   84029E|RED WOOLLY HOTTIE...|       6|12/1/2010 8:26|     3.39|     17850|United Kingdom|\n",
            "|   536365|    22752|SET 7 BABUSHKA NE...|       2|12/1/2010 8:26|     7.65|     17850|United Kingdom|\n",
            "|   536365|    21730|GLASS STAR FROSTE...|       6|12/1/2010 8:26|     4.25|     17850|United Kingdom|\n",
            "|   536366|    22633|HAND WARMER UNION...|       6|12/1/2010 8:28|     1.85|     17850|United Kingdom|\n",
            "|   536366|    22632|HAND WARMER RED P...|       6|12/1/2010 8:28|     1.85|     17850|United Kingdom|\n",
            "|   536367|    84879|ASSORTED COLOUR B...|      32|12/1/2010 8:34|     1.69|     13047|United Kingdom|\n",
            "|   536367|    22745|POPPY'S PLAYHOUSE...|       6|12/1/2010 8:34|      2.1|     13047|United Kingdom|\n",
            "|   536367|    22748|POPPY'S PLAYHOUSE...|       6|12/1/2010 8:34|      2.1|     13047|United Kingdom|\n",
            "|   536367|    22749|FELTCRAFT PRINCES...|       8|12/1/2010 8:34|     3.75|     13047|United Kingdom|\n",
            "|   536367|    22310|IVORY KNITTED MUG...|       6|12/1/2010 8:34|     1.65|     13047|United Kingdom|\n",
            "|   536367|    84969|BOX OF 6 ASSORTED...|       6|12/1/2010 8:34|     4.25|     13047|United Kingdom|\n",
            "|   536367|    22623|BOX OF VINTAGE JI...|       3|12/1/2010 8:34|     4.95|     13047|United Kingdom|\n",
            "|   536367|    22622|BOX OF VINTAGE AL...|       2|12/1/2010 8:34|     9.95|     13047|United Kingdom|\n",
            "|   536367|    21754|HOME BUILDING BLO...|       3|12/1/2010 8:34|     5.95|     13047|United Kingdom|\n",
            "|   536367|    21755|LOVE BUILDING BLO...|       3|12/1/2010 8:34|     5.95|     13047|United Kingdom|\n",
            "|   536367|    21777|RECIPE BOX WITH M...|       4|12/1/2010 8:34|     7.95|     13047|United Kingdom|\n",
            "+---------+---------+--------------------+--------+--------------+---------+----------+--------------+\n",
            "only showing top 20 rows\n",
            "\n"
          ]
        }
      ]
    },
    {
      "cell_type": "code",
      "source": [
        "df_fixed.printSchema()"
      ],
      "metadata": {
        "colab": {
          "base_uri": "https://localhost:8080/"
        },
        "id": "x1kYPXFmSQvR",
        "outputId": "813c7bd1-0dac-4a6b-cd75-963bad79e969"
      },
      "execution_count": 60,
      "outputs": [
        {
          "output_type": "stream",
          "name": "stdout",
          "text": [
            "root\n",
            " |-- InvoiceNo: integer (nullable = true)\n",
            " |-- StockCode: string (nullable = true)\n",
            " |-- Description: string (nullable = true)\n",
            " |-- Quantity: integer (nullable = true)\n",
            " |-- InvoiceDate: string (nullable = true)\n",
            " |-- UnitPrice: float (nullable = true)\n",
            " |-- CustomerID: integer (nullable = true)\n",
            " |-- Country: string (nullable = true)\n",
            "\n"
          ]
        }
      ]
    },
    {
      "cell_type": "code",
      "source": [
        "def check_nans(df):\n",
        "    \"\"\"\n",
        "    This function takes a PySpark DataFrame as input and returns the count of null (NaN) values\n",
        "    in each column of the DataFrame.\n",
        "\n",
        "    Args:\n",
        "        df (pyspark.sql.dataframe.DataFrame): The input PySpark DataFrame.\n",
        "\n",
        "    Returns:\n",
        "        None: The function prints the count of NaN values in each column of the DataFrame.\n",
        "\n",
        "    Example:\n",
        "        >>> check_nans(df)\n",
        "        +--------+--------+-----------+--------+\n",
        "        |InvoiceNo|StockCode|Description|Quantity|\n",
        "        +--------+--------+-----------+--------+\n",
        "        |        0|       2|          0|       0|\n",
        "        +--------+--------+-----------+--------+\n",
        "    \"\"\"\n",
        "    return df.select([f.count(f.when(f.col(c).isNull(), c)).alias(c) for c in df.columns]).show()"
      ],
      "metadata": {
        "id": "NMAzt5lfSw9v"
      },
      "execution_count": 70,
      "outputs": []
    },
    {
      "cell_type": "code",
      "source": [
        "check_nans(df_fixed)"
      ],
      "metadata": {
        "colab": {
          "base_uri": "https://localhost:8080/"
        },
        "id": "lXSnkebXSw6z",
        "outputId": "94f9ac15-24a7-44cd-ce97-9f5263233afe"
      },
      "execution_count": 71,
      "outputs": [
        {
          "output_type": "stream",
          "name": "stdout",
          "text": [
            "+---------+---------+-----------+--------+-----------+---------+----------+-------+\n",
            "|InvoiceNo|StockCode|Description|Quantity|InvoiceDate|UnitPrice|CustomerID|Country|\n",
            "+---------+---------+-----------+--------+-----------+---------+----------+-------+\n",
            "|     9291|        0|       1454|       0|          0|        0|    135080|      0|\n",
            "+---------+---------+-----------+--------+-----------+---------+----------+-------+\n",
            "\n"
          ]
        }
      ]
    },
    {
      "cell_type": "markdown",
      "source": [
        "# Data Analysis"
      ],
      "metadata": {
        "id": "GyoQiaLFSjo0"
      }
    },
    {
      "cell_type": "code",
      "source": [
        "countries_grouped = df_fixed.groupby('Country').agg(\n",
        "    f.count('Country').alias('Count'),\n",
        "    f.min('UnitPrice').alias('min_UnitPrice'),\n",
        "    f.max('UnitPrice').alias('max_UnitPrice'),\n",
        "    f.avg('UnitPrice').alias('avg_UnitPrice'),\n",
        "    f.min('Quantity').alias('min_Quantity'),\n",
        "    f.max('Quantity').alias('max_Quantity'),\n",
        "    f.avg('Quantity').alias('avg_Quantity'),\n",
        ")\n",
        "\n",
        "countries_grouped.show()"
      ],
      "metadata": {
        "colab": {
          "base_uri": "https://localhost:8080/"
        },
        "id": "erYrW07AQZNs",
        "outputId": "74091207-0802-467e-ccc1-9b3d7b5f8177"
      },
      "execution_count": 59,
      "outputs": [
        {
          "output_type": "stream",
          "name": "stdout",
          "text": [
            "+------------------+-----+-------------+-------------+------------------+------------+------------+------------------+\n",
            "|           Country|Count|min_UnitPrice|max_UnitPrice|     avg_UnitPrice|min_Quantity|max_Quantity|      avg_Quantity|\n",
            "+------------------+-----+-------------+-------------+------------------+------------+------------+------------------+\n",
            "|            Sweden|  462|         0.19|         40.0| 3.910887426628179|        -240|         768| 77.13636363636364|\n",
            "|         Singapore|  229|         0.19|      3949.32|109.64580793073604|          -1|         288| 22.85589519650655|\n",
            "|           Germany| 9495|          0.0|        599.5| 3.966929951925743|        -288|         600|12.369457609268036|\n",
            "|            France| 8557|          0.0|      4161.06| 5.028864104887589|        -250|         912| 12.91106696272058|\n",
            "|            Greece|  146|         0.14|         50.0| 4.885547924021336|          -1|          48|10.657534246575343|\n",
            "|European Community|   61|         0.55|         18.0| 4.820491784908732|          -2|          24| 8.147540983606557|\n",
            "|           Belgium| 2069|         0.12|        39.95|3.6443354256051412|         -12|         272| 11.18994683421943|\n",
            "|           Finland|  695|         0.12|        275.6| 5.448705024191802|         -27|         144|15.346762589928058|\n",
            "|             Malta|  127|         0.19|         65.0|5.2441731909597955|          -4|          48| 7.433070866141732|\n",
            "|       Unspecified|  446|         0.19|        16.95| 2.699573977345041|           1|          48|7.3991031390134525|\n",
            "|             Italy|  803|         0.12|        300.0|4.8311207798375735|         -12|         200| 9.961394769613948|\n",
            "|              EIRE| 8196|          0.0|       1917.0| 5.911077366218247|        -288|        1440| 17.40324548560273|\n",
            "|         Lithuania|   35|         1.25|         5.95|  2.84114283152989|           6|          48| 18.62857142857143|\n",
            "|            Norway| 1086|          0.0|        700.0| 6.012025741819107|         -12|         240|17.722836095764272|\n",
            "|             Spain| 2533|          0.0|      1715.85| 4.987544389146733|        -288|         360| 10.58981444926964|\n",
            "|           Denmark|  389|         0.21|         18.0| 3.256940871362208|         -25|         256| 21.04884318766067|\n",
            "|         Hong Kong|  288|         0.21|      2653.95|    42.50520809626|          -1|         144| 16.55902777777778|\n",
            "|           Iceland|  182|         0.25|        12.75|  2.64401098217938|           2|         240|13.505494505494505|\n",
            "|            Israel|  297|         0.06|        125.0|3.6331313008737283|         -32|         100|14.656565656565656|\n",
            "|   Channel Islands|  758|         0.19|        293.0| 4.932123983205151|          -2|         407|12.505277044854882|\n",
            "+------------------+-----+-------------+-------------+------------------+------------+------------+------------------+\n",
            "only showing top 20 rows\n",
            "\n"
          ]
        }
      ]
    },
    {
      "cell_type": "markdown",
      "source": [
        "***DataFrame Filtered on Specific Country***"
      ],
      "metadata": {
        "id": "a12QReQDVgyJ"
      }
    },
    {
      "cell_type": "code",
      "source": [
        "def get_countries_df(df, country):\n",
        "    \"\"\"\n",
        "    Filters the input PySpark DataFrame to return rows where the 'Country' column matches the specified country.\n",
        "\n",
        "    Args:\n",
        "        df (pyspark.sql.dataframe.DataFrame): The input PySpark DataFrame.\n",
        "        country (str): The country to filter the DataFrame by.\n",
        "\n",
        "    Returns:\n",
        "        pyspark.sql.dataframe.DataFrame: A new DataFrame containing only the rows where the 'Country' column matches the specified country.\n",
        "\n",
        "    Example:\n",
        "        >>> get_countries_df(df, \"United Kingdom\")\n",
        "        +---------+---------+--------------------+--------+--------------+---------+----------+--------------+\n",
        "        |InvoiceNo|StockCode|         Description|Quantity|   InvoiceDate|UnitPrice|CustomerID|       Country|\n",
        "        +---------+---------+--------------------+--------+--------------+---------+----------+--------------+\n",
        "        |   536365|   85123A|WHITE HANGING HEA...|       6|12/1/2010 8:26|     2.55|     17850|United Kingdom|\n",
        "        +---------+---------+--------------------+--------+--------------+---------+----------+--------------+\n",
        "    \"\"\"\n",
        "    return df.filter(f.col('Country') == country)"
      ],
      "metadata": {
        "id": "zngj1J2MRSTQ"
      },
      "execution_count": 72,
      "outputs": []
    },
    {
      "cell_type": "code",
      "source": [
        "get_countries_df(df_fixed, 'United Kingdom').show()"
      ],
      "metadata": {
        "colab": {
          "base_uri": "https://localhost:8080/"
        },
        "id": "FvLrR1XsVN9L",
        "outputId": "1eed1064-f6d8-43ac-8f93-be10ba6bcab9"
      },
      "execution_count": 73,
      "outputs": [
        {
          "output_type": "stream",
          "name": "stdout",
          "text": [
            "+---------+---------+--------------------+--------+--------------+---------+----------+--------------+\n",
            "|InvoiceNo|StockCode|         Description|Quantity|   InvoiceDate|UnitPrice|CustomerID|       Country|\n",
            "+---------+---------+--------------------+--------+--------------+---------+----------+--------------+\n",
            "|   536365|   85123A|WHITE HANGING HEA...|       6|12/1/2010 8:26|     2.55|     17850|United Kingdom|\n",
            "|   536365|    71053| WHITE METAL LANTERN|       6|12/1/2010 8:26|     3.39|     17850|United Kingdom|\n",
            "|   536365|   84406B|CREAM CUPID HEART...|       8|12/1/2010 8:26|     2.75|     17850|United Kingdom|\n",
            "|   536365|   84029G|KNITTED UNION FLA...|       6|12/1/2010 8:26|     3.39|     17850|United Kingdom|\n",
            "|   536365|   84029E|RED WOOLLY HOTTIE...|       6|12/1/2010 8:26|     3.39|     17850|United Kingdom|\n",
            "|   536365|    22752|SET 7 BABUSHKA NE...|       2|12/1/2010 8:26|     7.65|     17850|United Kingdom|\n",
            "|   536365|    21730|GLASS STAR FROSTE...|       6|12/1/2010 8:26|     4.25|     17850|United Kingdom|\n",
            "|   536366|    22633|HAND WARMER UNION...|       6|12/1/2010 8:28|     1.85|     17850|United Kingdom|\n",
            "|   536366|    22632|HAND WARMER RED P...|       6|12/1/2010 8:28|     1.85|     17850|United Kingdom|\n",
            "|   536367|    84879|ASSORTED COLOUR B...|      32|12/1/2010 8:34|     1.69|     13047|United Kingdom|\n",
            "|   536367|    22745|POPPY'S PLAYHOUSE...|       6|12/1/2010 8:34|      2.1|     13047|United Kingdom|\n",
            "|   536367|    22748|POPPY'S PLAYHOUSE...|       6|12/1/2010 8:34|      2.1|     13047|United Kingdom|\n",
            "|   536367|    22749|FELTCRAFT PRINCES...|       8|12/1/2010 8:34|     3.75|     13047|United Kingdom|\n",
            "|   536367|    22310|IVORY KNITTED MUG...|       6|12/1/2010 8:34|     1.65|     13047|United Kingdom|\n",
            "|   536367|    84969|BOX OF 6 ASSORTED...|       6|12/1/2010 8:34|     4.25|     13047|United Kingdom|\n",
            "|   536367|    22623|BOX OF VINTAGE JI...|       3|12/1/2010 8:34|     4.95|     13047|United Kingdom|\n",
            "|   536367|    22622|BOX OF VINTAGE AL...|       2|12/1/2010 8:34|     9.95|     13047|United Kingdom|\n",
            "|   536367|    21754|HOME BUILDING BLO...|       3|12/1/2010 8:34|     5.95|     13047|United Kingdom|\n",
            "|   536367|    21755|LOVE BUILDING BLO...|       3|12/1/2010 8:34|     5.95|     13047|United Kingdom|\n",
            "|   536367|    21777|RECIPE BOX WITH M...|       4|12/1/2010 8:34|     7.95|     13047|United Kingdom|\n",
            "+---------+---------+--------------------+--------+--------------+---------+----------+--------------+\n",
            "only showing top 20 rows\n",
            "\n"
          ]
        }
      ]
    },
    {
      "cell_type": "code",
      "source": [
        "get_countries_df(df_fixed, 'Sweden').show()"
      ],
      "metadata": {
        "colab": {
          "base_uri": "https://localhost:8080/"
        },
        "id": "4wpp8DbnVPdg",
        "outputId": "552eb54e-b857-4993-bdfc-9d057888690d"
      },
      "execution_count": 74,
      "outputs": [
        {
          "output_type": "stream",
          "name": "stdout",
          "text": [
            "+---------+---------+--------------------+--------+----------------+---------+----------+-------+\n",
            "|InvoiceNo|StockCode|         Description|Quantity|     InvoiceDate|UnitPrice|CustomerID|Country|\n",
            "+---------+---------+--------------------+--------+----------------+---------+----------+-------+\n",
            "|     NULL|   85232B|SET OF 3 BABUSHKA...|    -240|12/14/2010 13:27|     4.95|     17404| Sweden|\n",
            "|   538848|   85232B|SET OF 3 BABUSHKA...|     240|12/14/2010 13:28|     4.95|     17404| Sweden|\n",
            "|   539338|    84077|WORLD WAR 2 GLIDE...|     576|12/17/2010 10:54|     0.29|     17404| Sweden|\n",
            "|   539338|    22951|60 CAKE CASES DOL...|     240|12/17/2010 10:54|     0.55|     17404| Sweden|\n",
            "|   539338|    22417|PACK OF 60 SPACEB...|     240|12/17/2010 10:54|     0.55|     17404| Sweden|\n",
            "|   539338|    21977|PACK OF 60 PINK P...|     240|12/17/2010 10:54|     0.55|     17404| Sweden|\n",
            "|   539338|    84992|72 SWEETHEART FAI...|     240|12/17/2010 10:54|     0.55|     17404| Sweden|\n",
            "|   539338|    21212|PACK OF 72 RETROS...|     240|12/17/2010 10:54|     0.55|     17404| Sweden|\n",
            "|   539338|    22949|36 DOILIES DOLLY ...|     144|12/17/2010 10:54|     1.45|     17404| Sweden|\n",
            "|   539338|    21210|SET OF 72 RETROSP...|     288|12/17/2010 10:54|     1.45|     17404| Sweden|\n",
            "|   539338|    22536|MAGIC DRAWING SLA...|     192|12/17/2010 10:54|     0.42|     17404| Sweden|\n",
            "|   539338|    22530|MAGIC DRAWING SLA...|     192|12/17/2010 10:54|     0.42|     17404| Sweden|\n",
            "|   539338|    22242|5 HOOK HANGER MAG...|      12|12/17/2010 10:54|     1.65|     17404| Sweden|\n",
            "|   539338|    22489|PACK OF 12 TRADIT...|     144|12/17/2010 10:54|     0.42|     17404| Sweden|\n",
            "|   539338|    22758|LARGE PURPLE BABU...|      12|12/17/2010 10:54|     1.25|     17404| Sweden|\n",
            "|   539338|    22757|LARGE RED BABUSHK...|      12|12/17/2010 10:54|     1.25|     17404| Sweden|\n",
            "|   539338|    22756|LARGE YELLOW BABU...|      12|12/17/2010 10:54|     1.25|     17404| Sweden|\n",
            "|   539338|    22820|   GIFT BAG BIRTHDAY|     192|12/17/2010 10:54|     0.65|     17404| Sweden|\n",
            "|   539338|    22348|TEA BAG PLATE RED...|     288|12/17/2010 10:54|     0.85|     17404| Sweden|\n",
            "|   539338|    85178|VICTORIAN SEWING KIT|     144|12/17/2010 10:54|     1.25|     17404| Sweden|\n",
            "+---------+---------+--------------------+--------+----------------+---------+----------+-------+\n",
            "only showing top 20 rows\n",
            "\n"
          ]
        }
      ]
    },
    {
      "cell_type": "markdown",
      "source": [
        "***Group by Invoice Number and Calculate Total Amount***"
      ],
      "metadata": {
        "id": "CCFFv7hCVer2"
      }
    },
    {
      "cell_type": "code",
      "source": [
        "df_fixed = df_fixed.withColumn(\"TotalAmount\", f.col(\"UnitPrice\") * f.col(\"Quantity\"))\n",
        "\n",
        "df_fixed.groupby('InvoiceNo').agg(\n",
        "    f.sum(\"TotalAmount\").alias(\"InvoiceTotal\")\n",
        ").show()"
      ],
      "metadata": {
        "colab": {
          "base_uri": "https://localhost:8080/"
        },
        "id": "rqGAAqgpVTvX",
        "outputId": "e73aedbf-d15f-407b-dfb6-4dfdf4d0b210"
      },
      "execution_count": 77,
      "outputs": [
        {
          "output_type": "stream",
          "name": "stdout",
          "text": [
            "+---------+------------------+\n",
            "|InvoiceNo|      InvoiceTotal|\n",
            "+---------+------------------+\n",
            "|   536532|1919.1399841308594|\n",
            "|   537632|   13541.330078125|\n",
            "|   538708| 365.2699947357178|\n",
            "|   538877|12681.579971313477|\n",
            "|   538993|101.20000076293945|\n",
            "|   539735| 596.3399975299835|\n",
            "|   539958| 5262.059963583946|\n",
            "|   540562|337.39000034332275|\n",
            "|   540563| 175.1999969482422|\n",
            "|   541008| 72.26000130176544|\n",
            "|   542058|461.64000844955444|\n",
            "|   542239|114.84999975562096|\n",
            "|   542694| 317.9999694824219|\n",
            "|   542723|127.89999902248383|\n",
            "|   543751|11.199999809265137|\n",
            "|   544198| 84.00000190734863|\n",
            "|   544205| 746.4899958968163|\n",
            "|   544702|284.96999168395996|\n",
            "|   545638|235.91000080108643|\n",
            "|   545649|119.30999997258186|\n",
            "+---------+------------------+\n",
            "only showing top 20 rows\n",
            "\n"
          ]
        }
      ]
    },
    {
      "cell_type": "markdown",
      "source": [
        "***Find the top 5 invoices by total amount.***"
      ],
      "metadata": {
        "id": "6C7rKwxSXA6u"
      }
    },
    {
      "cell_type": "code",
      "source": [
        "from pyspark.sql.window import Window\n",
        "\n",
        "window_spec = Window.orderBy(f.desc(\"TotalAmount\"))\n",
        "df_ranked = df_fixed.withColumn(\"Rank\", f.rank().over(window_spec))\n",
        "df_top_5_invoices = df_ranked.filter(f.col(\"Rank\") <= 5)\n",
        "df_top_5_invoices.show()"
      ],
      "metadata": {
        "colab": {
          "base_uri": "https://localhost:8080/"
        },
        "id": "N_IEqI2LWLBx",
        "outputId": "eb9bd4f9-a693-4683-ff3d-b312fbc288f1"
      },
      "execution_count": 79,
      "outputs": [
        {
          "output_type": "stream",
          "name": "stdout",
          "text": [
            "+---------+---------+--------------------+--------+---------------+---------+----------+--------------+-----------+----+\n",
            "|InvoiceNo|StockCode|         Description|Quantity|    InvoiceDate|UnitPrice|CustomerID|       Country|TotalAmount|Rank|\n",
            "+---------+---------+--------------------+--------+---------------+---------+----------+--------------+-----------+----+\n",
            "|   581483|    23843|PAPER CRAFT , LIT...|   80995| 12/9/2011 9:15|     2.08|     16446|United Kingdom|   168469.6|   1|\n",
            "|   541431|    23166|MEDIUM CERAMIC TO...|   74215|1/18/2011 10:01|     1.04|     12346|United Kingdom|   77183.59|   2|\n",
            "|   556444|    22502|PICNIC BASKET WIC...|      60|6/10/2011 15:28|    649.5|     15098|United Kingdom|    38970.0|   3|\n",
            "|   537632|AMAZONFEE|          AMAZON FEE|       1|12/7/2010 15:08| 13541.33|      NULL|United Kingdom|   13541.33|   4|\n",
            "|     NULL|        B|     Adjust bad debt|       1|8/12/2011 14:50| 11062.06|      NULL|United Kingdom|   11062.06|   5|\n",
            "+---------+---------+--------------------+--------+---------------+---------+----------+--------------+-----------+----+\n",
            "\n"
          ]
        }
      ]
    },
    {
      "cell_type": "markdown",
      "source": [
        "***Calculating Average Unit Price by Product***"
      ],
      "metadata": {
        "id": "Qe5OsxnsXTeP"
      }
    },
    {
      "cell_type": "code",
      "source": [
        "df_avg_unit_price = df_fixed.groupby(\"StockCode\").agg(\n",
        "    f.avg(\"UnitPrice\").alias(\"AvgUnitPrice\")\n",
        ")\n",
        "\n",
        "df_avg_unit_price.show()"
      ],
      "metadata": {
        "colab": {
          "base_uri": "https://localhost:8080/"
        },
        "id": "WgeRQWvhWxOB",
        "outputId": "bbcb14ea-8c86-44c0-d2a5-5e6e2ab01644"
      },
      "execution_count": 80,
      "outputs": [
        {
          "output_type": "stream",
          "name": "stdout",
          "text": [
            "+---------+------------------+\n",
            "|StockCode|      AvgUnitPrice|\n",
            "+---------+------------------+\n",
            "|    22728|4.5603703728428595|\n",
            "|    21889| 1.572586493201468|\n",
            "|   90210B| 2.151428597314017|\n",
            "|    21259| 6.950776883073755|\n",
            "|    21894|1.8020000122211597|\n",
            "|    21452|3.5895000290870667|\n",
            "|    22121| 6.612198430595669|\n",
            "|    90022| 3.759523800441197|\n",
            "|    21249| 3.870336135896314|\n",
            "|    90143| 7.660909089175138|\n",
            "|    84881| 6.352499961853027|\n",
            "|    21248|1.8095588508774252|\n",
            "|    22254|1.6237705027470823|\n",
            "|    20868|0.7071739072385042|\n",
            "|    21331| 14.34249997138977|\n",
            "|   90197B| 4.994074097386113|\n",
            "|    22596| 1.295583944686138|\n",
            "|   90026D|               8.5|\n",
            "|   90177A|2.9100000858306885|\n",
            "|   84899F|               0.0|\n",
            "+---------+------------------+\n",
            "only showing top 20 rows\n",
            "\n"
          ]
        }
      ]
    },
    {
      "cell_type": "markdown",
      "source": [
        "***Calculating Average Total Price by Country***"
      ],
      "metadata": {
        "id": "6otE2Rd0YM_l"
      }
    },
    {
      "cell_type": "code",
      "source": [
        "get_countries_df(df_fixed, 'United Kingdom').agg(\n",
        "    f.avg('TotalAmount').alias('AverageTotalAmount'),\n",
        ").show()"
      ],
      "metadata": {
        "colab": {
          "base_uri": "https://localhost:8080/"
        },
        "id": "Uqn_FAVzXf4b",
        "outputId": "721c60f2-00b6-42e6-e8f5-580f54e7aefd"
      },
      "execution_count": 86,
      "outputs": [
        {
          "output_type": "stream",
          "name": "stdout",
          "text": [
            "+------------------+\n",
            "|AverageTotalAmount|\n",
            "+------------------+\n",
            "|16.525065371515485|\n",
            "+------------------+\n",
            "\n"
          ]
        }
      ]
    },
    {
      "cell_type": "markdown",
      "source": [
        "# Save PySpark DataFrame"
      ],
      "metadata": {
        "id": "Y89vGF0qYVdQ"
      }
    },
    {
      "cell_type": "code",
      "source": [
        "df_fixed.write.parquet(\"parquet\")\n",
        "df_fixed.write.csv(\"csv\")"
      ],
      "metadata": {
        "id": "Nos6zWPVXkqp"
      },
      "execution_count": 91,
      "outputs": []
    },
    {
      "cell_type": "code",
      "source": [
        "!zip -r parquet.zip parquet\n",
        "!zip -r csv.zip csv"
      ],
      "metadata": {
        "colab": {
          "base_uri": "https://localhost:8080/"
        },
        "id": "WTJWsYXtYp7b",
        "outputId": "1d9f2680-d433-4039-ebb1-9c4b28b233e2"
      },
      "execution_count": 92,
      "outputs": [
        {
          "output_type": "stream",
          "name": "stdout",
          "text": [
            "  adding: parquet/ (stored 0%)\n",
            "  adding: parquet/._SUCCESS.crc (stored 0%)\n",
            "  adding: parquet/part-00000-e28ec433-7af3-4c53-b82a-7d94f61c817d-c000.snappy.parquet (deflated 15%)\n",
            "  adding: parquet/.part-00001-e28ec433-7af3-4c53-b82a-7d94f61c817d-c000.snappy.parquet.crc (stored 0%)\n",
            "  adding: parquet/_SUCCESS (stored 0%)\n",
            "  adding: parquet/part-00001-e28ec433-7af3-4c53-b82a-7d94f61c817d-c000.snappy.parquet (deflated 15%)\n",
            "  adding: parquet/.part-00000-e28ec433-7af3-4c53-b82a-7d94f61c817d-c000.snappy.parquet.crc (stored 0%)\n",
            "  adding: csv/ (stored 0%)\n",
            "  adding: csv/._SUCCESS.crc (stored 0%)\n",
            "  adding: csv/_SUCCESS (stored 0%)\n",
            "  adding: csv/.part-00001-7e0fdd42-3d2f-4c26-b95e-9c53a164d29b-c000.csv.crc (deflated 0%)\n",
            "  adding: csv/.part-00000-7e0fdd42-3d2f-4c26-b95e-9c53a164d29b-c000.csv.crc (deflated 0%)\n",
            "  adding: csv/part-00000-7e0fdd42-3d2f-4c26-b95e-9c53a164d29b-c000.csv (deflated 82%)\n",
            "  adding: csv/part-00001-7e0fdd42-3d2f-4c26-b95e-9c53a164d29b-c000.csv (deflated 82%)\n"
          ]
        }
      ]
    },
    {
      "cell_type": "code",
      "source": [],
      "metadata": {
        "id": "3wN7zCQnZr1L"
      },
      "execution_count": null,
      "outputs": []
    }
  ]
}