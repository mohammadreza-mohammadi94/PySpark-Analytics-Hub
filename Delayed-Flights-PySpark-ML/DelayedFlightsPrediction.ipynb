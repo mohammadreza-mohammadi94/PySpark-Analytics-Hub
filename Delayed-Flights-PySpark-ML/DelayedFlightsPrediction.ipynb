{
  "nbformat": 4,
  "nbformat_minor": 0,
  "metadata": {
    "colab": {
      "provenance": [],
      "gpuType": "T4",
      "authorship_tag": "ABX9TyPUlNFIKWThCKlMC5ULIQS+",
      "include_colab_link": true
    },
    "kernelspec": {
      "name": "python3",
      "display_name": "Python 3"
    },
    "language_info": {
      "name": "python"
    },
    "accelerator": "GPU"
  },
  "cells": [
    {
      "cell_type": "markdown",
      "metadata": {
        "id": "view-in-github",
        "colab_type": "text"
      },
      "source": [
        "<a href=\"https://colab.research.google.com/github/mohammadreza-mohammadi94/PySpark-Analytics-Hub/blob/main/Delayed-Flights-PySpark-ML/DelayedFlightsPrediction.ipynb\" target=\"_parent\"><img src=\"https://colab.research.google.com/assets/colab-badge.svg\" alt=\"Open In Colab\"/></a>"
      ]
    },
    {
      "cell_type": "markdown",
      "source": [
        "[Source](https://www.kaggle.com/datasets/patrickzel/flight-delay-and-cancellation-dataset-2019-2023)"
      ],
      "metadata": {
        "id": "ZqbNzT6c9kbb"
      }
    },
    {
      "cell_type": "markdown",
      "source": [
        "# 1. Download Dataset"
      ],
      "metadata": {
        "id": "bdj9MSj164s9"
      }
    },
    {
      "cell_type": "code",
      "source": [
        "!kaggle datasets download patrickzel/flight-delay-and-cancellation-dataset-2019-2023\n",
        "!unzip /content/flight-delay-and-cancellation-dataset-2019-2023.zip"
      ],
      "metadata": {
        "colab": {
          "base_uri": "https://localhost:8080/"
        },
        "id": "AAkb-zXA5TvM",
        "outputId": "fed5ecf2-c875-4ee4-eda7-65fbeb9b6b40"
      },
      "execution_count": null,
      "outputs": [
        {
          "output_type": "stream",
          "name": "stdout",
          "text": [
            "Dataset URL: https://www.kaggle.com/datasets/patrickzel/flight-delay-and-cancellation-dataset-2019-2023\n",
            "License(s): other\n",
            "Downloading flight-delay-and-cancellation-dataset-2019-2023.zip to /content\n",
            " 94% 131M/140M [00:02<00:00, 97.7MB/s]\n",
            "100% 140M/140M [00:02<00:00, 50.4MB/s]\n",
            "Archive:  /content/flight-delay-and-cancellation-dataset-2019-2023.zip\n",
            "  inflating: dictionary.html         \n",
            "  inflating: flights_sample_3m.csv   \n"
          ]
        }
      ]
    },
    {
      "cell_type": "markdown",
      "source": [
        "# 2. Import Libraries"
      ],
      "metadata": {
        "id": "myo1mDz37FlK"
      }
    },
    {
      "cell_type": "code",
      "source": [
        "import pandas as pd\n",
        "import matplotlib.pyplot as plt\n",
        "import seaborn as sns\n",
        "import numpy as np\n",
        "\n",
        "from pyspark.sql import SparkSession\n",
        "from pyspark.sql import functions as f\n",
        "from pyspark.sql.types import *\n",
        "from pyspark.ml.feature import (VectorAssembler,\n",
        "                                StringIndexer,\n",
        "                                StandardScaler,\n",
        "                                OneHotEncoder)\n",
        "from pyspark.ml import Pipeline\n",
        "from pyspark.ml.classification import RandomForestClassifier\n",
        "from pyspark.ml.evaluation import BinaryClassificationEvaluator\n",
        "from pyspark.ml.tuning import ParamGridBuilder, CrossValidator"
      ],
      "metadata": {
        "id": "rLH_4BT55TqH"
      },
      "execution_count": null,
      "outputs": []
    },
    {
      "cell_type": "markdown",
      "source": [
        "# 3. Initializing Spark Session & Loading Dataset"
      ],
      "metadata": {
        "id": "JC9aTjbc7zie"
      }
    },
    {
      "cell_type": "code",
      "source": [
        "# Starting Spark Session\n",
        "spark = SparkSession.builder \\\n",
        "    .appName(\"FlightDelay\") \\\n",
        "    .config('spark.driver.memory', '12g') \\\n",
        "    .config('spark.sql.shuffle.partitions', '8') \\\n",
        "    .config('spark.default.parallelism', '8') \\\n",
        "    .getOrCreate()"
      ],
      "metadata": {
        "id": "9TNL2un05Tnj"
      },
      "execution_count": null,
      "outputs": []
    },
    {
      "cell_type": "markdown",
      "source": [
        "## 3.1 Loading Dataset"
      ],
      "metadata": {
        "id": "bCKh_y-iDQJQ"
      }
    },
    {
      "cell_type": "code",
      "source": [
        "%%time\n",
        "\n",
        "# Load\n",
        "flights_df = (\n",
        "    spark.read.csv(\n",
        "        path=\"/content/flights_sample_3m.csv\",\n",
        "        header=True,\n",
        "        inferSchema=True\n",
        "    )\n",
        ")\n",
        "\n",
        "flights_df.cache()\n",
        "flights_df.count()"
      ],
      "metadata": {
        "id": "R__QvLKZ5TlF",
        "colab": {
          "base_uri": "https://localhost:8080/"
        },
        "outputId": "2d0642ff-268a-4c03-fa7e-66fd49e9083f"
      },
      "execution_count": null,
      "outputs": [
        {
          "output_type": "stream",
          "name": "stdout",
          "text": [
            "CPU times: user 365 ms, sys: 37.5 ms, total: 402 ms\n",
            "Wall time: 1min 24s\n"
          ]
        },
        {
          "output_type": "execute_result",
          "data": {
            "text/plain": [
              "3000000"
            ]
          },
          "metadata": {},
          "execution_count": 4
        }
      ]
    },
    {
      "cell_type": "markdown",
      "source": [
        "# 4. Analyzing & Preprocessing"
      ],
      "metadata": {
        "id": "eBejWOGQb4Ca"
      }
    },
    {
      "cell_type": "markdown",
      "source": [
        "## 4.1 Variable's Description"
      ],
      "metadata": {
        "id": "DZSWQvYlFKOC"
      }
    },
    {
      "cell_type": "markdown",
      "source": [
        "### 📆 **Date and Time Variables**\n",
        "| **Variable**       | **Type**   | **Description**                                    |\n",
        "|---------------------|-----------|----------------------------------------------------|\n",
        "| **YEAR**           | Integer   | Year of the flight (e.g., 2019, 2020).             |\n",
        "| **MONTH**          | Integer   | Month of the flight (1 = January, 12 = December).  |\n",
        "| **DAY**            | Integer   | Day of the month.                                  |\n",
        "| **DAY_OF_WEEK**    | Integer   | Day of the week (1 = Monday, 7 = Sunday).          |\n",
        "\n",
        "\n",
        "### 🛫 **Flight Identification**\n",
        "| **Variable**       | **Type**   | **Description**                                    |\n",
        "|---------------------|-----------|----------------------------------------------------|\n",
        "| **AIRLINE**        | String    | Airline code (e.g., AA for American Airlines).     |\n",
        "| **FLIGHT_NUMBER**  | String    | Unique flight number assigned by the airline.     |\n",
        "| **TAIL_NUMBER**    | String    | Aircraft registration number.                     |\n",
        "\n",
        "\n",
        "### 🗺️ **Flight Route Information**\n",
        "| **Variable**           | **Type**   | **Description**                                    |\n",
        "|-------------------------|-----------|----------------------------------------------------|\n",
        "| **ORIGIN_AIRPORT**      | String    | Origin airport code (e.g., JFK, LAX).             |\n",
        "| **DESTINATION_AIRPORT** | String    | Destination airport code.                        |\n",
        "\n",
        "\n",
        "### ⏱️ **Departure Details**\n",
        "| **Variable**            | **Type**   | **Description**                                    |\n",
        "|--------------------------|-----------|----------------------------------------------------|\n",
        "| **SCHEDULED_DEPARTURE** | String    | Scheduled departure time (e.g., 14:30).           |\n",
        "| **DEPARTURE_TIME**      | String    | Actual departure time.                            |\n",
        "| **DEPARTURE_DELAY**     | Double    | Delay in minutes at departure. Positive if late.  |\n",
        "| **TAXI_OUT**            | Double    | Time in minutes spent taxiing before takeoff.     |\n",
        "| **WHEELS_OFF**          | String    | Time when the wheels left the ground.             |\n",
        "\n",
        "\n",
        "### 🛬 **Arrival Details**\n",
        "| **Variable**           | **Type**   | **Description**                                    |\n",
        "|-------------------------|-----------|----------------------------------------------------|\n",
        "| **SCHEDULED_ARRIVAL**  | String    | Scheduled arrival time.                           |\n",
        "| **ARRIVAL_TIME**       | String    | Actual arrival time.                              |\n",
        "| **ARRIVAL_DELAY**      | Double    | Delay in minutes at arrival. Positive if late.    |\n",
        "| **TAXI_IN**            | Double    | Time in minutes spent taxiing after landing.      |\n",
        "| **WHEELS_ON**          | String    | Time when the wheels touched the ground.          |\n",
        "\n",
        "\n",
        "### 📊 **Flight Duration and Distance**\n",
        "| **Variable**        | **Type**   | **Description**                                    |\n",
        "|----------------------|-----------|----------------------------------------------------|\n",
        "| **SCHEDULED_TIME**  | Double    | Planned duration of the flight (in minutes).       |\n",
        "| **ELAPSED_TIME**    | Double    | Actual flight duration (in minutes).              |\n",
        "| **AIR_TIME**        | Double    | Time spent in the air (in minutes).               |\n",
        "| **DISTANCE**        | Double    | Distance traveled (in miles).                     |\n",
        "\n",
        "\n",
        "### 🚦 **Flight Status**\n",
        "| **Variable**        | **Type**   | **Description**                                    |\n",
        "|----------------------|-----------|----------------------------------------------------|\n",
        "| **DIVERTED**        | Integer   | 1 if the flight was diverted, 0 otherwise.         |\n",
        "| **CANCELLED**       | Integer   | 1 if the flight was cancelled, 0 otherwise.        |\n",
        "| **CANCELLATION_REASON** | String | Reason for cancellation: A (Airline), B (Weather), C (NAS), D (Security). |\n",
        "\n",
        "\n",
        "### 🕒 **Delay Causes**\n",
        "| **Variable**            | **Type**   | **Description**                                    |\n",
        "|--------------------------|-----------|----------------------------------------------------|\n",
        "| **AIR_SYSTEM_DELAY**    | Double    | Delay due to air traffic control system issues.   |\n",
        "| **SECURITY_DELAY**      | Double    | Delay caused by security measures.               |\n",
        "| **AIRLINE_DELAY**       | Double    | Delay caused by airline operations or crew.      |\n",
        "| **LATE_AIRCRAFT_DELAY** | Double    | Delay caused by the late arrival of the aircraft. |\n",
        "| **WEATHER_DELAY**       | Double    | Delay caused by weather conditions.              |\n",
        "\n"
      ],
      "metadata": {
        "id": "xfiramEdDqbr"
      }
    },
    {
      "cell_type": "markdown",
      "source": [
        "## 4.2 Dataset Structure"
      ],
      "metadata": {
        "id": "BSLd0RWnb7vB"
      }
    },
    {
      "cell_type": "code",
      "source": [
        "print(\" Dimension:\\n\", flights_df.count(), len(flights_df.columns))"
      ],
      "metadata": {
        "colab": {
          "base_uri": "https://localhost:8080/"
        },
        "id": "sEWaPF6u-fqy",
        "outputId": "35c0dd0b-7c39-4db3-d205-39690441b5b6"
      },
      "execution_count": null,
      "outputs": [
        {
          "output_type": "stream",
          "name": "stdout",
          "text": [
            " Dimension:\n",
            " 3000000 32\n"
          ]
        }
      ]
    },
    {
      "cell_type": "code",
      "source": [
        "flights_df.show(5)"
      ],
      "metadata": {
        "id": "FNiRaq1uA2Vw",
        "colab": {
          "base_uri": "https://localhost:8080/"
        },
        "outputId": "3f467ba8-6894-49b8-841e-c340248cce10"
      },
      "execution_count": null,
      "outputs": [
        {
          "output_type": "stream",
          "name": "stdout",
          "text": [
            "+----------+--------------------+--------------------+------------+--------+---------+------+-------------------+----+--------------------+------------+--------+---------+--------+----------+---------+-------+------------+--------+---------+---------+-----------------+--------+----------------+------------+--------+--------+-----------------+-----------------+-------------+------------------+-----------------------+\n",
            "|   FL_DATE|             AIRLINE|         AIRLINE_DOT|AIRLINE_CODE|DOT_CODE|FL_NUMBER|ORIGIN|        ORIGIN_CITY|DEST|           DEST_CITY|CRS_DEP_TIME|DEP_TIME|DEP_DELAY|TAXI_OUT|WHEELS_OFF|WHEELS_ON|TAXI_IN|CRS_ARR_TIME|ARR_TIME|ARR_DELAY|CANCELLED|CANCELLATION_CODE|DIVERTED|CRS_ELAPSED_TIME|ELAPSED_TIME|AIR_TIME|DISTANCE|DELAY_DUE_CARRIER|DELAY_DUE_WEATHER|DELAY_DUE_NAS|DELAY_DUE_SECURITY|DELAY_DUE_LATE_AIRCRAFT|\n",
            "+----------+--------------------+--------------------+------------+--------+---------+------+-------------------+----+--------------------+------------+--------+---------+--------+----------+---------+-------+------------+--------+---------+---------+-----------------+--------+----------------+------------+--------+--------+-----------------+-----------------+-------------+------------------+-----------------------+\n",
            "|2019-01-09|United Air Lines ...|United Air Lines ...|          UA|   19977|     1562|   FLL|Fort Lauderdale, FL| EWR|          Newark, NJ|        1155|  1151.0|     -4.0|    19.0|    1210.0|   1443.0|    4.0|        1501|  1447.0|    -14.0|      0.0|             NULL|     0.0|           186.0|       176.0|   153.0|  1065.0|             NULL|             NULL|         NULL|              NULL|                   NULL|\n",
            "|2022-11-19|Delta Air Lines Inc.|Delta Air Lines I...|          DL|   19790|     1149|   MSP|    Minneapolis, MN| SEA|         Seattle, WA|        2120|  2114.0|     -6.0|     9.0|    2123.0|   2232.0|   38.0|        2315|  2310.0|     -5.0|      0.0|             NULL|     0.0|           235.0|       236.0|   189.0|  1399.0|             NULL|             NULL|         NULL|              NULL|                   NULL|\n",
            "|2022-07-22|United Air Lines ...|United Air Lines ...|          UA|   19977|      459|   DEN|         Denver, CO| MSP|     Minneapolis, MN|         954|  1000.0|      6.0|    20.0|    1020.0|   1247.0|    5.0|        1252|  1252.0|      0.0|      0.0|             NULL|     0.0|           118.0|       112.0|    87.0|   680.0|             NULL|             NULL|         NULL|              NULL|                   NULL|\n",
            "|2023-03-06|Delta Air Lines Inc.|Delta Air Lines I...|          DL|   19790|     2295|   MSP|    Minneapolis, MN| SFO|   San Francisco, CA|        1609|  1608.0|     -1.0|    27.0|    1635.0|   1844.0|    9.0|        1829|  1853.0|     24.0|      0.0|             NULL|     0.0|           260.0|       285.0|   249.0|  1589.0|              0.0|              0.0|         24.0|               0.0|                    0.0|\n",
            "|2020-02-23|    Spirit Air Lines|Spirit Air Lines: NK|          NK|   20416|      407|   MCO|        Orlando, FL| DFW|Dallas/Fort Worth...|        1840|  1838.0|     -2.0|    15.0|    1853.0|   2026.0|   14.0|        2041|  2040.0|     -1.0|      0.0|             NULL|     0.0|           181.0|       182.0|   153.0|   985.0|             NULL|             NULL|         NULL|              NULL|                   NULL|\n",
            "+----------+--------------------+--------------------+------------+--------+---------+------+-------------------+----+--------------------+------------+--------+---------+--------+----------+---------+-------+------------+--------+---------+---------+-----------------+--------+----------------+------------+--------+--------+-----------------+-----------------+-------------+------------------+-----------------------+\n",
            "only showing top 5 rows\n",
            "\n"
          ]
        }
      ]
    },
    {
      "cell_type": "code",
      "source": [
        "flights_df.printSchema()"
      ],
      "metadata": {
        "id": "63ahRay_DvnQ",
        "colab": {
          "base_uri": "https://localhost:8080/"
        },
        "outputId": "16eb1978-fad9-4b02-91fc-2a942eaf0dd2"
      },
      "execution_count": null,
      "outputs": [
        {
          "output_type": "stream",
          "name": "stdout",
          "text": [
            "root\n",
            " |-- FL_DATE: date (nullable = true)\n",
            " |-- AIRLINE: string (nullable = true)\n",
            " |-- AIRLINE_DOT: string (nullable = true)\n",
            " |-- AIRLINE_CODE: string (nullable = true)\n",
            " |-- DOT_CODE: integer (nullable = true)\n",
            " |-- FL_NUMBER: integer (nullable = true)\n",
            " |-- ORIGIN: string (nullable = true)\n",
            " |-- ORIGIN_CITY: string (nullable = true)\n",
            " |-- DEST: string (nullable = true)\n",
            " |-- DEST_CITY: string (nullable = true)\n",
            " |-- CRS_DEP_TIME: integer (nullable = true)\n",
            " |-- DEP_TIME: double (nullable = true)\n",
            " |-- DEP_DELAY: double (nullable = true)\n",
            " |-- TAXI_OUT: double (nullable = true)\n",
            " |-- WHEELS_OFF: double (nullable = true)\n",
            " |-- WHEELS_ON: double (nullable = true)\n",
            " |-- TAXI_IN: double (nullable = true)\n",
            " |-- CRS_ARR_TIME: integer (nullable = true)\n",
            " |-- ARR_TIME: double (nullable = true)\n",
            " |-- ARR_DELAY: double (nullable = true)\n",
            " |-- CANCELLED: double (nullable = true)\n",
            " |-- CANCELLATION_CODE: string (nullable = true)\n",
            " |-- DIVERTED: double (nullable = true)\n",
            " |-- CRS_ELAPSED_TIME: double (nullable = true)\n",
            " |-- ELAPSED_TIME: double (nullable = true)\n",
            " |-- AIR_TIME: double (nullable = true)\n",
            " |-- DISTANCE: double (nullable = true)\n",
            " |-- DELAY_DUE_CARRIER: double (nullable = true)\n",
            " |-- DELAY_DUE_WEATHER: double (nullable = true)\n",
            " |-- DELAY_DUE_NAS: double (nullable = true)\n",
            " |-- DELAY_DUE_SECURITY: double (nullable = true)\n",
            " |-- DELAY_DUE_LATE_AIRCRAFT: double (nullable = true)\n",
            "\n"
          ]
        }
      ]
    },
    {
      "cell_type": "markdown",
      "source": [
        "## 4.3 Missing Values"
      ],
      "metadata": {
        "id": "FB1b9KBUb-gF"
      }
    },
    {
      "cell_type": "code",
      "source": [
        "def check_missing_values(df):\n",
        "    print(\"Column's Missing Values: \\n\")\n",
        "    for col in df.columns:\n",
        "        nans = df.filter(f.col(col).isNull()).count()\n",
        "        if nans > 0:\n",
        "            print(f\"{col}: {nans}\")\n",
        "\n",
        "check_missing_values(flights_df)"
      ],
      "metadata": {
        "id": "4STQlVlcDvlN",
        "colab": {
          "base_uri": "https://localhost:8080/"
        },
        "outputId": "c8202385-b3ea-4804-c439-03cd2a5936ad"
      },
      "execution_count": null,
      "outputs": [
        {
          "output_type": "stream",
          "name": "stdout",
          "text": [
            "Column's Missing Values: \n",
            "\n",
            "DEP_TIME: 77615\n",
            "DEP_DELAY: 77644\n",
            "TAXI_OUT: 78806\n",
            "WHEELS_OFF: 78806\n",
            "WHEELS_ON: 79944\n",
            "TAXI_IN: 79944\n",
            "ARR_TIME: 79942\n",
            "ARR_DELAY: 86198\n",
            "CANCELLATION_CODE: 2920860\n",
            "CRS_ELAPSED_TIME: 14\n",
            "ELAPSED_TIME: 86198\n",
            "AIR_TIME: 86198\n",
            "DELAY_DUE_CARRIER: 2466137\n",
            "DELAY_DUE_WEATHER: 2466137\n",
            "DELAY_DUE_NAS: 2466137\n",
            "DELAY_DUE_SECURITY: 2466137\n",
            "DELAY_DUE_LATE_AIRCRAFT: 2466137\n"
          ]
        }
      ]
    },
    {
      "cell_type": "code",
      "source": [
        "flights_df.where(\"ARR_TIME > 0.0\").show(10)"
      ],
      "metadata": {
        "colab": {
          "base_uri": "https://localhost:8080/"
        },
        "id": "0v03_HR2oX8c",
        "outputId": "f241b73f-7eb1-4e51-ca05-7bc20ab1730c"
      },
      "execution_count": null,
      "outputs": [
        {
          "output_type": "stream",
          "name": "stdout",
          "text": [
            "+----------+--------------------+--------------------+------------+--------+---------+------+-------------------+----+--------------------+------------+--------+---------+--------+----------+---------+-------+------------+--------+---------+---------+-----------------+--------+----------------+------------+--------+--------+-----------------+-----------------+-------------+------------------+-----------------------+\n",
            "|   FL_DATE|             AIRLINE|         AIRLINE_DOT|AIRLINE_CODE|DOT_CODE|FL_NUMBER|ORIGIN|        ORIGIN_CITY|DEST|           DEST_CITY|CRS_DEP_TIME|DEP_TIME|DEP_DELAY|TAXI_OUT|WHEELS_OFF|WHEELS_ON|TAXI_IN|CRS_ARR_TIME|ARR_TIME|ARR_DELAY|CANCELLED|CANCELLATION_CODE|DIVERTED|CRS_ELAPSED_TIME|ELAPSED_TIME|AIR_TIME|DISTANCE|DELAY_DUE_CARRIER|DELAY_DUE_WEATHER|DELAY_DUE_NAS|DELAY_DUE_SECURITY|DELAY_DUE_LATE_AIRCRAFT|\n",
            "+----------+--------------------+--------------------+------------+--------+---------+------+-------------------+----+--------------------+------------+--------+---------+--------+----------+---------+-------+------------+--------+---------+---------+-----------------+--------+----------------+------------+--------+--------+-----------------+-----------------+-------------+------------------+-----------------------+\n",
            "|2019-01-09|United Air Lines ...|United Air Lines ...|          UA|   19977|     1562|   FLL|Fort Lauderdale, FL| EWR|          Newark, NJ|        1155|  1151.0|     -4.0|    19.0|    1210.0|   1443.0|    4.0|        1501|  1447.0|    -14.0|      0.0|             NULL|     0.0|           186.0|       176.0|   153.0|  1065.0|             NULL|             NULL|         NULL|              NULL|                   NULL|\n",
            "|2022-11-19|Delta Air Lines Inc.|Delta Air Lines I...|          DL|   19790|     1149|   MSP|    Minneapolis, MN| SEA|         Seattle, WA|        2120|  2114.0|     -6.0|     9.0|    2123.0|   2232.0|   38.0|        2315|  2310.0|     -5.0|      0.0|             NULL|     0.0|           235.0|       236.0|   189.0|  1399.0|             NULL|             NULL|         NULL|              NULL|                   NULL|\n",
            "|2022-07-22|United Air Lines ...|United Air Lines ...|          UA|   19977|      459|   DEN|         Denver, CO| MSP|     Minneapolis, MN|         954|  1000.0|      6.0|    20.0|    1020.0|   1247.0|    5.0|        1252|  1252.0|      0.0|      0.0|             NULL|     0.0|           118.0|       112.0|    87.0|   680.0|             NULL|             NULL|         NULL|              NULL|                   NULL|\n",
            "|2023-03-06|Delta Air Lines Inc.|Delta Air Lines I...|          DL|   19790|     2295|   MSP|    Minneapolis, MN| SFO|   San Francisco, CA|        1609|  1608.0|     -1.0|    27.0|    1635.0|   1844.0|    9.0|        1829|  1853.0|     24.0|      0.0|             NULL|     0.0|           260.0|       285.0|   249.0|  1589.0|              0.0|              0.0|         24.0|               0.0|                    0.0|\n",
            "|2020-02-23|    Spirit Air Lines|Spirit Air Lines: NK|          NK|   20416|      407|   MCO|        Orlando, FL| DFW|Dallas/Fort Worth...|        1840|  1838.0|     -2.0|    15.0|    1853.0|   2026.0|   14.0|        2041|  2040.0|     -1.0|      0.0|             NULL|     0.0|           181.0|       182.0|   153.0|   985.0|             NULL|             NULL|         NULL|              NULL|                   NULL|\n",
            "|2019-07-31|Southwest Airline...|Southwest Airline...|          WN|   19393|      665|   DAL|         Dallas, TX| OKC|   Oklahoma City, OK|        1010|  1237.0|    147.0|    15.0|    1252.0|   1328.0|    3.0|        1110|  1331.0|    141.0|      0.0|             NULL|     0.0|            60.0|        54.0|    36.0|   181.0|            141.0|              0.0|          0.0|               0.0|                    0.0|\n",
            "|2023-06-11|American Airlines...|American Airlines...|          AA|   19805|     2134|   DCA|     Washington, DC| BOS|          Boston, MA|        1010|  1001.0|     -9.0|    23.0|    1024.0|   1122.0|    8.0|        1159|  1130.0|    -29.0|      0.0|             NULL|     0.0|           109.0|        89.0|    58.0|   399.0|             NULL|             NULL|         NULL|              NULL|                   NULL|\n",
            "|2019-07-08|    Republic Airline|Republic Airline: YX|          YX|   20452|     4464|   HSV|     Huntsville, AL| DCA|      Washington, DC|        1643|  1637.0|     -6.0|    22.0|    1659.0|   1927.0|   41.0|        1945|  2008.0|     23.0|      0.0|             NULL|     0.0|           122.0|       151.0|    88.0|   613.0|              0.0|              0.0|         23.0|               0.0|                    0.0|\n",
            "|2023-02-12|    Spirit Air Lines|Spirit Air Lines: NK|          NK|   20416|      590|   IAH|        Houston, TX| LAX|     Los Angeles, CA|         530|   527.0|     -3.0|    11.0|     538.0|    658.0|    8.0|         717|   706.0|    -11.0|      0.0|             NULL|     0.0|           227.0|       219.0|   200.0|  1379.0|             NULL|             NULL|         NULL|              NULL|                   NULL|\n",
            "|2020-08-22|Alaska Airlines Inc.|Alaska Airlines I...|          AS|   19930|      223|   SEA|        Seattle, WA| FAI|       Fairbanks, AK|        2125|  2116.0|     -9.0|    19.0|    2135.0|   2353.0|    3.0|        2355|  2356.0|      1.0|      0.0|             NULL|     0.0|           210.0|       220.0|   198.0|  1533.0|             NULL|             NULL|         NULL|              NULL|                   NULL|\n",
            "+----------+--------------------+--------------------+------------+--------+---------+------+-------------------+----+--------------------+------------+--------+---------+--------+----------+---------+-------+------------+--------+---------+---------+-----------------+--------+----------------+------------+--------+--------+-----------------+-----------------+-------------+------------------+-----------------------+\n",
            "only showing top 10 rows\n",
            "\n"
          ]
        }
      ]
    },
    {
      "cell_type": "markdown",
      "source": [
        "## 4.4 Statistical Overview"
      ],
      "metadata": {
        "id": "Lpns9LvFlY5I"
      }
    },
    {
      "cell_type": "code",
      "source": [
        "%%time\n",
        "flights_df.select(\"DEP_DELAY\", \"ARR_DELAY\", \"DISTANCE\", \"ELAPSED_TIME\", \"DELAY_DUE_LATE_AIRCRAFT\",\n",
        "                  \"DELAY_DUE_SECURITY\", \"DELAY_DUE_CARRIER\", \"CANCELLED\") \\\n",
        "      .summary(\"count\", \"mean\", \"stddev\", \"min\", \"max\") \\\n",
        "      .show()"
      ],
      "metadata": {
        "colab": {
          "base_uri": "https://localhost:8080/"
        },
        "id": "N4EW7ironBSh",
        "outputId": "9d0cb2a8-fe27-4424-aa11-bee79f547e1b"
      },
      "execution_count": null,
      "outputs": [
        {
          "output_type": "stream",
          "name": "stdout",
          "text": [
            "+-------+------------------+-----------------+-----------------+-----------------+-----------------------+-------------------+------------------+-------------------+\n",
            "|summary|         DEP_DELAY|        ARR_DELAY|         DISTANCE|     ELAPSED_TIME|DELAY_DUE_LATE_AIRCRAFT| DELAY_DUE_SECURITY| DELAY_DUE_CARRIER|          CANCELLED|\n",
            "+-------+------------------+-----------------+-----------------+-----------------+-----------------------+-------------------+------------------+-------------------+\n",
            "|  count|           2922356|          2913802|          3000000|          2913802|                 533863|             533863|            533863|            3000000|\n",
            "|   mean|10.123326179288219|4.260858150279257|809.3615516666666|136.6205411349158|     25.471281958105358|0.14593069757596985|24.759086132584578|            0.02638|\n",
            "| stddev| 49.25183487489521|51.17482436059588|587.8939382449503|71.67581550996236|     55.766892035226995| 3.5820528160419096| 71.77184461920068|0.16026260999175043|\n",
            "|    min|             -90.0|            -96.0|             29.0|             15.0|                    0.0|                0.0|               0.0|                0.0|\n",
            "|    max|            2966.0|           2934.0|           5812.0|            739.0|                 2557.0|             1185.0|            2934.0|                1.0|\n",
            "+-------+------------------+-----------------+-----------------+-----------------+-----------------------+-------------------+------------------+-------------------+\n",
            "\n",
            "CPU times: user 25.1 ms, sys: 2.47 ms, total: 27.6 ms\n",
            "Wall time: 2.87 s\n"
          ]
        }
      ]
    },
    {
      "cell_type": "markdown",
      "source": [
        "## 4.5 Creating Target Variable"
      ],
      "metadata": {
        "id": "fns8PDC0jRkO"
      }
    },
    {
      "cell_type": "code",
      "source": [
        "flights_df = (\n",
        "    flights_df.withColumn(\n",
        "    \"Is_Delayed\",\n",
        "    f.when(f.col(\"DEP_DELAY\") >= 5.0, 1.0).otherwise(0.0)\n",
        "    )\n",
        ")"
      ],
      "metadata": {
        "id": "4aLpu4JzDvgh"
      },
      "execution_count": null,
      "outputs": []
    },
    {
      "cell_type": "code",
      "source": [
        "flights_df.groupBy(\"Is_Delayed\").count().show()"
      ],
      "metadata": {
        "id": "6_VXRoxyDveF",
        "colab": {
          "base_uri": "https://localhost:8080/"
        },
        "outputId": "48aefed8-ebbc-4187-d29f-8da67f672b88"
      },
      "execution_count": null,
      "outputs": [
        {
          "output_type": "stream",
          "name": "stdout",
          "text": [
            "+----------+-------+\n",
            "|Is_Delayed|  count|\n",
            "+----------+-------+\n",
            "|       1.0| 794501|\n",
            "|       0.0|2205499|\n",
            "+----------+-------+\n",
            "\n"
          ]
        }
      ]
    },
    {
      "cell_type": "markdown",
      "source": [
        "## 4.6 Feature Eng"
      ],
      "metadata": {
        "id": "-ZN8Wz14q0hm"
      }
    },
    {
      "cell_type": "code",
      "source": [
        "apt_traffic = flights_df.groupBy(\"ORIGIN\").agg(\n",
        "    f.count(\"*\").alias(\"Daily_Flights\")\n",
        "    )\n",
        "\n",
        "flights_df = flights_df.join(apt_traffic, \"ORIGIN\")\n",
        "\n",
        "# Creating Is_Busy_Apt\n",
        "flights_df = flights_df.withColumn(\"Is_Busy_Apt\",\n",
        "                                   f.when(f.col(\"Daily_Flights\")> 1000, 1).otherwise(0))"
      ],
      "metadata": {
        "id": "1ufGcjlWkkwL"
      },
      "execution_count": null,
      "outputs": []
    },
    {
      "cell_type": "code",
      "source": [
        "# Extract Month, Day, Year\n",
        "\n",
        "flights_df = (\n",
        "    flights_df.withColumn(\"Year\", f.year(flights_df['FL_DATE']))\n",
        "    .withColumn(\"Month\", f.month(flights_df['FL_DATE']))\n",
        "    .withColumn(\"Day\", f.dayofmonth(flights_df['FL_DATE'])\n",
        "    )\n",
        ")\n",
        "\n",
        "flights_df.show(2)"
      ],
      "metadata": {
        "colab": {
          "base_uri": "https://localhost:8080/"
        },
        "id": "dgPlcVNLtplB",
        "outputId": "f4ac9ac1-c851-4238-abe6-a157edad8b81"
      },
      "execution_count": null,
      "outputs": [
        {
          "output_type": "stream",
          "name": "stdout",
          "text": [
            "+------+----------+----------------+--------------------+------------+--------+---------+------------+----+---------------+------------+--------+---------+--------+----------+---------+-------+------------+--------+---------+---------+-----------------+--------+----------------+------------+--------+--------+-----------------+-----------------+-------------+------------------+-----------------------+----------+-------------+-----------+----+-----+---+\n",
            "|ORIGIN|   FL_DATE|         AIRLINE|         AIRLINE_DOT|AIRLINE_CODE|DOT_CODE|FL_NUMBER| ORIGIN_CITY|DEST|      DEST_CITY|CRS_DEP_TIME|DEP_TIME|DEP_DELAY|TAXI_OUT|WHEELS_OFF|WHEELS_ON|TAXI_IN|CRS_ARR_TIME|ARR_TIME|ARR_DELAY|CANCELLED|CANCELLATION_CODE|DIVERTED|CRS_ELAPSED_TIME|ELAPSED_TIME|AIR_TIME|DISTANCE|DELAY_DUE_CARRIER|DELAY_DUE_WEATHER|DELAY_DUE_NAS|DELAY_DUE_SECURITY|DELAY_DUE_LATE_AIRCRAFT|Is_Delayed|Daily_Flights|Is_Busy_Apt|Year|Month|Day|\n",
            "+------+----------+----------------+--------------------+------------+--------+---------+------------+----+---------------+------------+--------+---------+--------+----------+---------+-------+------------+--------+---------+---------+-----------------+--------+----------------+------------+--------+--------+-----------------+-----------------+-------------+------------------+-----------------------+----------+-------------+-----------+----+-----+---+\n",
            "|   IAH|2023-02-12|Spirit Air Lines|Spirit Air Lines: NK|          NK|   20416|      590| Houston, TX| LAX|Los Angeles, CA|         530|   527.0|     -3.0|    11.0|     538.0|    658.0|    8.0|         717|   706.0|    -11.0|      0.0|             NULL|     0.0|           227.0|       219.0|   200.0|  1379.0|             NULL|             NULL|         NULL|              NULL|                   NULL|       0.0|        62542|          1|2023|    2| 12|\n",
            "|   JFK|2022-05-05| JetBlue Airways| JetBlue Airways: B6|          B6|   20409|     1273|New York, NY| CHS| Charleston, SC|         803|   800.0|     -3.0|    17.0|     817.0|    943.0|    3.0|        1012|   946.0|    -26.0|      0.0|             NULL|     0.0|           129.0|       106.0|    86.0|   636.0|             NULL|             NULL|         NULL|              NULL|                   NULL|       0.0|        50466|          1|2022|    5|  5|\n",
            "+------+----------+----------------+--------------------+------------+--------+---------+------------+----+---------------+------------+--------+---------+--------+----------+---------+-------+------------+--------+---------+---------+-----------------+--------+----------------+------------+--------+--------+-----------------+-----------------+-------------+------------------+-----------------------+----------+-------------+-----------+----+-----+---+\n",
            "only showing top 2 rows\n",
            "\n"
          ]
        }
      ]
    },
    {
      "cell_type": "markdown",
      "source": [
        "## 4.7 Selecting Relevant Features"
      ],
      "metadata": {
        "id": "cKSxrFXTtJly"
      }
    },
    {
      "cell_type": "code",
      "source": [
        "# flights_df.columns\n",
        "flights_df.show(1)"
      ],
      "metadata": {
        "colab": {
          "base_uri": "https://localhost:8080/"
        },
        "id": "-ogXy3lktO_g",
        "outputId": "855dfb12-35e8-4ecd-ad52-7ecb64645b26"
      },
      "execution_count": null,
      "outputs": [
        {
          "output_type": "stream",
          "name": "stdout",
          "text": [
            "+------+----------+----------------+--------------------+------------+--------+---------+-----------+----+---------------+------------+--------+---------+--------+----------+---------+-------+------------+--------+---------+---------+-----------------+--------+----------------+------------+--------+--------+-----------------+-----------------+-------------+------------------+-----------------------+----------+-------------+-----------+----+-----+---+\n",
            "|ORIGIN|   FL_DATE|         AIRLINE|         AIRLINE_DOT|AIRLINE_CODE|DOT_CODE|FL_NUMBER|ORIGIN_CITY|DEST|      DEST_CITY|CRS_DEP_TIME|DEP_TIME|DEP_DELAY|TAXI_OUT|WHEELS_OFF|WHEELS_ON|TAXI_IN|CRS_ARR_TIME|ARR_TIME|ARR_DELAY|CANCELLED|CANCELLATION_CODE|DIVERTED|CRS_ELAPSED_TIME|ELAPSED_TIME|AIR_TIME|DISTANCE|DELAY_DUE_CARRIER|DELAY_DUE_WEATHER|DELAY_DUE_NAS|DELAY_DUE_SECURITY|DELAY_DUE_LATE_AIRCRAFT|Is_Delayed|Daily_Flights|Is_Busy_Apt|Year|Month|Day|\n",
            "+------+----------+----------------+--------------------+------------+--------+---------+-----------+----+---------------+------------+--------+---------+--------+----------+---------+-------+------------+--------+---------+---------+-----------------+--------+----------------+------------+--------+--------+-----------------+-----------------+-------------+------------------+-----------------------+----------+-------------+-----------+----+-----+---+\n",
            "|   IAH|2023-02-12|Spirit Air Lines|Spirit Air Lines: NK|          NK|   20416|      590|Houston, TX| LAX|Los Angeles, CA|         530|   527.0|     -3.0|    11.0|     538.0|    658.0|    8.0|         717|   706.0|    -11.0|      0.0|             NULL|     0.0|           227.0|       219.0|   200.0|  1379.0|             NULL|             NULL|         NULL|              NULL|                   NULL|       0.0|        62542|          1|2023|    2| 12|\n",
            "+------+----------+----------------+--------------------+------------+--------+---------+-----------+----+---------------+------------+--------+---------+--------+----------+---------+-------+------------+--------+---------+---------+-----------------+--------+----------------+------------+--------+--------+-----------------+-----------------+-------------+------------------+-----------------------+----------+-------------+-----------+----+-----+---+\n",
            "only showing top 1 row\n",
            "\n"
          ]
        }
      ]
    },
    {
      "cell_type": "code",
      "source": [
        "df = flights_df.select(\"Month\", \"Day\", \"DEP_TIME\", \"DEP_DELAY\",\n",
        "                       \"AIRLINE_CODE\", \"Is_Busy_Apt\",\n",
        "                       \"Is_Delayed\")"
      ],
      "metadata": {
        "id": "7vFgXzZtq8Gh"
      },
      "execution_count": null,
      "outputs": []
    },
    {
      "cell_type": "code",
      "source": [
        "# print(df.columns)\n",
        "df.show()"
      ],
      "metadata": {
        "colab": {
          "base_uri": "https://localhost:8080/"
        },
        "id": "FhTDAmAHs0MC",
        "outputId": "a4dd24f2-ff23-4fc9-c64b-68e22f9399b9"
      },
      "execution_count": null,
      "outputs": [
        {
          "output_type": "stream",
          "name": "stdout",
          "text": [
            "+-----+---+--------+---------+------------+-----------+----------+\n",
            "|Month|Day|DEP_TIME|DEP_DELAY|AIRLINE_CODE|Is_Busy_Apt|Is_Delayed|\n",
            "+-----+---+--------+---------+------------+-----------+----------+\n",
            "|    2| 12|   527.0|     -3.0|          NK|          1|       0.0|\n",
            "|    5|  5|   800.0|     -3.0|          B6|          1|       0.0|\n",
            "|   11| 12|   720.0|    -10.0|          DL|          1|       0.0|\n",
            "|   12| 28|  1835.0|     30.0|          OO|          1|       1.0|\n",
            "|    7| 18|  2254.0|     79.0|          WN|          1|       1.0|\n",
            "|    7|  3|  1350.0|    -10.0|          B6|          1|       0.0|\n",
            "|    4| 16|  1409.0|     -5.0|          MQ|          1|       0.0|\n",
            "|    2| 26|  1538.0|     -6.0|          B6|          1|       0.0|\n",
            "|    4|  2|  1310.0|     -9.0|          F9|          1|       0.0|\n",
            "|    3| 29|  1955.0|     -5.0|          UA|          1|       0.0|\n",
            "|    7|  9|  1921.0|    111.0|          B6|          1|       1.0|\n",
            "|   10| 13|   637.0|      2.0|          WN|          1|       0.0|\n",
            "|   11| 23|  1255.0|     -4.0|          DL|          1|       0.0|\n",
            "|    2|  2|  1018.0|      0.0|          G4|          1|       0.0|\n",
            "|    7|  2|  1457.0|      2.0|          OO|          1|       0.0|\n",
            "|   10| 31|  1523.0|     -7.0|          OO|          1|       0.0|\n",
            "|    4| 18|  2020.0|     60.0|          WN|          1|       1.0|\n",
            "|    3| 13|   856.0|     46.0|          B6|          1|       1.0|\n",
            "|   11| 26|  1819.0|     -1.0|          DL|          1|       0.0|\n",
            "|    2| 26|  1723.0|      7.0|          YX|          1|       1.0|\n",
            "+-----+---+--------+---------+------------+-----------+----------+\n",
            "only showing top 20 rows\n",
            "\n"
          ]
        }
      ]
    },
    {
      "cell_type": "markdown",
      "source": [
        "# 5. Vectorization & Encoding"
      ],
      "metadata": {
        "id": "qeufgN7cBBiw"
      }
    },
    {
      "cell_type": "code",
      "source": [
        "# Categorical and numerical variables\n",
        "categorical_variables = [\"AIRLINE_CODE\"]\n",
        "numerical_variables = [\"Month\", \"Day\", \"Is_Busy_Apt\", \"AIRLINE_CODE_INDEXED\"]\n",
        "target_variable = \"Is_Delayed\""
      ],
      "metadata": {
        "id": "YlADHW_3100B"
      },
      "execution_count": null,
      "outputs": []
    },
    {
      "cell_type": "code",
      "source": [
        "# Convert categorical varibale to numeric\n",
        "indexer = StringIndexer(\n",
        "    inputCol=\"AIRLINE_CODE\",\n",
        "    outputCol=\"AIRLINE_CODE_INDEXED\"\n",
        ")\n",
        "\n",
        "df = indexer.fit(df).transform(df)"
      ],
      "metadata": {
        "id": "TTwBjVg89ioK"
      },
      "execution_count": null,
      "outputs": []
    },
    {
      "cell_type": "code",
      "source": [
        "df.show(1) # Check df"
      ],
      "metadata": {
        "colab": {
          "base_uri": "https://localhost:8080/"
        },
        "id": "YdEB6fIz_rlm",
        "outputId": "97376af2-46b5-492e-e264-88a1888902b1"
      },
      "execution_count": null,
      "outputs": [
        {
          "output_type": "stream",
          "name": "stdout",
          "text": [
            "+-----+---+--------+---------+------------+-----------+----------+--------------------+\n",
            "|Month|Day|DEP_TIME|DEP_DELAY|AIRLINE_CODE|Is_Busy_Apt|Is_Delayed|AIRLINE_CODE_INDEXED|\n",
            "+-----+---+--------+---------+------------+-----------+----------+--------------------+\n",
            "|    2| 12|   527.0|     -3.0|          NK|          1|       0.0|                11.0|\n",
            "+-----+---+--------+---------+------------+-----------+----------+--------------------+\n",
            "only showing top 1 row\n",
            "\n"
          ]
        }
      ]
    },
    {
      "cell_type": "code",
      "source": [
        "# Feature's vectorization\n",
        "vectorizer = VectorAssembler(\n",
        "    inputCols= numerical_variables,\n",
        "    outputCol=\"features_vector\"\n",
        ")\n",
        "\n",
        "data = vectorizer.transform(df)"
      ],
      "metadata": {
        "id": "wJRgMc8O9ilt"
      },
      "execution_count": null,
      "outputs": []
    },
    {
      "cell_type": "code",
      "source": [
        "# Define random forest classifier model\n",
        "rf = RandomForestClassifier(\n",
        "    featuresCol=\"features_vector\",\n",
        "    labelCol=\"Is_Delayed\",\n",
        "    numTrees=200,\n",
        "    maxDepth=10\n",
        ")"
      ],
      "metadata": {
        "id": "IL4dpG0m9igr"
      },
      "execution_count": null,
      "outputs": []
    },
    {
      "cell_type": "code",
      "source": [
        "data.show() # Check data"
      ],
      "metadata": {
        "colab": {
          "base_uri": "https://localhost:8080/"
        },
        "id": "wC2pLJ-B9ijH",
        "outputId": "66807bc1-d57e-4c62-8019-ede8ebb91ec1"
      },
      "execution_count": null,
      "outputs": [
        {
          "output_type": "stream",
          "name": "stdout",
          "text": [
            "+-----+---+--------+---------+------------+-----------+----------+--------------------+-------------------+\n",
            "|Month|Day|DEP_TIME|DEP_DELAY|AIRLINE_CODE|Is_Busy_Apt|Is_Delayed|AIRLINE_CODE_INDEXED|    features_vector|\n",
            "+-----+---+--------+---------+------------+-----------+----------+--------------------+-------------------+\n",
            "|    2| 12|   527.0|     -3.0|          NK|          1|       0.0|                11.0|[2.0,12.0,1.0,11.0]|\n",
            "|    5|  5|   800.0|     -3.0|          B6|          1|       0.0|                 7.0|  [5.0,5.0,1.0,7.0]|\n",
            "|   11| 12|   720.0|    -10.0|          DL|          1|       0.0|                 1.0|[11.0,12.0,1.0,1.0]|\n",
            "|   12| 28|  1835.0|     30.0|          OO|          1|       1.0|                 3.0|[12.0,28.0,1.0,3.0]|\n",
            "|    7| 18|  2254.0|     79.0|          WN|          1|       1.0|                 0.0| [7.0,18.0,1.0,0.0]|\n",
            "|    7|  3|  1350.0|    -10.0|          B6|          1|       0.0|                 7.0|  [7.0,3.0,1.0,7.0]|\n",
            "|    4| 16|  1409.0|     -5.0|          MQ|          1|       0.0|                 6.0| [4.0,16.0,1.0,6.0]|\n",
            "|    2| 26|  1538.0|     -6.0|          B6|          1|       0.0|                 7.0| [2.0,26.0,1.0,7.0]|\n",
            "|    4|  2|  1310.0|     -9.0|          F9|          1|       0.0|                13.0| [4.0,2.0,1.0,13.0]|\n",
            "|    3| 29|  1955.0|     -5.0|          UA|          1|       0.0|                 4.0| [3.0,29.0,1.0,4.0]|\n",
            "|    7|  9|  1921.0|    111.0|          B6|          1|       1.0|                 7.0|  [7.0,9.0,1.0,7.0]|\n",
            "|   10| 13|   637.0|      2.0|          WN|          1|       0.0|                 0.0|[10.0,13.0,1.0,0.0]|\n",
            "|   11| 23|  1255.0|     -4.0|          DL|          1|       0.0|                 1.0|[11.0,23.0,1.0,1.0]|\n",
            "|    2|  2|  1018.0|      0.0|          G4|          1|       0.0|                14.0| [2.0,2.0,1.0,14.0]|\n",
            "|    7|  2|  1457.0|      2.0|          OO|          1|       0.0|                 3.0|  [7.0,2.0,1.0,3.0]|\n",
            "|   10| 31|  1523.0|     -7.0|          OO|          1|       0.0|                 3.0|[10.0,31.0,1.0,3.0]|\n",
            "|    4| 18|  2020.0|     60.0|          WN|          1|       1.0|                 0.0| [4.0,18.0,1.0,0.0]|\n",
            "|    3| 13|   856.0|     46.0|          B6|          1|       1.0|                 7.0| [3.0,13.0,1.0,7.0]|\n",
            "|   11| 26|  1819.0|     -1.0|          DL|          1|       0.0|                 1.0|[11.0,26.0,1.0,1.0]|\n",
            "|    2| 26|  1723.0|      7.0|          YX|          1|       1.0|                 5.0| [2.0,26.0,1.0,5.0]|\n",
            "+-----+---+--------+---------+------------+-----------+----------+--------------------+-------------------+\n",
            "only showing top 20 rows\n",
            "\n"
          ]
        }
      ]
    },
    {
      "cell_type": "markdown",
      "source": [
        "# 6. Training & Testing"
      ],
      "metadata": {
        "id": "7X-7yUybSlLB"
      }
    },
    {
      "cell_type": "code",
      "source": [
        "# Splitting Train/Test\n",
        "train, test = data.randomSplit([0.8, 0.2], seed=42)\n",
        "\n",
        "# Training\n",
        "model = rf.fit(train)"
      ],
      "metadata": {
        "id": "ARItE0W1Ai2W"
      },
      "execution_count": null,
      "outputs": []
    },
    {
      "cell_type": "code",
      "source": [
        "# Prediction\n",
        "predictions = model.transform(test)\n",
        "# Check predictions\n",
        "predictions.show()"
      ],
      "metadata": {
        "id": "yJIim9-LQbB_"
      },
      "execution_count": null,
      "outputs": []
    },
    {
      "cell_type": "markdown",
      "source": [
        "## 6.1 Confusion Matrix"
      ],
      "metadata": {
        "id": "NK_bd54gSwdg"
      }
    },
    {
      "cell_type": "code",
      "source": [
        "# Calculate additional metrics\n",
        "tp = predictions.filter((f.col(\"prediction\") == 1.0) & (f.col(\"Is_Delayed\") == 1.0)).count()\n",
        "fp = predictions.filter((f.col(\"prediction\") == 1.0) & (f.col(\"Is_Delayed\") == 0.0)).count()\n",
        "fn = predictions.filter((f.col(\"prediction\") == 0.0) & (f.col(\"Is_Delayed\") == 1.0)).count()\n",
        "\n",
        "# Avoid division by zero\n",
        "precision = tp / (tp + fp) if (tp + fp) != 0 else 0\n",
        "recall = tp / (tp + fn) if (tp + fn) != 0 else 0\n",
        "\n",
        "# Print the results\n",
        "print(f\"Precision: {precision}\")\n",
        "print(f\"Recall: {recall}\")"
      ],
      "metadata": {
        "id": "gJcPYxwkQ2BD"
      },
      "execution_count": null,
      "outputs": []
    },
    {
      "cell_type": "markdown",
      "source": [
        "## 6.2 Evaluation"
      ],
      "metadata": {
        "id": "3ABXAp9CSync"
      }
    },
    {
      "cell_type": "code",
      "source": [
        "# Evaluate model\n",
        "evaluator = BinaryClassificationEvaluator(\n",
        "    labelCol=\"Is_Delayed\",\n",
        "    rawPredictionCol=\"rawPrediction\",\n",
        "    metricName=\"areaUnderROC\"\n",
        ")\n",
        "\n",
        "accuracy = evaluator.evaluate(predictions)"
      ],
      "metadata": {
        "id": "-veCzWlqReUs"
      },
      "execution_count": null,
      "outputs": []
    },
    {
      "cell_type": "code",
      "source": [
        "accuracy"
      ],
      "metadata": {
        "id": "dUmYaOg6TW7R"
      },
      "execution_count": null,
      "outputs": []
    },
    {
      "cell_type": "code",
      "source": [
        "rf = RandomForestClassifier(labelCol=\"Is_Delayed\", featuresCol=\"features_vector\")\n",
        "\n",
        "# Define parameter grid\n",
        "paramGrid = (ParamGridBuilder()\n",
        "             .addGrid(rf.numTrees, [50, 100, 200])  # تعداد درخت‌ها\n",
        "             .addGrid(rf.maxDepth, [5, 10, 20])  # عمق درخت‌ها\n",
        "             .addGrid(rf.maxBins, [32, 64, 128])  # تعداد سطل‌ها\n",
        "             .build())\n",
        "\n",
        "# Define ClassificationEvaluator\n",
        "evaluator = BinaryClassificationEvaluator(labelCol=\"Is_Delayed\")\n",
        "\n",
        "crossval = CrossValidator(estimator=rf,\n",
        "                          estimatorParamMaps=paramGrid,\n",
        "                          evaluator=evaluator,\n",
        "                          numFolds=3)"
      ],
      "metadata": {
        "id": "atU6Qyz-T6g4"
      },
      "execution_count": null,
      "outputs": []
    },
    {
      "cell_type": "code",
      "source": [
        "# Train Model\n",
        "cvModel = crossval.fit(train)\n",
        "\n",
        "# Get prediction\n",
        "predictions = cvModel.transform(test)\n",
        "\n",
        "# Evaluation\n",
        "accuracy = evaluator.evaluate(predictions)\n",
        "print(f\"Model Accuracy: {accuracy}\")"
      ],
      "metadata": {
        "id": "3DA9cT0nXJQn"
      },
      "execution_count": null,
      "outputs": []
    },
    {
      "cell_type": "code",
      "source": [
        "train.show()"
      ],
      "metadata": {
        "id": "99OaOfQyXOZJ"
      },
      "execution_count": null,
      "outputs": []
    },
    {
      "cell_type": "code",
      "source": [],
      "metadata": {
        "id": "fCXaqhwxXeZS"
      },
      "execution_count": null,
      "outputs": []
    }
  ]
}